{
  "nbformat": 4,
  "nbformat_minor": 0,
  "metadata": {
    "colab": {
      "name": "installingnltk.ipynb",
      "provenance": [],
      "collapsed_sections": []
    },
    "kernelspec": {
      "name": "python3",
      "display_name": "Python 3"
    }
  },
  "cells": [
    {
      "cell_type": "code",
      "metadata": {
        "id": "dX7PctWoO2ei"
      },
      "source": [
        "import nltk"
      ],
      "execution_count": 62,
      "outputs": []
    },
    {
      "cell_type": "code",
      "metadata": {
        "colab": {
          "base_uri": "https://localhost:8080/"
        },
        "id": "8D4aZxq1PCw2",
        "outputId": "4e59ccd8-8e84-4146-acd7-072094138255"
      },
      "source": [
        "nltk.download('gutenberg')"
      ],
      "execution_count": 63,
      "outputs": [
        {
          "output_type": "stream",
          "text": [
            "[nltk_data] Downloading package gutenberg to /root/nltk_data...\n",
            "[nltk_data]   Package gutenberg is already up-to-date!\n"
          ],
          "name": "stdout"
        },
        {
          "output_type": "execute_result",
          "data": {
            "text/plain": [
              "True"
            ]
          },
          "metadata": {
            "tags": []
          },
          "execution_count": 63
        }
      ]
    },
    {
      "cell_type": "code",
      "metadata": {
        "id": "-KXHmshUPOiH"
      },
      "source": [
        "file5 = nltk.corpus.gutenberg.fileids( )[5]"
      ],
      "execution_count": 64,
      "outputs": []
    },
    {
      "cell_type": "code",
      "metadata": {
        "colab": {
          "base_uri": "https://localhost:8080/",
          "height": 35
        },
        "id": "2fI56wI_PYyK",
        "outputId": "8e343256-df12-41fd-b66e-412e896003c7"
      },
      "source": [
        "file5"
      ],
      "execution_count": 65,
      "outputs": [
        {
          "output_type": "execute_result",
          "data": {
            "application/vnd.google.colaboratory.intrinsic+json": {
              "type": "string"
            },
            "text/plain": [
              "'bryant-stories.txt'"
            ]
          },
          "metadata": {
            "tags": []
          },
          "execution_count": 65
        }
      ]
    },
    {
      "cell_type": "code",
      "metadata": {
        "id": "7n7SCvZUPoF7"
      },
      "source": [
        "emmatext = nltk.corpus.gutenberg.raw(file5)"
      ],
      "execution_count": 66,
      "outputs": []
    },
    {
      "cell_type": "code",
      "metadata": {
        "colab": {
          "base_uri": "https://localhost:8080/"
        },
        "id": "wQ880arNPujW",
        "outputId": "8a4e4298-0e31-452f-ebfc-5be8df6a3bd1"
      },
      "source": [
        "len(emmatext)"
      ],
      "execution_count": 67,
      "outputs": [
        {
          "output_type": "execute_result",
          "data": {
            "text/plain": [
              "249439"
            ]
          },
          "metadata": {
            "tags": []
          },
          "execution_count": 67
        }
      ]
    },
    {
      "cell_type": "code",
      "metadata": {
        "colab": {
          "base_uri": "https://localhost:8080/"
        },
        "id": "ndjOtMawPwtU",
        "outputId": "b4e8f6cd-39fd-4e67-c0d8-d5b2f12a1720"
      },
      "source": [
        "nltk.download('punkt')\r\n",
        "emmatokens = nltk.word_tokenize(emmatext)"
      ],
      "execution_count": 68,
      "outputs": [
        {
          "output_type": "stream",
          "text": [
            "[nltk_data] Downloading package punkt to /root/nltk_data...\n",
            "[nltk_data]   Package punkt is already up-to-date!\n"
          ],
          "name": "stdout"
        }
      ]
    },
    {
      "cell_type": "code",
      "metadata": {
        "colab": {
          "base_uri": "https://localhost:8080/"
        },
        "id": "Es5_aXAbP1cG",
        "outputId": "1809390a-f4c6-473c-a751-8b18a947923c"
      },
      "source": [
        "len(emmatokens)"
      ],
      "execution_count": 69,
      "outputs": [
        {
          "output_type": "execute_result",
          "data": {
            "text/plain": [
              "55621"
            ]
          },
          "metadata": {
            "tags": []
          },
          "execution_count": 69
        }
      ]
    },
    {
      "cell_type": "code",
      "metadata": {
        "id": "RfraaHZeQan7"
      },
      "source": [
        "emmawords = [w.lower( ) for w in emmatokens]"
      ],
      "execution_count": 70,
      "outputs": []
    },
    {
      "cell_type": "code",
      "metadata": {
        "colab": {
          "base_uri": "https://localhost:8080/"
        },
        "id": "0Z3q5rryQeQb",
        "outputId": "bd3c1aea-3c37-4c5f-e422-d09095f232f2"
      },
      "source": [
        "len(emmawords)"
      ],
      "execution_count": 71,
      "outputs": [
        {
          "output_type": "execute_result",
          "data": {
            "text/plain": [
              "55621"
            ]
          },
          "metadata": {
            "tags": []
          },
          "execution_count": 71
        }
      ]
    },
    {
      "cell_type": "code",
      "metadata": {
        "id": "Kh3LkKHXQhxm"
      },
      "source": [
        " emmavocab = sorted(set(emmawords))"
      ],
      "execution_count": 72,
      "outputs": []
    },
    {
      "cell_type": "code",
      "metadata": {
        "id": "19tRrgOnQl0q"
      },
      "source": [
        "from nltk import FreqDist"
      ],
      "execution_count": 73,
      "outputs": []
    },
    {
      "cell_type": "code",
      "metadata": {
        "id": "yNkN87lUQrki"
      },
      "source": [
        "fdist = FreqDist(emmawords)\r\n",
        "fdistkeys = list(fdist.keys())"
      ],
      "execution_count": 74,
      "outputs": []
    },
    {
      "cell_type": "code",
      "metadata": {
        "colab": {
          "base_uri": "https://localhost:8080/"
        },
        "id": "v9GHksZrQum2",
        "outputId": "06b5c491-22f0-4208-b5c4-70d74f49d9f2"
      },
      "source": [
        "fdistkeys[:30]"
      ],
      "execution_count": 75,
      "outputs": [
        {
          "output_type": "execute_result",
          "data": {
            "text/plain": [
              "['[',\n",
              " 'stories',\n",
              " 'to',\n",
              " 'tell',\n",
              " 'children',\n",
              " 'by',\n",
              " 'sara',\n",
              " 'cone',\n",
              " 'bryant',\n",
              " '1918',\n",
              " ']',\n",
              " 'two',\n",
              " 'little',\n",
              " 'riddles',\n",
              " 'in',\n",
              " 'rhyme',\n",
              " 'there',\n",
              " \"'s\",\n",
              " 'a',\n",
              " 'garden',\n",
              " 'that',\n",
              " 'i',\n",
              " 'ken',\n",
              " ',',\n",
              " 'full',\n",
              " 'of',\n",
              " 'gentlemen',\n",
              " ';',\n",
              " 'caps',\n",
              " 'blue']"
            ]
          },
          "metadata": {
            "tags": []
          },
          "execution_count": 75
        }
      ]
    },
    {
      "cell_type": "code",
      "metadata": {
        "id": "uwm3t4fsQ1YL"
      },
      "source": [
        "topkeys = fdist.most_common(30)"
      ],
      "execution_count": 76,
      "outputs": []
    },
    {
      "cell_type": "code",
      "metadata": {
        "colab": {
          "base_uri": "https://localhost:8080/"
        },
        "id": "UM8A0bItQ7hB",
        "outputId": "2c97558e-dd4b-4df7-a39f-4014c3bdfca9"
      },
      "source": [
        "for pair in topkeys:\r\n",
        "    print(pair)\r\n"
      ],
      "execution_count": 77,
      "outputs": [
        {
          "output_type": "stream",
          "text": [
            "(',', 3855)\n",
            "('the', 3449)\n",
            "('and', 2097)\n",
            "('.', 2049)\n",
            "('to', 1158)\n",
            "('a', 1028)\n",
            "('he', 1016)\n",
            "(\"''\", 970)\n",
            "('of', 818)\n",
            "('``', 805)\n",
            "('was', 720)\n",
            "('in', 640)\n",
            "('it', 614)\n",
            "('little', 596)\n",
            "('his', 551)\n",
            "('that', 531)\n",
            "('i', 531)\n",
            "(';', 520)\n",
            "('!', 475)\n",
            "('you', 462)\n",
            "('said', 453)\n",
            "('she', 409)\n",
            "('they', 396)\n",
            "('for', 339)\n",
            "('as', 327)\n",
            "('but', 308)\n",
            "('him', 296)\n",
            "('so', 295)\n",
            "('had', 295)\n",
            "('her', 291)\n"
          ],
          "name": "stdout"
        }
      ]
    },
    {
      "cell_type": "code",
      "metadata": {
        "id": "_8VsiXL_Q_-7"
      },
      "source": [
        "numwords = len(emmawords)"
      ],
      "execution_count": 78,
      "outputs": []
    },
    {
      "cell_type": "code",
      "metadata": {
        "id": "WlNoRC0aRDO8"
      },
      "source": [
        "topkeysnormalized = [(word, freq / numwords) for (word, freq) in topkeys]"
      ],
      "execution_count": 79,
      "outputs": []
    },
    {
      "cell_type": "code",
      "metadata": {
        "colab": {
          "base_uri": "https://localhost:8080/"
        },
        "id": "NYy0Y19tRFa6",
        "outputId": "418ccbf0-a853-486f-9974-2fadbac6519a"
      },
      "source": [
        "for pair in topkeysnormalized:\r\n",
        "          print(pair)\r\n"
      ],
      "execution_count": 80,
      "outputs": [
        {
          "output_type": "stream",
          "text": [
            "(',', 0.06930835475809496)\n",
            "('the', 0.06200895345283256)\n",
            "('and', 0.037701587529889787)\n",
            "('.', 0.03683860412434153)\n",
            "('to', 0.020819474658851873)\n",
            "('a', 0.01848222793549199)\n",
            "('he', 0.018266482084104925)\n",
            "(\"''\", 0.017439456320454506)\n",
            "('of', 0.014706675536218334)\n",
            "('``', 0.014472950863882346)\n",
            "('was', 0.012944751083223962)\n",
            "('in', 0.011506445407310188)\n",
            "('it', 0.011038996062638213)\n",
            "('little', 0.010715377285557614)\n",
            "('his', 0.009906330342856115)\n",
            "('that', 0.009546753923877672)\n",
            "('i', 0.009546753923877672)\n",
            "(';', 0.009348986893439529)\n",
            "('!', 0.00853993995073803)\n",
            "('you', 0.008306215278402043)\n",
            "('said', 0.008144405889861744)\n",
            "('she', 0.007353337768109167)\n",
            "('they', 0.007119613095773179)\n",
            "('for', 0.006094820301684616)\n",
            "('as', 0.00587907445029755)\n",
            "('but', 0.005537476852268028)\n",
            "('him', 0.0053217310008809625)\n",
            "('so', 0.00530375217993204)\n",
            "('had', 0.00530375217993204)\n",
            "('her', 0.005231836896136351)\n"
          ],
          "name": "stdout"
        }
      ]
    },
    {
      "cell_type": "code",
      "metadata": {
        "id": "8AllbGrsRONl"
      },
      "source": [
        ""
      ],
      "execution_count": 80,
      "outputs": []
    }
  ]
}