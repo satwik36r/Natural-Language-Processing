{
  "nbformat": 4,
  "nbformat_minor": 0,
  "metadata": {
    "colab": {
      "name": "shosaman_378000248_nlp_lab2.ipynb",
      "provenance": [],
      "collapsed_sections": []
    },
    "kernelspec": {
      "name": "python3",
      "display_name": "Python 3"
    }
  },
  "cells": [
    {
      "cell_type": "code",
      "metadata": {
        "colab": {
          "base_uri": "https://localhost:8080/"
        },
        "id": "MWwnySsxeubB",
        "outputId": "5ba14b80-47b2-4c30-ddca-d731ad2ed57b"
      },
      "source": [
        "import nltk\r\n",
        "from nltk import FreqDist\r\n",
        "nltk.download('gutenberg')\r\n",
        "nltk.download('punkt')\r\n",
        "nltk.download('stopwords')"
      ],
      "execution_count": 170,
      "outputs": [
        {
          "output_type": "stream",
          "text": [
            "[nltk_data] Downloading package gutenberg to /root/nltk_data...\n",
            "[nltk_data]   Package gutenberg is already up-to-date!\n",
            "[nltk_data] Downloading package punkt to /root/nltk_data...\n",
            "[nltk_data]   Package punkt is already up-to-date!\n",
            "[nltk_data] Downloading package stopwords to /root/nltk_data...\n",
            "[nltk_data]   Package stopwords is already up-to-date!\n"
          ],
          "name": "stdout"
        },
        {
          "output_type": "execute_result",
          "data": {
            "text/plain": [
              "True"
            ]
          },
          "metadata": {
            "tags": []
          },
          "execution_count": 170
        }
      ]
    },
    {
      "cell_type": "code",
      "metadata": {
        "colab": {
          "base_uri": "https://localhost:8080/"
        },
        "id": "ONb3uTUqfZFV",
        "outputId": "bcac7018-3e93-4dc5-ed37-bee751812a6c"
      },
      "source": [
        "print(\"List of books\"+\"\\n\")\r\n",
        "print (nltk.corpus.gutenberg.fileids( ))\r\n",
        "print(\"\\n\")\r\n",
        "file10 = nltk.corpus.gutenberg.fileids( ) [10]\r\n",
        "print(\"BOOK:\"+file10+\"\\n\")\r\n",
        "emmatext = nltk.corpus.gutenberg.raw(file10)\r\n",
        "emmatokens = nltk.word_tokenize(emmatext) \r\n",
        "emmawords = [w.lower( ) for w in emmatokens]\r\n",
        "# show the number of words and print the first 110 words\r\n",
        "print(\"Number of words:\"+str(len(emmawords))+\"\\n\")\r\n",
        "print(\"The first 100 words \\n\")\r\n",
        "print(emmawords[ :110])\r\n"
      ],
      "execution_count": 171,
      "outputs": [
        {
          "output_type": "stream",
          "text": [
            "List of books\n",
            "\n",
            "['austen-emma.txt', 'austen-persuasion.txt', 'austen-sense.txt', 'bible-kjv.txt', 'blake-poems.txt', 'bryant-stories.txt', 'burgess-busterbrown.txt', 'carroll-alice.txt', 'chesterton-ball.txt', 'chesterton-brown.txt', 'chesterton-thursday.txt', 'edgeworth-parents.txt', 'melville-moby_dick.txt', 'milton-paradise.txt', 'shakespeare-caesar.txt', 'shakespeare-hamlet.txt', 'shakespeare-macbeth.txt', 'whitman-leaves.txt']\n",
            "\n",
            "\n",
            "BOOK:chesterton-thursday.txt\n",
            "\n",
            "Number of words:69408\n",
            "\n",
            "The first 100 words \n",
            "\n",
            "['[', 'the', 'man', 'who', 'was', 'thursday', 'by', 'g.', 'k.', 'chesterton', '1908', ']', 'to', 'edmund', 'clerihew', 'bentley', 'a', 'cloud', 'was', 'on', 'the', 'mind', 'of', 'men', ',', 'and', 'wailing', 'went', 'the', 'weather', ',', 'yea', ',', 'a', 'sick', 'cloud', 'upon', 'the', 'soul', 'when', 'we', 'were', 'boys', 'together', '.', 'science', 'announced', 'nonentity', 'and', 'art', 'admired', 'decay', ';', 'the', 'world', 'was', 'old', 'and', 'ended', ':', 'but', 'you', 'and', 'i', 'were', 'gay', ';', 'round', 'us', 'in', 'antic', 'order', 'their', 'crippled', 'vices', 'came', '--', 'lust', 'that', 'had', 'lost', 'its', 'laughter', ',', 'fear', 'that', 'had', 'lost', 'its', 'shame', '.', 'like', 'the', 'white', 'lock', 'of', 'whistler', ',', 'that', 'lit', 'our', 'aimless', 'gloom', ',', 'men', 'showed', 'their', 'own', 'white', 'feather']\n"
          ],
          "name": "stdout"
        }
      ]
    },
    {
      "cell_type": "code",
      "metadata": {
        "colab": {
          "base_uri": "https://localhost:8080/"
        },
        "id": "XF9o40HRf5id",
        "outputId": "848c7163-124a-437c-abd7-517f6e8bc953"
      },
      "source": [
        "ndist = FreqDist(emmawords)\r\n",
        "nitems = ndist.most_common(30)\r\n",
        "for item in nitems:\r\n",
        "    print (item[0], '\\t', item[1])\r\n"
      ],
      "execution_count": 172,
      "outputs": [
        {
          "output_type": "stream",
          "text": [
            ", \t 4015\n",
            "the \t 3631\n",
            ". \t 3018\n",
            "a \t 1740\n",
            "of \t 1725\n",
            "and \t 1654\n",
            "'' \t 1436\n",
            "`` \t 1224\n",
            "he \t 1126\n",
            "to \t 1055\n",
            "in \t 921\n",
            "i \t 880\n",
            "that \t 869\n",
            "his \t 810\n",
            "was \t 731\n",
            "you \t 721\n",
            "it \t 716\n",
            "with \t 561\n",
            "syme \t 516\n",
            "said \t 507\n",
            "as \t 497\n",
            "is \t 476\n",
            "but \t 443\n",
            "had \t 429\n",
            "not \t 393\n",
            "at \t 345\n",
            "; \t 335\n",
            "? \t 327\n",
            "they \t 318\n",
            "for \t 317\n"
          ],
          "name": "stdout"
        }
      ]
    },
    {
      "cell_type": "code",
      "metadata": {
        "id": "J38iS0Alhf3n"
      },
      "source": [
        "emmawords2 = nltk.corpus.gutenberg.words('chesterton-thursday.txt')\r\n",
        "emmawords2lowercase = [w.lower() for w in emmawords2]\r\n"
      ],
      "execution_count": 173,
      "outputs": []
    },
    {
      "cell_type": "markdown",
      "metadata": {
        "id": "O7npiiHoCaUc"
      },
      "source": [
        ""
      ]
    },
    {
      "cell_type": "code",
      "metadata": {
        "colab": {
          "base_uri": "https://localhost:8080/"
        },
        "id": "vgb57tZ-h1h7",
        "outputId": "b7f985be-39f0-4538-dcfd-ce72bda66ce4"
      },
      "source": [
        "len(emmawords)\r\n",
        "len(emmawords2lowercase)\r\n"
      ],
      "execution_count": 174,
      "outputs": [
        {
          "output_type": "execute_result",
          "data": {
            "text/plain": [
              "69213"
            ]
          },
          "metadata": {
            "tags": []
          },
          "execution_count": 174
        }
      ]
    },
    {
      "cell_type": "code",
      "metadata": {
        "colab": {
          "base_uri": "https://localhost:8080/"
        },
        "id": "ErFd7rpth5vW",
        "outputId": "9b961da9-04ec-4d93-a15f-48957c46ea37"
      },
      "source": [
        "print(emmawords[:160])\r\n",
        "print(emmawords2lowercase[:160])\r\n"
      ],
      "execution_count": 175,
      "outputs": [
        {
          "output_type": "stream",
          "text": [
            "['[', 'the', 'man', 'who', 'was', 'thursday', 'by', 'g.', 'k.', 'chesterton', '1908', ']', 'to', 'edmund', 'clerihew', 'bentley', 'a', 'cloud', 'was', 'on', 'the', 'mind', 'of', 'men', ',', 'and', 'wailing', 'went', 'the', 'weather', ',', 'yea', ',', 'a', 'sick', 'cloud', 'upon', 'the', 'soul', 'when', 'we', 'were', 'boys', 'together', '.', 'science', 'announced', 'nonentity', 'and', 'art', 'admired', 'decay', ';', 'the', 'world', 'was', 'old', 'and', 'ended', ':', 'but', 'you', 'and', 'i', 'were', 'gay', ';', 'round', 'us', 'in', 'antic', 'order', 'their', 'crippled', 'vices', 'came', '--', 'lust', 'that', 'had', 'lost', 'its', 'laughter', ',', 'fear', 'that', 'had', 'lost', 'its', 'shame', '.', 'like', 'the', 'white', 'lock', 'of', 'whistler', ',', 'that', 'lit', 'our', 'aimless', 'gloom', ',', 'men', 'showed', 'their', 'own', 'white', 'feather', 'as', 'proudly', 'as', 'a', 'plume', '.', 'life', 'was', 'a', 'fly', 'that', 'faded', ',', 'and', 'death', 'a', 'drone', 'that', 'stung', ';', 'the', 'world', 'was', 'very', 'old', 'indeed', 'when', 'you', 'and', 'i', 'were', 'young', '.', 'they', 'twisted', 'even', 'decent', 'sin', 'to', 'shapes', 'not', 'to', 'be', 'named', ':', 'men', 'were', 'ashamed', 'of', 'honour']\n",
            "['[', 'the', 'man', 'who', 'was', 'thursday', 'by', 'g', '.', 'k', '.', 'chesterton', '1908', ']', 'to', 'edmund', 'clerihew', 'bentley', 'a', 'cloud', 'was', 'on', 'the', 'mind', 'of', 'men', ',', 'and', 'wailing', 'went', 'the', 'weather', ',', 'yea', ',', 'a', 'sick', 'cloud', 'upon', 'the', 'soul', 'when', 'we', 'were', 'boys', 'together', '.', 'science', 'announced', 'nonentity', 'and', 'art', 'admired', 'decay', ';', 'the', 'world', 'was', 'old', 'and', 'ended', ':', 'but', 'you', 'and', 'i', 'were', 'gay', ';', 'round', 'us', 'in', 'antic', 'order', 'their', 'crippled', 'vices', 'came', '--', 'lust', 'that', 'had', 'lost', 'its', 'laughter', ',', 'fear', 'that', 'had', 'lost', 'its', 'shame', '.', 'like', 'the', 'white', 'lock', 'of', 'whistler', ',', 'that', 'lit', 'our', 'aimless', 'gloom', ',', 'men', 'showed', 'their', 'own', 'white', 'feather', 'as', 'proudly', 'as', 'a', 'plume', '.', 'life', 'was', 'a', 'fly', 'that', 'faded', ',', 'and', 'death', 'a', 'drone', 'that', 'stung', ';', 'the', 'world', 'was', 'very', 'old', 'indeed', 'when', 'you', 'and', 'i', 'were', 'young', '.', 'they', 'twisted', 'even', 'decent', 'sin', 'to', 'shapes', 'not', 'to', 'be', 'named', ':', 'men', 'were', 'ashamed']\n"
          ],
          "name": "stdout"
        }
      ]
    },
    {
      "cell_type": "code",
      "metadata": {
        "id": "hZZcXB8qh-6B"
      },
      "source": [
        "import re\r\n",
        "\r\n",
        "pattern = re.compile('^[^a-z]+$')\r\n",
        "\r\n",
        "def alpha_filter(w):\r\n",
        "  # pattern to match a word of non-alphabetical characters\r\n",
        "    pattern = re.compile('^[^a-z]+$')\r\n",
        "    if (pattern.match(w)):\r\n",
        "        return True\r\n",
        "    else:\r\n",
        "        return False\r\n"
      ],
      "execution_count": 176,
      "outputs": []
    },
    {
      "cell_type": "code",
      "metadata": {
        "colab": {
          "base_uri": "https://localhost:8080/"
        },
        "id": "yWCo8LwYkQyA",
        "outputId": "afa553d5-d9d8-44fa-fcb2-0f3d92a65296"
      },
      "source": [
        "alphaemmawords = [w for w in emmawords if not alpha_filter(w)]\r\n",
        "print(len(alphaemmawords))\r\n",
        "print(alphaemmawords[:100])\r\n"
      ],
      "execution_count": 177,
      "outputs": [
        {
          "output_type": "stream",
          "text": [
            "58425\n",
            "['the', 'man', 'who', 'was', 'thursday', 'by', 'g.', 'k.', 'chesterton', 'to', 'edmund', 'clerihew', 'bentley', 'a', 'cloud', 'was', 'on', 'the', 'mind', 'of', 'men', 'and', 'wailing', 'went', 'the', 'weather', 'yea', 'a', 'sick', 'cloud', 'upon', 'the', 'soul', 'when', 'we', 'were', 'boys', 'together', 'science', 'announced', 'nonentity', 'and', 'art', 'admired', 'decay', 'the', 'world', 'was', 'old', 'and', 'ended', 'but', 'you', 'and', 'i', 'were', 'gay', 'round', 'us', 'in', 'antic', 'order', 'their', 'crippled', 'vices', 'came', 'lust', 'that', 'had', 'lost', 'its', 'laughter', 'fear', 'that', 'had', 'lost', 'its', 'shame', 'like', 'the', 'white', 'lock', 'of', 'whistler', 'that', 'lit', 'our', 'aimless', 'gloom', 'men', 'showed', 'their', 'own', 'white', 'feather', 'as', 'proudly', 'as', 'a', 'plume']\n"
          ],
          "name": "stdout"
        }
      ]
    },
    {
      "cell_type": "code",
      "metadata": {
        "colab": {
          "base_uri": "https://localhost:8080/"
        },
        "id": "UUEDxsX9kUCJ",
        "outputId": "ca86da7e-33c7-4037-a166-c0eb0671464f"
      },
      "source": [
        "nltkstopwords = nltk.corpus.stopwords.words('english')\r\n",
        "print(len(nltkstopwords))\r\n",
        "print(nltkstopwords)\r\n"
      ],
      "execution_count": 178,
      "outputs": [
        {
          "output_type": "stream",
          "text": [
            "179\n",
            "['i', 'me', 'my', 'myself', 'we', 'our', 'ours', 'ourselves', 'you', \"you're\", \"you've\", \"you'll\", \"you'd\", 'your', 'yours', 'yourself', 'yourselves', 'he', 'him', 'his', 'himself', 'she', \"she's\", 'her', 'hers', 'herself', 'it', \"it's\", 'its', 'itself', 'they', 'them', 'their', 'theirs', 'themselves', 'what', 'which', 'who', 'whom', 'this', 'that', \"that'll\", 'these', 'those', 'am', 'is', 'are', 'was', 'were', 'be', 'been', 'being', 'have', 'has', 'had', 'having', 'do', 'does', 'did', 'doing', 'a', 'an', 'the', 'and', 'but', 'if', 'or', 'because', 'as', 'until', 'while', 'of', 'at', 'by', 'for', 'with', 'about', 'against', 'between', 'into', 'through', 'during', 'before', 'after', 'above', 'below', 'to', 'from', 'up', 'down', 'in', 'out', 'on', 'off', 'over', 'under', 'again', 'further', 'then', 'once', 'here', 'there', 'when', 'where', 'why', 'how', 'all', 'any', 'both', 'each', 'few', 'more', 'most', 'other', 'some', 'such', 'no', 'nor', 'not', 'only', 'own', 'same', 'so', 'than', 'too', 'very', 's', 't', 'can', 'will', 'just', 'don', \"don't\", 'should', \"should've\", 'now', 'd', 'll', 'm', 'o', 're', 've', 'y', 'ain', 'aren', \"aren't\", 'couldn', \"couldn't\", 'didn', \"didn't\", 'doesn', \"doesn't\", 'hadn', \"hadn't\", 'hasn', \"hasn't\", 'haven', \"haven't\", 'isn', \"isn't\", 'ma', 'mightn', \"mightn't\", 'mustn', \"mustn't\", 'needn', \"needn't\", 'shan', \"shan't\", 'shouldn', \"shouldn't\", 'wasn', \"wasn't\", 'weren', \"weren't\", 'won', \"won't\", 'wouldn', \"wouldn't\"]\n"
          ],
          "name": "stdout"
        }
      ]
    },
    {
      "cell_type": "code",
      "metadata": {
        "colab": {
          "base_uri": "https://localhost:8080/"
        },
        "id": "x3SovyiBkxMD",
        "outputId": "2bba4256-dff3-4100-c18c-7dbd4c8d99d6"
      },
      "source": [
        "print(emmawords[:100])\r\n",
        "print(emmawords[15300:15310])\r\n"
      ],
      "execution_count": 179,
      "outputs": [
        {
          "output_type": "stream",
          "text": [
            "['[', 'the', 'man', 'who', 'was', 'thursday', 'by', 'g.', 'k.', 'chesterton', '1908', ']', 'to', 'edmund', 'clerihew', 'bentley', 'a', 'cloud', 'was', 'on', 'the', 'mind', 'of', 'men', ',', 'and', 'wailing', 'went', 'the', 'weather', ',', 'yea', ',', 'a', 'sick', 'cloud', 'upon', 'the', 'soul', 'when', 'we', 'were', 'boys', 'together', '.', 'science', 'announced', 'nonentity', 'and', 'art', 'admired', 'decay', ';', 'the', 'world', 'was', 'old', 'and', 'ended', ':', 'but', 'you', 'and', 'i', 'were', 'gay', ';', 'round', 'us', 'in', 'antic', 'order', 'their', 'crippled', 'vices', 'came', '--', 'lust', 'that', 'had', 'lost', 'its', 'laughter', ',', 'fear', 'that', 'had', 'lost', 'its', 'shame', '.', 'like', 'the', 'white', 'lock', 'of', 'whistler', ',', 'that', 'lit']\n",
            "['the', 'inner', 'ring', 'the', 'supremely', 'guilty', 'section', '.', 'the', 'outer']\n"
          ],
          "name": "stdout"
        }
      ]
    },
    {
      "cell_type": "code",
      "metadata": {
        "id": "GKRwyNh9lHjY"
      },
      "source": [
        "morestopwords = ['could','would','might','must','need','sha','wo','y',\"'s\",\"'d\",\"'ll\",\"'t\",\"'m\",\"'re\",\"'ve\"]"
      ],
      "execution_count": 180,
      "outputs": []
    },
    {
      "cell_type": "code",
      "metadata": {
        "colab": {
          "base_uri": "https://localhost:8080/"
        },
        "id": "7BtuVcpllKsi",
        "outputId": "4b56af21-0adb-46c6-d080-9e4dadb56b43"
      },
      "source": [
        "stopwords = nltkstopwords + morestopwords\r\n",
        "print(len(stopwords))\r\n",
        "print(stopwords)\r\n"
      ],
      "execution_count": 181,
      "outputs": [
        {
          "output_type": "stream",
          "text": [
            "194\n",
            "['i', 'me', 'my', 'myself', 'we', 'our', 'ours', 'ourselves', 'you', \"you're\", \"you've\", \"you'll\", \"you'd\", 'your', 'yours', 'yourself', 'yourselves', 'he', 'him', 'his', 'himself', 'she', \"she's\", 'her', 'hers', 'herself', 'it', \"it's\", 'its', 'itself', 'they', 'them', 'their', 'theirs', 'themselves', 'what', 'which', 'who', 'whom', 'this', 'that', \"that'll\", 'these', 'those', 'am', 'is', 'are', 'was', 'were', 'be', 'been', 'being', 'have', 'has', 'had', 'having', 'do', 'does', 'did', 'doing', 'a', 'an', 'the', 'and', 'but', 'if', 'or', 'because', 'as', 'until', 'while', 'of', 'at', 'by', 'for', 'with', 'about', 'against', 'between', 'into', 'through', 'during', 'before', 'after', 'above', 'below', 'to', 'from', 'up', 'down', 'in', 'out', 'on', 'off', 'over', 'under', 'again', 'further', 'then', 'once', 'here', 'there', 'when', 'where', 'why', 'how', 'all', 'any', 'both', 'each', 'few', 'more', 'most', 'other', 'some', 'such', 'no', 'nor', 'not', 'only', 'own', 'same', 'so', 'than', 'too', 'very', 's', 't', 'can', 'will', 'just', 'don', \"don't\", 'should', \"should've\", 'now', 'd', 'll', 'm', 'o', 're', 've', 'y', 'ain', 'aren', \"aren't\", 'couldn', \"couldn't\", 'didn', \"didn't\", 'doesn', \"doesn't\", 'hadn', \"hadn't\", 'hasn', \"hasn't\", 'haven', \"haven't\", 'isn', \"isn't\", 'ma', 'mightn', \"mightn't\", 'mustn', \"mustn't\", 'needn', \"needn't\", 'shan', \"shan't\", 'shouldn', \"shouldn't\", 'wasn', \"wasn't\", 'weren', \"weren't\", 'won', \"won't\", 'wouldn', \"wouldn't\", 'could', 'would', 'might', 'must', 'need', 'sha', 'wo', 'y', \"'s\", \"'d\", \"'ll\", \"'t\", \"'m\", \"'re\", \"'ve\"]\n"
          ],
          "name": "stdout"
        }
      ]
    },
    {
      "cell_type": "code",
      "metadata": {
        "colab": {
          "base_uri": "https://localhost:8080/"
        },
        "id": "PKrArzuUlNZm",
        "outputId": "ba54720f-f29b-4708-f287-571229563db6"
      },
      "source": [
        "stoppedemmawords = [w for w in alphaemmawords if not w in stopwords]\r\n",
        "print(len(stoppedemmawords))\r\n"
      ],
      "execution_count": 182,
      "outputs": [
        {
          "output_type": "stream",
          "text": [
            "27814\n"
          ],
          "name": "stdout"
        }
      ]
    },
    {
      "cell_type": "code",
      "metadata": {
        "id": "WJPPvzhslwvz"
      },
      "source": [
        "from nltk.collocations import *"
      ],
      "execution_count": 183,
      "outputs": []
    },
    {
      "cell_type": "code",
      "metadata": {
        "id": "PFIv-5GWl4S2"
      },
      "source": [
        "bigram_measures = nltk.collocations.BigramAssocMeasures()"
      ],
      "execution_count": 184,
      "outputs": []
    },
    {
      "cell_type": "code",
      "metadata": {
        "id": "c6I-1URDl7Ts"
      },
      "source": [
        "finder = BigramCollocationFinder.from_words(emmawords)\r\n",
        "scored = finder.score_ngrams(bigram_measures.raw_freq)\r\n"
      ],
      "execution_count": 185,
      "outputs": []
    },
    {
      "cell_type": "code",
      "metadata": {
        "colab": {
          "base_uri": "https://localhost:8080/"
        },
        "id": "vSskDDrRmEj4",
        "outputId": "5afc9f75-55e6-4717-9e18-2b1f6490fcd0"
      },
      "source": [
        "for bscore in scored[:20]:\r\n",
        "    print (bscore)"
      ],
      "execution_count": 186,
      "outputs": [
        {
          "output_type": "stream",
          "text": [
            "(('.', '``'), 0.008370792992162287)\n",
            "((',', 'and'), 0.008255532503457815)\n",
            "((',', \"''\"), 0.007463116643614569)\n",
            "(('of', 'the'), 0.00597913785154449)\n",
            "(('.', \"''\"), 0.005705394190871369)\n",
            "((\"''\", 'said'), 0.004740087597971415)\n",
            "((\"''\", '``'), 0.004480751498386353)\n",
            "((',', '``'), 0.0039764868603042874)\n",
            "(('in', 'the'), 0.0033857768556938683)\n",
            "(('.', 'he'), 0.003140848317196865)\n",
            "(('.', 'the'), 0.0029679575841401566)\n",
            "(('?', \"''\"), 0.0029391424619640387)\n",
            "(('``', 'i'), 0.0026653988012909175)\n",
            "((\"''\", 'he'), 0.0024060627017058554)\n",
            "((',', 'but'), 0.0022908022130013832)\n",
            "(('!', \"''\"), 0.0022763946519133243)\n",
            "(('.', 'i'), 0.0022763946519133243)\n",
            "(('with', 'a'), 0.002103503918856616)\n",
            "(('in', 'a'), 0.0019450207468879668)\n",
            "(('said', 'the'), 0.0019450207468879668)\n"
          ],
          "name": "stdout"
        }
      ]
    },
    {
      "cell_type": "code",
      "metadata": {
        "colab": {
          "base_uri": "https://localhost:8080/"
        },
        "id": "bpBDwX2zmLAB",
        "outputId": "0b525a80-cc9c-4372-f7ef-a77a7c8959e4"
      },
      "source": [
        "finder.apply_word_filter(alpha_filter)\r\n",
        "scored = finder.score_ngrams(bigram_measures.raw_freq)\r\n",
        "for bscore in scored[:20]:\r\n",
        "    print (bscore)\r\n"
      ],
      "execution_count": 187,
      "outputs": [
        {
          "output_type": "stream",
          "text": [
            "(('of', 'the'), 0.00597913785154449)\n",
            "(('in', 'the'), 0.0033857768556938683)\n",
            "(('with', 'a'), 0.002103503918856616)\n",
            "(('in', 'a'), 0.0019450207468879668)\n",
            "(('said', 'the'), 0.0019450207468879668)\n",
            "(('to', 'the'), 0.0018873905025357308)\n",
            "(('of', 'a'), 0.0018441678192715537)\n",
            "(('he', 'was'), 0.0016856846473029046)\n",
            "(('on', 'the'), 0.0016856846473029046)\n",
            "(('said', 'syme'), 0.0016856846473029046)\n",
            "(('and', 'the'), 0.0016568695251267865)\n",
            "(('he', 'said'), 0.0016424619640387275)\n",
            "(('the', 'professor'), 0.0015848317196864915)\n",
            "(('at', 'the'), 0.0015560165975103733)\n",
            "(('he', 'had'), 0.0015416090364223144)\n",
            "(('it', 'was'), 0.0014983863531581375)\n",
            "(('it', 'is'), 0.0014695712309820193)\n",
            "(('like', 'a'), 0.0014551636698939604)\n",
            "(('i', 'am'), 0.0014119409866297833)\n",
            "(('was', 'a'), 0.0012822729368372522)\n"
          ],
          "name": "stdout"
        }
      ]
    },
    {
      "cell_type": "code",
      "metadata": {
        "colab": {
          "base_uri": "https://localhost:8080/"
        },
        "id": "KOcF7UPWOkcH",
        "outputId": "f054c9f8-9feb-45ae-c7a9-1f5e21bd74fd"
      },
      "source": [
        "finder.apply_word_filter(alpha_filter)\r\n",
        "scored = finder.score_ngrams(bigram_measures.pmi)\r\n",
        "for bscore in scored[:20]:\r\n",
        "    print (bscore)\r\n"
      ],
      "execution_count": 188,
      "outputs": [
        {
          "output_type": "stream",
          "text": [
            "((\"'your\", 'claptrap'), 16.082814337672275)\n",
            "(('abandoned', 'boardroom'), 16.082814337672275)\n",
            "(('accidental', 'dilemmas'), 16.082814337672275)\n",
            "(('additional', 'twist'), 16.082814337672275)\n",
            "(('admiral', 'biffin'), 16.082814337672275)\n",
            "(('airless', 'vacuum'), 16.082814337672275)\n",
            "(('alphabetical', 'cypher'), 16.082814337672275)\n",
            "(('alpine', 'peak'), 16.082814337672275)\n",
            "(('alternate', 'angles'), 16.082814337672275)\n",
            "(('anonymous', 'poison'), 16.082814337672275)\n",
            "(('asthmatic', 'breathing'), 16.082814337672275)\n",
            "(('baron', 'zumpt'), 16.082814337672275)\n",
            "(('bowing', 'repeatedly'), 16.082814337672275)\n",
            "(('bridegroom', 'brilliancy'), 16.082814337672275)\n",
            "((\"brother's\", 'braids'), 16.082814337672275)\n",
            "(('bruised', 'limbs'), 16.082814337672275)\n",
            "(('bulwer', 'lytton'), 16.082814337672275)\n",
            "(('businesslike', 'brevity'), 16.082814337672275)\n",
            "(('careful', 'resumption'), 16.082814337672275)\n",
            "(('carnation', 'withered'), 16.082814337672275)\n"
          ],
          "name": "stdout"
        }
      ]
    },
    {
      "cell_type": "code",
      "metadata": {
        "colab": {
          "base_uri": "https://localhost:8080/"
        },
        "id": "dVLpYEFCmPV4",
        "outputId": "5bc377b0-a355-4f1d-f1f4-0d5bf9f53bc7"
      },
      "source": [
        "finder.apply_word_filter(lambda w: w in stopwords)\r\n",
        "scored = finder.score_ngrams(bigram_measures.raw_freq)\r\n",
        "for bscore in scored[:20]:\r\n",
        "    print (bscore)\r\n"
      ],
      "execution_count": 189,
      "outputs": [
        {
          "output_type": "stream",
          "text": [
            "(('said', 'syme'), 0.0016856846473029046)\n",
            "(('dr.', 'bull'), 0.0009220839096357768)\n",
            "(('ca', \"n't\"), 0.00040341171046565235)\n",
            "(('asked', 'syme'), 0.00037459658828953437)\n",
            "(('said', 'dr.'), 0.00036018902720147536)\n",
            "(('de', 'worms'), 0.0003169663439372983)\n",
            "(('professor', 'de'), 0.0002449285384970032)\n",
            "(('said', 'gregory'), 0.0002449285384970032)\n",
            "(('comrade', 'gregory'), 0.00020170585523282618)\n",
            "(('old', 'man'), 0.00018729829414476719)\n",
            "(('dr.', 'renard'), 0.00017289073305670817)\n",
            "(('let', 'us'), 0.00017289073305670817)\n",
            "(('looked', 'like'), 0.00017289073305670817)\n",
            "((\"n't\", 'know'), 0.00017289073305670817)\n",
            "(('mr.', 'syme'), 0.00015848317196864915)\n",
            "(('old', 'gentleman'), 0.00015848317196864915)\n",
            "(('red', 'hair'), 0.00015848317196864915)\n",
            "(('colonel', 'ducroix'), 0.00014407561088059014)\n",
            "(('blue', 'eyes'), 0.00012966804979253112)\n",
            "(('cried', 'syme'), 0.00012966804979253112)\n"
          ],
          "name": "stdout"
        }
      ]
    },
    {
      "cell_type": "code",
      "metadata": {
        "colab": {
          "base_uri": "https://localhost:8080/"
        },
        "id": "eDia20MVmknF",
        "outputId": "429e06b8-3729-4ca3-c2b0-be0787a00093"
      },
      "source": [
        "finder2 = BigramCollocationFinder.from_words(emmawords)\r\n",
        "finder2.apply_ngram_filter(lambda w1, w2: len(w1) < 2)\r\n",
        "scored = finder2.score_ngrams(bigram_measures.raw_freq)\r\n",
        "for bscore in scored[:20]:\r\n",
        "    print (bscore)\r\n"
      ],
      "execution_count": 190,
      "outputs": [
        {
          "output_type": "stream",
          "text": [
            "(('of', 'the'), 0.00597913785154449)\n",
            "((\"''\", 'said'), 0.004740087597971415)\n",
            "((\"''\", '``'), 0.004480751498386353)\n",
            "(('in', 'the'), 0.0033857768556938683)\n",
            "(('``', 'i'), 0.0026653988012909175)\n",
            "((\"''\", 'he'), 0.0024060627017058554)\n",
            "(('with', 'a'), 0.002103503918856616)\n",
            "(('in', 'a'), 0.0019450207468879668)\n",
            "(('said', 'the'), 0.0019450207468879668)\n",
            "(('to', 'the'), 0.0018873905025357308)\n",
            "(('of', 'a'), 0.0018441678192715537)\n",
            "(('--', \"''\"), 0.0017289073305670815)\n",
            "(('he', 'was'), 0.0016856846473029046)\n",
            "(('on', 'the'), 0.0016856846473029046)\n",
            "(('said', 'syme'), 0.0016856846473029046)\n",
            "(('and', 'the'), 0.0016568695251267865)\n",
            "(('he', 'said'), 0.0016424619640387275)\n",
            "(('syme', ','), 0.0016424619640387275)\n",
            "(('the', 'professor'), 0.0015848317196864915)\n",
            "(('at', 'the'), 0.0015560165975103733)\n"
          ],
          "name": "stdout"
        }
      ]
    },
    {
      "cell_type": "code",
      "metadata": {
        "id": "Ek4JScShmo6v",
        "colab": {
          "base_uri": "https://localhost:8080/"
        },
        "outputId": "08f47467-eab0-4e3f-ea27-0c196eeacbb8"
      },
      "source": [
        "finder2.apply_ngram_filter(lambda w1, w2: len(w1) < 2)\r\n",
        "scored = finder2.score_ngrams(bigram_measures.pmi)\r\n",
        "for bscore in scored[:20]:\r\n",
        "    print (bscore)"
      ],
      "execution_count": 191,
      "outputs": [
        {
          "output_type": "stream",
          "text": [
            "((\"'your\", 'claptrap'), 16.082814337672275)\n",
            "(('1908', ']'), 16.082814337672275)\n",
            "(('217', 'peabody'), 16.082814337672275)\n",
            "(('abandoned', 'boardroom'), 16.082814337672275)\n",
            "(('accidental', 'dilemmas'), 16.082814337672275)\n",
            "(('additional', 'twist'), 16.082814337672275)\n",
            "(('admiral', 'biffin'), 16.082814337672275)\n",
            "(('airless', 'vacuum'), 16.082814337672275)\n",
            "(('alphabetical', 'cypher'), 16.082814337672275)\n",
            "(('alpine', 'peak'), 16.082814337672275)\n",
            "(('alternate', 'angles'), 16.082814337672275)\n",
            "(('anonymous', 'poison'), 16.082814337672275)\n",
            "(('asthmatic', 'breathing'), 16.082814337672275)\n",
            "(('baron', 'zumpt'), 16.082814337672275)\n",
            "(('bowing', 'repeatedly'), 16.082814337672275)\n",
            "(('bridegroom', 'brilliancy'), 16.082814337672275)\n",
            "((\"brother's\", 'braids'), 16.082814337672275)\n",
            "(('bruised', 'limbs'), 16.082814337672275)\n",
            "(('bulwer', 'lytton'), 16.082814337672275)\n",
            "(('businesslike', 'brevity'), 16.082814337672275)\n"
          ],
          "name": "stdout"
        }
      ]
    },
    {
      "cell_type": "code",
      "metadata": {
        "id": "zIjWyIkDm-yr"
      },
      "source": [
        ""
      ],
      "execution_count": 191,
      "outputs": []
    }
  ]
}