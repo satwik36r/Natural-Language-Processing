{
  "nbformat": 4,
  "nbformat_minor": 0,
  "metadata": {
    "colab": {
      "name": " NLP lab 5 shosaman",
      "provenance": [],
      "collapsed_sections": []
    },
    "kernelspec": {
      "name": "python3",
      "display_name": "Python 3"
    }
  },
  "cells": [
    {
      "cell_type": "code",
      "metadata": {
        "id": "IhKDd3I9ShZJ"
      },
      "source": [
        "# Lab Week 5 - Context Free Grammars and Parsing in the NLTK\r\n",
        "# This file has small examples that are meant to be run individually\r\n",
        "#   in the Python shell\r\n"
      ],
      "execution_count": 1,
      "outputs": []
    },
    {
      "cell_type": "code",
      "metadata": {
        "id": "z6Kz10ClJnWC"
      },
      "source": [
        "import nltk\r\n",
        "\r\n",
        "## write your own grammars\r\n",
        "grammar = nltk.CFG.fromstring(\"\"\"\r\n",
        "  S -> NP VP\r\n",
        "  VP -> V NP | V NP PP\r\n",
        "  PP -> P NP\r\n",
        "  V -> \"saw\" | \"ate\" | \"walked\"\r\n",
        "  NP -> Prop | Det N | Det N PP\r\n",
        "  Prop -> \"John\" | \"Mary\" | \"Bob\" \r\n",
        "  Det -> \"a\" | \"an\" | \"the\" | \"my\"\r\n",
        "  N -> \"man\" | \"dog\" | \"cat\" | \"telescope\" | \"park\"\r\n",
        "  P -> \"in\" | \"on\" | \"by\" | \"with\"\r\n",
        "  \"\"\")"
      ],
      "execution_count": 2,
      "outputs": []
    },
    {
      "cell_type": "code",
      "metadata": {
        "id": "SUc29fUnK0FX"
      },
      "source": [
        "# top-down method: recursive descent parsing\r\n",
        "# create the parser from a grammar\r\n",
        "rd_parser = nltk.RecursiveDescentParser(grammar)"
      ],
      "execution_count": 3,
      "outputs": []
    },
    {
      "cell_type": "code",
      "metadata": {
        "colab": {
          "base_uri": "https://localhost:8080/"
        },
        "id": "vI5lzvRwK2bc",
        "outputId": "dde9d0ec-879f-48bf-b0a4-ca19dd6fc80b"
      },
      "source": [
        "# make an example sentence text\r\n",
        "senttext = \"Mary saw Bob\"\r\n",
        "# tokenize the sentence by splitting on white space\r\n",
        "#      use nltk.word_tokenize() for more complex example sentences\r\n",
        "sentlist = senttext.split()\r\n",
        "print(sentlist)\r\n"
      ],
      "execution_count": 4,
      "outputs": [
        {
          "output_type": "stream",
          "text": [
            "['Mary', 'saw', 'Bob']\n"
          ],
          "name": "stdout"
        }
      ]
    },
    {
      "cell_type": "code",
      "metadata": {
        "id": "cxO_NlmmK-st"
      },
      "source": [
        "# run the parse function on the list of tokens\r\n",
        "trees = rd_parser.parse(sentlist)\r\n",
        "# convert the generator to a list\r\n",
        "treelist = list(trees)"
      ],
      "execution_count": 5,
      "outputs": []
    },
    {
      "cell_type": "code",
      "metadata": {
        "colab": {
          "base_uri": "https://localhost:8080/"
        },
        "id": "3ums366dLOZa",
        "outputId": "d1ed1fa0-ba9a-4062-92b4-bf7e0a23117e"
      },
      "source": [
        "# what type is an individual tree?\r\n",
        "print(type(treelist[0]))\r\n",
        "# print the tree structures\r\n",
        "for tree in treelist:\r\n",
        "\tprint (tree)"
      ],
      "execution_count": 6,
      "outputs": [
        {
          "output_type": "stream",
          "text": [
            "<class 'nltk.tree.Tree'>\n",
            "(S (NP (Prop Mary)) (VP (V saw) (NP (Prop Bob))))\n"
          ],
          "name": "stdout"
        }
      ]
    },
    {
      "cell_type": "code",
      "metadata": {
        "colab": {
          "base_uri": "https://localhost:8080/"
        },
        "id": "KJ0x6YSsLRVZ",
        "outputId": "e24371dd-1207-4e63-fe2a-0a5ca93e8570"
      },
      "source": [
        "# try an ambiguous sentence\r\n",
        "sent2list = \"John saw the man in the park with a telescope\".split()\r\n",
        "for tree in rd_parser.parse(sent2list):\r\n",
        "\tprint (tree)\r\n"
      ],
      "execution_count": 7,
      "outputs": [
        {
          "output_type": "stream",
          "text": [
            "(S\n",
            "  (NP (Prop John))\n",
            "  (VP\n",
            "    (V saw)\n",
            "    (NP\n",
            "      (Det the)\n",
            "      (N man)\n",
            "      (PP\n",
            "        (P in)\n",
            "        (NP\n",
            "          (Det the)\n",
            "          (N park)\n",
            "          (PP (P with) (NP (Det a) (N telescope))))))))\n",
            "(S\n",
            "  (NP (Prop John))\n",
            "  (VP\n",
            "    (V saw)\n",
            "    (NP (Det the) (N man))\n",
            "    (PP\n",
            "      (P in)\n",
            "      (NP\n",
            "        (Det the)\n",
            "        (N park)\n",
            "        (PP (P with) (NP (Det a) (N telescope)))))))\n",
            "(S\n",
            "  (NP (Prop John))\n",
            "  (VP\n",
            "    (V saw)\n",
            "    (NP (Det the) (N man) (PP (P in) (NP (Det the) (N park))))\n",
            "    (PP (P with) (NP (Det a) (N telescope)))))\n"
          ],
          "name": "stdout"
        }
      ]
    },
    {
      "cell_type": "code",
      "metadata": {
        "id": "U83ehSUELdkQ"
      },
      "source": [
        "# extend the grammar with more words (I, elephant, pajamas)\r\n",
        "groucho_grammar = nltk.CFG.fromstring(\"\"\"\r\n",
        "  S -> NP VP\r\n",
        "  VP -> V NP | V NP PP\r\n",
        "  PP -> P NP\r\n",
        "  V -> \"saw\" | \"ate\" | \"walked\" | \"shot\"\r\n",
        "  NP -> Prop | Det N | Det N PP\r\n",
        "  Prop -> \"John\" | \"Mary\" | \"Bob\" | \"I\"\r\n",
        "  Det -> \"a\" | \"an\" | \"the\" | \"my\"\r\n",
        "  N -> \"man\" | \"dog\" | \"cat\" | \"telescope\" | \"park\" | \"elephant\" | \"pajamas\"\r\n",
        "  P -> \"in\" | \"on\" | \"by\" | \"with\"\r\n",
        "  \"\"\")\r\n"
      ],
      "execution_count": 8,
      "outputs": []
    },
    {
      "cell_type": "code",
      "metadata": {
        "id": "2v3ntrofLgPW"
      },
      "source": [
        "# if we change the grammar, we create a new parser\r\n",
        "rd_parser = nltk.RecursiveDescentParser(groucho_grammar)\r\n"
      ],
      "execution_count": 9,
      "outputs": []
    },
    {
      "cell_type": "code",
      "metadata": {
        "colab": {
          "base_uri": "https://localhost:8080/"
        },
        "id": "8UBSi_p3LnBf",
        "outputId": "dd38b52d-f53b-4a1e-9fe4-b7e10a42861a"
      },
      "source": [
        "# try sent4 with the recursive descent parser on groucho grammar\r\n",
        "sent4list = \"I shot an elephant in my pajamas\".split()\r\n",
        "for tree in rd_parser.parse(sent4list):\r\n",
        "\tprint (tree)\r\n",
        "\r\n"
      ],
      "execution_count": 10,
      "outputs": [
        {
          "output_type": "stream",
          "text": [
            "(S\n",
            "  (NP (Prop I))\n",
            "  (VP\n",
            "    (V shot)\n",
            "    (NP (Det an) (N elephant) (PP (P in) (NP (Det my) (N pajamas))))))\n",
            "(S\n",
            "  (NP (Prop I))\n",
            "  (VP\n",
            "    (V shot)\n",
            "    (NP (Det an) (N elephant))\n",
            "    (PP (P in) (NP (Det my) (N pajamas)))))\n"
          ],
          "name": "stdout"
        }
      ]
    },
    {
      "cell_type": "code",
      "metadata": {
        "id": "Oc1ZK6QSLpkK"
      },
      "source": [
        "# extend the grammar for the flight grammar:  adding a rule to S and some words\r\n",
        "flight_grammar = nltk.CFG.fromstring(\"\"\"\r\n",
        "  S -> NP VP | VP\r\n",
        "  VP -> V NP | V NP PP\r\n",
        "  PP -> P NP\r\n",
        "  V -> \"saw\" | \"ate\" | \"walked\" | \"shot\" | \"book\"\r\n",
        "  NP -> Prop | Det N | Det N PP\r\n",
        "  Prop -> \"John\" | \"Mary\" | \"Bob\" | \"I\"\r\n",
        "  Det -> \"a\" | \"an\" | \"the\" | \"my\" | \"that\"\r\n",
        "  N -> \"man\" | \"dog\" | \"cat\" | \"telescope\" | \"park\" | \"elephant\" | \"pajamas\" | \"flight\"\r\n",
        "  P -> \"in\" | \"on\" | \"by\" | \"with\"\r\n",
        "  \"\"\")"
      ],
      "execution_count": 11,
      "outputs": []
    },
    {
      "cell_type": "code",
      "metadata": {
        "colab": {
          "base_uri": "https://localhost:8080/"
        },
        "id": "aFgmmS1RLrQu",
        "outputId": "cc468645-0d97-42fd-b120-ebfe85cae753"
      },
      "source": [
        "# make a recursive descent parser and parse the sentence\r\n",
        "rd_parser = nltk.RecursiveDescentParser(flight_grammar)\r\n",
        "sent5list = 'book that flight'.split()\r\n",
        "for tree in rd_parser.parse(sent5list):\r\n",
        "\tprint (tree)"
      ],
      "execution_count": 12,
      "outputs": [
        {
          "output_type": "stream",
          "text": [
            "(S (VP (V book) (NP (Det that) (N flight))))\n"
          ],
          "name": "stdout"
        }
      ]
    },
    {
      "cell_type": "code",
      "metadata": {
        "id": "AcF26Qh-Ltnm"
      },
      "source": [
        "## Probabilistic CFG with verb subcategories\r\n",
        "#    for transitive (TranV), intransitive (InV) and dative (DatV) verbs\r\n",
        "prob_grammar = nltk.PCFG.fromstring(\"\"\"\r\n",
        "  S -> NP VP [0.9]| VP  [0.1]\r\n",
        "  VP -> TranV NP [0.3]\r\n",
        "  VP -> InV  [0.3]\r\n",
        "  VP -> DatV NP PP  [0.4]\r\n",
        "  PP -> P NP   [1.0]\r\n",
        "  TranV -> \"saw\" [0.2] | \"ate\" [0.2] | \"walked\" [0.2] | \"shot\" [0.2] | \"book\" [0.2]\r\n",
        "  InV -> \"ate\" [0.5] | \"walked\" [0.5]\r\n",
        "  DatV -> \"gave\" [0.2] | \"ate\" [0.2] | \"saw\" [0.2] | \"walked\" [0.2] | \"shot\" [0.2]\r\n",
        "  NP -> Prop [0.2]| Det N [0.4] | Det N PP [0.4]\r\n",
        "  Prop -> \"John\" [0.25]| \"Mary\" [0.25] | \"Bob\" [0.25] | \"I\" [0.25] \r\n",
        "  Det -> \"a\" [0.2] | \"an\" [0.2] | \"the\" [0.2] | \"my\" [0.2] | \"that\" [0.2]\r\n",
        "  N -> \"man\" [0.15] | \"dog\" [0.15] | \"cat\" [0.15] | \"park\" [0.15] | \"telescope\" [0.1] | \"flight\" [0.1] | \"elephant\" [0.1] | \"pajamas\" [0.1]\r\n",
        "  P -> \"in\" [0.2] | \"on\" [0.2] | \"by\" [0.2] | \"with\" [0.2] | \"through\" [0.2]\r\n",
        "  \"\"\")\r\n"
      ],
      "execution_count": 13,
      "outputs": []
    },
    {
      "cell_type": "code",
      "metadata": {
        "id": "bKi6XipHRhr6",
        "colab": {
          "base_uri": "https://localhost:8080/"
        },
        "outputId": "6f601167-d640-4abc-dbd4-c15b58653a2c"
      },
      "source": [
        "# create a viterbi parser, a parser that expects a PCFG\r\n",
        "viterbi_parser = nltk.ViterbiParser(prob_grammar)\r\n",
        "# use its parse function on a list of tokens\r\n",
        "for tree in viterbi_parser.parse(['John', 'saw', 'a', 'telescope']):\r\n",
        "    print (tree)\r\n"
      ],
      "execution_count": 14,
      "outputs": [
        {
          "output_type": "stream",
          "text": [
            "(S\n",
            "  (NP (Prop John))\n",
            "  (VP (TranV saw) (NP (Det a) (N telescope)))) (p=2.16e-05)\n"
          ],
          "name": "stdout"
        }
      ]
    },
    {
      "cell_type": "code",
      "metadata": {
        "id": "hXh0qXz1Rm8s",
        "colab": {
          "base_uri": "https://localhost:8080/"
        },
        "outputId": "deae6caf-76d4-45a6-d6df-bc5dabe486d8"
      },
      "source": [
        "# parse some other sentences\r\n",
        "# this parser chooses to return the highest probability tree\r\n",
        "for tree in viterbi_parser.parse(sent2list):\r\n",
        "    print (tree)\r\n"
      ],
      "execution_count": 15,
      "outputs": [
        {
          "output_type": "stream",
          "text": [
            "(S\n",
            "  (NP (Prop John))\n",
            "  (VP\n",
            "    (DatV saw)\n",
            "    (NP\n",
            "      (Det the)\n",
            "      (N man)\n",
            "      (PP (P in) (NP (Det the) (N park))))\n",
            "    (PP (P with) (NP (Det a) (N telescope))))) (p=1.65888e-10)\n"
          ],
          "name": "stdout"
        }
      ]
    },
    {
      "cell_type": "code",
      "metadata": {
        "colab": {
          "base_uri": "https://localhost:8080/"
        },
        "id": "d5EIp6LjcAzT",
        "outputId": "8d014f2a-706d-4348-8c65-c1eaeb67bd0b"
      },
      "source": [
        "for tree in viterbi_parser.parse(sent4list):\r\n",
        "    print (tree)\r\n"
      ],
      "execution_count": 16,
      "outputs": [
        {
          "output_type": "stream",
          "text": [
            "(S\n",
            "  (NP (Prop I))\n",
            "  (VP\n",
            "    (DatV shot)\n",
            "    (NP (Det an) (N elephant))\n",
            "    (PP (P in) (NP (Det my) (N pajamas))))) (p=4.608e-08)\n"
          ],
          "name": "stdout"
        }
      ]
    },
    {
      "cell_type": "code",
      "metadata": {
        "id": "PNjP3ggpceGq",
        "colab": {
          "base_uri": "https://localhost:8080/"
        },
        "outputId": "aa8cf3b8-35d3-45d1-f1bb-d3e41ce80ca5"
      },
      "source": [
        "## Look at Dependency grammars in the NLTK book, section 8.5\r\n",
        "# a dependency grammar for the groucho example\r\n",
        "# note difficulty of writing rules for every word dependency\r\n",
        "groucho_dep_grammar = nltk.DependencyGrammar.fromstring(\"\"\"\r\n",
        "  'shot' -> 'I' | 'elephant' | 'in'\r\n",
        "  'elephant' -> 'an' | 'in'\r\n",
        "  'in' -> 'pajamas'\r\n",
        "  'pajamas' -> 'my'\r\n",
        "  \"\"\")\r\n",
        "print (groucho_dep_grammar)"
      ],
      "execution_count": 17,
      "outputs": [
        {
          "output_type": "stream",
          "text": [
            "Dependency grammar with 7 productions\n",
            "  'shot' -> 'I'\n",
            "  'shot' -> 'elephant'\n",
            "  'shot' -> 'in'\n",
            "  'elephant' -> 'an'\n",
            "  'elephant' -> 'in'\n",
            "  'in' -> 'pajamas'\n",
            "  'pajamas' -> 'my'\n"
          ],
          "name": "stdout"
        }
      ]
    },
    {
      "cell_type": "code",
      "metadata": {
        "colab": {
          "base_uri": "https://localhost:8080/"
        },
        "id": "i5slqfMKl_yN",
        "outputId": "a431d625-392c-4250-861b-11084d5f3c69"
      },
      "source": [
        "# make a recursive descent parser and parse the sentence\r\n",
        "rd_parser = nltk.RecursiveDescentParser(flight_grammar)\r\n",
        "sent8list = 'John gave the dog a bone'.split()\r\n",
        "for tree in rd_parser.parse(sent8list):\r\n",
        "\tprint (tree)"
      ],
      "execution_count": null,
      "outputs": [
        {
          "output_type": "stream",
          "text": [
            "(S\n",
            "  (NP (Prop John))\n",
            "  (VP (V gave) (NP (Det the) (N dog)) (NP (Det a) (N bone))))\n",
            "(S\n",
            "  (NP (Prop John))\n",
            "  (VP (V gave) (NP (Det the) (N dog)) (NP (Det a) (N bone))))\n",
            "(S\n",
            "  (NP (Prop John))\n",
            "  (VP (V gave) (NP (Det the) (N dog)) (NP (Det a) (N bone))))\n",
            "(S\n",
            "  (NP (Prop John))\n",
            "  (VP (V gave) (NP (Det the) (N dog)) (NP (Det a) (N bone))))\n"
          ],
          "name": "stdout"
        }
      ]
    },
    {
      "cell_type": "code",
      "metadata": {
        "colab": {
          "base_uri": "https://localhost:8080/"
        },
        "id": "D_UyUkYA1Pu4",
        "outputId": "3d6c180e-e28b-4cf8-f664-828e416cecab"
      },
      "source": [
        "# create a dependency parser, assumes sentence is projective\r\n",
        "pdp = nltk.ProjectiveDependencyParser(groucho_dep_grammar)\r\n",
        "glist = 'I shot an elephant in my pajamas'.split()\r\n",
        "# use the parse function to parse a list of tokens\r\n",
        "trees = pdp.parse(glist)\r\n",
        "for tree in trees:\r\n",
        "    print (tree)"
      ],
      "execution_count": 18,
      "outputs": [
        {
          "output_type": "stream",
          "text": [
            "(shot I (elephant an (in (pajamas my))))\n",
            "(shot I (elephant an) (in (pajamas my)))\n"
          ],
          "name": "stdout"
        }
      ]
    },
    {
      "cell_type": "code",
      "metadata": {
        "id": "OHV2PFdQ1hsz"
      },
      "source": [
        "# Define sentences for the question\r\n",
        "sentex1 = \"I prefer a flight through Houston\".split()\r\n",
        "sentex2 = \"Jack walked with the dog\".split()\r\n",
        "sentex3 = \"John gave the dog a bone\".split()\r\n",
        "sentex4 = \"I want to book that flight\".split()"
      ],
      "execution_count": 19,
      "outputs": []
    },
    {
      "cell_type": "code",
      "metadata": {
        "id": "EabRKI9v6TzW"
      },
      "source": [
        "# Extend the grammar for the flight grammar:  adding VP -> V PP to account for sentex2 \r\n",
        "#\r\n",
        "# Extend the grammar for the flight grammar:  adding VP -> V NP NP to account for sentex3 \r\n",
        "#\r\n",
        "# Extend the grammar for the flight grammar:  adding PP -> P VP to account for sentex4 \r\n",
        "#\r\n",
        "#\r\n",
        "flight_grammar = nltk.CFG.fromstring(\"\"\"\r\n",
        "  S -> NP VP | VP\r\n",
        "  VP -> V NP | V NP PP | V PP | V NP NP\r\n",
        "  PP -> P NP | P VP\r\n",
        "  V -> \"saw\" | \"ate\" | \"walked\" | \"shot\" | \"book\" | \"prefer\" | \"gave\" | \"want\"\r\n",
        "  NP -> Prop | Det N | Det N PP\r\n",
        "  Prop -> \"John\" | \"Mary\" | \"Bob\" | \"I\" | \"Houston\" | \"Jack\"\r\n",
        "  Det -> \"a\" | \"an\" | \"the\" | \"my\" | \"that\"\r\n",
        "  N -> \"man\" | \"dog\" | \"cat\" | \"telescope\" | \"park\" | \"elephant\" | \"pajamas\" | \"flight\" | \"bone\"\r\n",
        "  P -> \"in\" | \"on\" | \"by\" | \"with\" | \"through\" | \"to\"\r\n",
        "  \"\"\")"
      ],
      "execution_count": 22,
      "outputs": []
    },
    {
      "cell_type": "code",
      "metadata": {
        "id": "x0ebHC-n6oLC",
        "colab": {
          "base_uri": "https://localhost:8080/"
        },
        "outputId": "03adf657-4ef2-4a87-b565-3238e6678ef1"
      },
      "source": [
        "# redefine rd_parser when you change the flight grammar\r\n",
        "rd_parser = nltk.RecursiveDescentParser(flight_grammar)\r\n",
        "for tree in rd_parser.parse(sentex1):   print (tree)\r\n"
      ],
      "execution_count": 23,
      "outputs": [
        {
          "output_type": "stream",
          "text": [
            "(S\n",
            "  (NP (Prop I))\n",
            "  (VP\n",
            "    (V prefer)\n",
            "    (NP (Det a) (N flight) (PP (P through) (NP (Prop Houston))))))\n",
            "(S\n",
            "  (NP (Prop I))\n",
            "  (VP\n",
            "    (V prefer)\n",
            "    (NP (Det a) (N flight))\n",
            "    (PP (P through) (NP (Prop Houston)))))\n"
          ],
          "name": "stdout"
        }
      ]
    },
    {
      "cell_type": "code",
      "metadata": {
        "id": "a6Z6h9zd6zTH",
        "colab": {
          "base_uri": "https://localhost:8080/"
        },
        "outputId": "4b63b9bb-8d9c-41a7-dc48-1c43d580578f"
      },
      "source": [
        "for tree in rd_parser.parse(sentex2):   print (tree)\r\n"
      ],
      "execution_count": 24,
      "outputs": [
        {
          "output_type": "stream",
          "text": [
            "(S\n",
            "  (NP (Prop Jack))\n",
            "  (VP (V walked) (PP (P with) (NP (Det the) (N dog)))))\n"
          ],
          "name": "stdout"
        }
      ]
    },
    {
      "cell_type": "code",
      "metadata": {
        "id": "jWvd_bysc8jr",
        "colab": {
          "base_uri": "https://localhost:8080/"
        },
        "outputId": "a707847c-31c7-4676-b438-07641e7b8f52"
      },
      "source": [
        "\r\n",
        "for tree in rd_parser.parse(sentex3):   print (tree)\r\n"
      ],
      "execution_count": 25,
      "outputs": [
        {
          "output_type": "stream",
          "text": [
            "(S\n",
            "  (NP (Prop John))\n",
            "  (VP (V gave) (NP (Det the) (N dog)) (NP (Det a) (N bone))))\n"
          ],
          "name": "stdout"
        }
      ]
    },
    {
      "cell_type": "code",
      "metadata": {
        "colab": {
          "base_uri": "https://localhost:8080/"
        },
        "id": "mQIuezOp4P36",
        "outputId": "c910fa1c-70a7-4289-c0cf-25dcd429ecf4"
      },
      "source": [
        "for tree in rd_parser.parse(sentex4):   print (tree)\r\n"
      ],
      "execution_count": 26,
      "outputs": [
        {
          "output_type": "stream",
          "text": [
            "(S\n",
            "  (NP (Prop I))\n",
            "  (VP (V want) (PP (P to) (VP (V book) (NP (Det that) (N flight))))))\n"
          ],
          "name": "stdout"
        }
      ]
    },
    {
      "cell_type": "code",
      "metadata": {
        "id": "IeHMo7EC4S5Z"
      },
      "source": [
        ""
      ],
      "execution_count": null,
      "outputs": []
    }
  ]
}