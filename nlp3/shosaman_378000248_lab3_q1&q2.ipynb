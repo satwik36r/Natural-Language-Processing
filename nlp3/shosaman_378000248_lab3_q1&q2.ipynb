{
  "nbformat": 4,
  "nbformat_minor": 0,
  "metadata": {
    "colab": {
      "name": "shosaman_378000248_lab3_q1&q2.ipynb",
      "provenance": [],
      "collapsed_sections": []
    },
    "kernelspec": {
      "name": "python3",
      "display_name": "Python 3"
    }
  },
  "cells": [
    {
      "cell_type": "code",
      "metadata": {
        "id": "nZCt7sHsm2x5"
      },
      "source": [
        "import re\r\n",
        "import nltk"
      ],
      "execution_count": null,
      "outputs": []
    },
    {
      "cell_type": "code",
      "metadata": {
        "id": "r6oSRipNovLU"
      },
      "source": [
        "trial=\"Mr. Black and Mrs. Brown attended the lecture by Dr. Gray, but Gov. White wasn't there.\""
      ],
      "execution_count": null,
      "outputs": []
    },
    {
      "cell_type": "code",
      "metadata": {
        "id": "R-znDO-fsRgG"
      },
      "source": [
        "pattern = r''' (?x) \t# set flag to allow verbose regexps\r\n",
        "        (?:[A-Z]\\.)+    # abbreviations, e.g. U.S.A.\r\n",
        "        |\\w+'\\w+\r\n",
        "        |(?:Mr\\.|Mrs\\.|Ms\\.|Hon\\.)\r\n",
        "        | \\$?\\d+(?:\\.\\d+)?%?    # currency and percentages, $12.40, 50%\r\n",
        "        | \\w+(?:-\\w+)*  # words with internal hyphens\r\n",
        "        | \\.\\.\\.        # ellipsis\r\n",
        "        | [][.,;”’?():-_%#’]    # separate tokens\r\n",
        "        '''"
      ],
      "execution_count": null,
      "outputs": []
    },
    {
      "cell_type": "code",
      "metadata": {
        "colab": {
          "base_uri": "https://localhost:8080/"
        },
        "id": "JxRMZkgmyozI",
        "outputId": "c27ce98f-5828-4ab8-f6ea-59b98da6145f"
      },
      "source": [
        "print(nltk.regexp_tokenize(trial, pattern))"
      ],
      "execution_count": null,
      "outputs": [
        {
          "output_type": "stream",
          "text": [
            "['Mr.', 'Black', 'and', 'Mrs.', 'Brown', 'attended', 'the', 'lecture', 'by', 'Dr', '.', 'Gray', ',', 'but', 'Gov', '.', 'White', \"wasn't\", 'there', '.']\n"
          ],
          "name": "stdout"
        }
      ]
    },
    {
      "cell_type": "code",
      "metadata": {
        "id": "YvrUxw1A1Xpv"
      },
      "source": [
        "tweet1 = \"@natalieohayre I agree #hc09 needs reform- but not by crooked politicians who r clueless about healthcare! #tcot #fishy NO GOV'T TAKEOVER!\"\r\n",
        "\r\n",
        "tweet2 = \"To Sen. Roland Burris: Affordable, quality health insurance can't wait http://bit.ly/j63je #hc09 #IL #60660\"\r\n",
        "\r\n",
        "tweet3 = \"RT @karoli: RT @Seriou: .@whitehouse I will stand w/ Obama on #healthcare,  I trust him. #p2 #tlot\"\r\n"
      ],
      "execution_count": null,
      "outputs": []
    },
    {
      "cell_type": "code",
      "metadata": {
        "id": "kMakVzrf3ALU"
      },
      "source": [
        "# Tokenizer for Twitter derived tweetmotif from the ARK, developed at CMU\r\n",
        "tweetPattern = r''' (?x)\t# set flag to allow verbose regexps\r\n",
        "      (?:https?://|www)\\S+      # simple URLs\r\n",
        "      |\\w+/\r\n",
        "      |[\\w]+'[\\w]+\r\n",
        "      |(?:Mr\\.|Mrs\\.|Ms\\.|Hon\\.|Sen\\.|Rep.)\r\n",
        "      | (?::-\\)|;-\\))\t\t# small list of emoticons\r\n",
        "      | &(?:amp|lt|gt|quot);    # XML or HTML entity\r\n",
        "      | \\#\\w+                 # hashtags\r\n",
        "      | @\\w+                  # mentions   \r\n",
        "      | \\d+:\\d+               # timelike pattern\r\n",
        "      | \\d+\\.\\d+              # number with a decimal\r\n",
        "      | (?:\\d+,)+?\\d{3}(?=(?:[^,]|$))   # number with a comma\r\n",
        "      | (?:[A-Z]\\.)+                    # simple abbreviations\r\n",
        "      | (?:--+)               # multiple dashes\r\n",
        "      | \\w+(?:-\\w+)*          # words with internal hyphens or apostrophes\r\n",
        "      | ['\\\".?!,:;/]+         # special characters\r\n",
        "      '''"
      ],
      "execution_count": null,
      "outputs": []
    },
    {
      "cell_type": "code",
      "metadata": {
        "colab": {
          "base_uri": "https://localhost:8080/"
        },
        "id": "-0Txhke03Ii-",
        "outputId": "fa21ab99-8dc3-481b-e692-d784d035159a"
      },
      "source": [
        "print(nltk.regexp_tokenize(tweet1,tweetPattern))\r\n",
        "print(nltk.regexp_tokenize(tweet2,tweetPattern))\r\n",
        "print(nltk.regexp_tokenize(tweet3,tweetPattern))\r\n"
      ],
      "execution_count": null,
      "outputs": [
        {
          "output_type": "stream",
          "text": [
            "['@natalieohayre', 'I', 'agree', '#hc09', 'needs', 'reform', 'but', 'not', 'by', 'crooked', 'politicians', 'who', 'r', 'clueless', 'about', 'healthcare', '!', '#tcot', '#fishy', 'NO', \"GOV'T\", 'TAKEOVER', '!']\n",
            "['To', 'Sen.', 'Roland', 'Burris', ':', 'Affordable', ',', 'quality', 'health', 'insurance', \"can't\", 'wait', 'http://bit.ly/j63je', '#hc09', '#IL', '#60660']\n",
            "['RT', '@karoli', ':', 'RT', '@Seriou', ':', '.', '@whitehouse', 'I', 'will', 'stand', 'w/', 'Obama', 'on', '#healthcare', ',', 'I', 'trust', 'him', '.', '#p2', '#tlot']\n"
          ],
          "name": "stdout"
        }
      ]
    },
    {
      "cell_type": "code",
      "metadata": {
        "id": "JrhBAt9q3kUF"
      },
      "source": [
        ""
      ],
      "execution_count": null,
      "outputs": []
    }
  ]
}