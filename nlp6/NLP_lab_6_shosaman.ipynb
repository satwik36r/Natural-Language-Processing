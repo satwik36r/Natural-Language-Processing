{
  "nbformat": 4,
  "nbformat_minor": 0,
  "metadata": {
    "colab": {
      "name": "NLP lab 6 shosaman",
      "provenance": []
    },
    "kernelspec": {
      "name": "python3",
      "display_name": "Python 3"
    }
  },
  "cells": [
    {
      "cell_type": "code",
      "metadata": {
        "colab": {
          "base_uri": "https://localhost:8080/"
        },
        "id": "_IjAmqj7i5Ua",
        "outputId": "54250a6e-c1ea-4dc9-db59-2b624377e8e0"
      },
      "source": [
        "import nltk\n",
        "nltk.download('wordnet')\n",
        "# import wordnet and shorten its name to wn\n",
        "from nltk.corpus import wordnet as wn\n",
        "\n"
      ],
      "execution_count": 2,
      "outputs": [
        {
          "output_type": "stream",
          "text": [
            "[nltk_data] Downloading package wordnet to /root/nltk_data...\n",
            "[nltk_data]   Unzipping corpora/wordnet.zip.\n"
          ],
          "name": "stdout"
        }
      ]
    },
    {
      "cell_type": "code",
      "metadata": {
        "colab": {
          "base_uri": "https://localhost:8080/"
        },
        "id": "H5YkCvMgjlow",
        "outputId": "b8d88627-1e5a-4abc-98ab-35788f60dbab"
      },
      "source": [
        "wn.synsets('chilly')"
      ],
      "execution_count": 3,
      "outputs": [
        {
          "output_type": "execute_result",
          "data": {
            "text/plain": [
              "[Synset('chili.n.02'),\n",
              " Synset('chilly.s.01'),\n",
              " Synset('chilly.s.02'),\n",
              " Synset('chilly.s.03')]"
            ]
          },
          "metadata": {
            "tags": []
          },
          "execution_count": 3
        }
      ]
    },
    {
      "cell_type": "code",
      "metadata": {
        "colab": {
          "base_uri": "https://localhost:8080/"
        },
        "id": "VaPTku8fjx9C",
        "outputId": "74070791-785e-4c8d-b6fc-1623ee886e49"
      },
      "source": [
        "wn.synset('chilly.s.03').lemma_names()"
      ],
      "execution_count": 4,
      "outputs": [
        {
          "output_type": "execute_result",
          "data": {
            "text/plain": [
              "['chilly']"
            ]
          },
          "metadata": {
            "tags": []
          },
          "execution_count": 4
        }
      ]
    },
    {
      "cell_type": "code",
      "metadata": {
        "colab": {
          "base_uri": "https://localhost:8080/"
        },
        "id": "EjH1AnWsj31o",
        "outputId": "5211b61d-e22a-4a10-9aad-d4dd9b08f24f"
      },
      "source": [
        "wn.synset('chilly.s.03').lemmas()"
      ],
      "execution_count": 5,
      "outputs": [
        {
          "output_type": "execute_result",
          "data": {
            "text/plain": [
              "[Lemma('chilly.s.03.chilly')]"
            ]
          },
          "metadata": {
            "tags": []
          },
          "execution_count": 5
        }
      ]
    },
    {
      "cell_type": "code",
      "metadata": {
        "colab": {
          "base_uri": "https://localhost:8080/"
        },
        "id": "OQKR8L8wj8n0",
        "outputId": "4ac59ccc-cd1a-46e1-f044-4e8bb4c97319"
      },
      "source": [
        "wn.lemma('chilly.s.03.chilly').synset()"
      ],
      "execution_count": 6,
      "outputs": [
        {
          "output_type": "execute_result",
          "data": {
            "text/plain": [
              "Synset('chilly.s.03')"
            ]
          },
          "metadata": {
            "tags": []
          },
          "execution_count": 6
        }
      ]
    },
    {
      "cell_type": "code",
      "metadata": {
        "colab": {
          "base_uri": "https://localhost:8080/"
        },
        "id": "onuF0scskgbt",
        "outputId": "3fc00319-a6be-449c-d8a7-2df9feb37cce"
      },
      "source": [
        "for synset in wn.synsets('chilly'):\n",
        "\tprint (synset, \":  \", synset.lemma_names())\n"
      ],
      "execution_count": 7,
      "outputs": [
        {
          "output_type": "stream",
          "text": [
            "Synset('chili.n.02') :   ['chili', 'chili_pepper', 'chilli', 'chilly', 'chile']\n",
            "Synset('chilly.s.01') :   ['chilly']\n",
            "Synset('chilly.s.02') :   ['chilly', 'parky']\n",
            "Synset('chilly.s.03') :   ['chilly']\n"
          ],
          "name": "stdout"
        }
      ]
    },
    {
      "cell_type": "code",
      "metadata": {
        "colab": {
          "base_uri": "https://localhost:8080/",
          "height": 35
        },
        "id": "Vfh_3rGwkpiq",
        "outputId": "0086a8e0-1f7c-4c13-927a-16384a709b66"
      },
      "source": [
        "wn.synset('chilly.s.03').definition()"
      ],
      "execution_count": 8,
      "outputs": [
        {
          "output_type": "execute_result",
          "data": {
            "application/vnd.google.colaboratory.intrinsic+json": {
              "type": "string"
            },
            "text/plain": [
              "'lacking warmth of feeling'"
            ]
          },
          "metadata": {
            "tags": []
          },
          "execution_count": 8
        }
      ]
    },
    {
      "cell_type": "code",
      "metadata": {
        "colab": {
          "base_uri": "https://localhost:8080/"
        },
        "id": "InZ4jgfLkt_y",
        "outputId": "ccea2109-df86-44a3-8ad3-656d34f81178"
      },
      "source": [
        "wn.synset('chilly.s.03').examples()"
      ],
      "execution_count": 9,
      "outputs": [
        {
          "output_type": "execute_result",
          "data": {
            "text/plain": [
              "['a chilly greeting']"
            ]
          },
          "metadata": {
            "tags": []
          },
          "execution_count": 9
        }
      ]
    },
    {
      "cell_type": "code",
      "metadata": {
        "colab": {
          "base_uri": "https://localhost:8080/"
        },
        "id": "kTOfQS2QkzNc",
        "outputId": "76f89fb8-c375-43fa-ef3e-ecca53ebbf23"
      },
      "source": [
        "for synset in wn.synsets('chilly'):\n",
        "\tprint (synset, \":  \", synset.definition())"
      ],
      "execution_count": 10,
      "outputs": [
        {
          "output_type": "stream",
          "text": [
            "Synset('chili.n.02') :   very hot and finely tapering pepper of special pungency\n",
            "Synset('chilly.s.01') :   not characterized by emotion\n",
            "Synset('chilly.s.02') :   appreciably or disagreeably cold\n",
            "Synset('chilly.s.03') :   lacking warmth of feeling\n"
          ],
          "name": "stdout"
        }
      ]
    },
    {
      "cell_type": "code",
      "metadata": {
        "colab": {
          "base_uri": "https://localhost:8080/"
        },
        "id": "_KzPzAI0mZcn",
        "outputId": "87a2c39a-9df6-4f0e-b88a-6b810eeba48d"
      },
      "source": [
        "# or combine the synonyms/lemma names, definitions and examples\n",
        "for synset in wn.synsets('chilly'):\n",
        "\tprint (synset, \":  \")\n",
        "\tprint ('     ', synset.lemma_names())\n",
        "\tprint ('     ', synset.definition())\n",
        "\tprint ('     ', synset.examples())\n"
      ],
      "execution_count": 11,
      "outputs": [
        {
          "output_type": "stream",
          "text": [
            "Synset('chili.n.02') :  \n",
            "      ['chili', 'chili_pepper', 'chilli', 'chilly', 'chile']\n",
            "      very hot and finely tapering pepper of special pungency\n",
            "      []\n",
            "Synset('chilly.s.01') :  \n",
            "      ['chilly']\n",
            "      not characterized by emotion\n",
            "      ['a female form in marble--a chilly but ideal medium for depicting abstract virtues\"-C.W.Cunningham']\n",
            "Synset('chilly.s.02') :  \n",
            "      ['chilly', 'parky']\n",
            "      appreciably or disagreeably cold\n",
            "      []\n",
            "Synset('chilly.s.03') :  \n",
            "      ['chilly']\n",
            "      lacking warmth of feeling\n",
            "      ['a chilly greeting']\n"
          ],
          "name": "stdout"
        }
      ]
    },
    {
      "cell_type": "code",
      "metadata": {
        "colab": {
          "base_uri": "https://localhost:8080/"
        },
        "id": "hHq6eWc5mlPM",
        "outputId": "9ee1904c-2467-435e-a885-c521ea8a71d2"
      },
      "source": [
        "Chilly1 = wn.synset('chili.n.02')\n",
        "Chilly1.hypernyms()"
      ],
      "execution_count": 12,
      "outputs": [
        {
          "output_type": "execute_result",
          "data": {
            "text/plain": [
              "[Synset('hot_pepper.n.02')]"
            ]
          },
          "metadata": {
            "tags": []
          },
          "execution_count": 12
        }
      ]
    },
    {
      "cell_type": "code",
      "metadata": {
        "colab": {
          "base_uri": "https://localhost:8080/"
        },
        "id": "3Xl1KaEsm0vh",
        "outputId": "a0bf2a9f-0f72-4caa-9b0c-b78e72bf1025"
      },
      "source": [
        "Chilly1.hyponyms()"
      ],
      "execution_count": 13,
      "outputs": [
        {
          "output_type": "execute_result",
          "data": {
            "text/plain": [
              "[Synset('cayenne.n.03'), Synset('jalapeno.n.02')]"
            ]
          },
          "metadata": {
            "tags": []
          },
          "execution_count": 13
        }
      ]
    },
    {
      "cell_type": "code",
      "metadata": {
        "colab": {
          "base_uri": "https://localhost:8080/"
        },
        "id": "Nkb_u2Uunwqq",
        "outputId": "ab26e578-6938-4b34-e1a4-f883f9e5ccba"
      },
      "source": [
        "Chilly1.root_hypernyms()"
      ],
      "execution_count": 14,
      "outputs": [
        {
          "output_type": "execute_result",
          "data": {
            "text/plain": [
              "[Synset('entity.n.01')]"
            ]
          },
          "metadata": {
            "tags": []
          },
          "execution_count": 14
        }
      ]
    },
    {
      "cell_type": "code",
      "metadata": {
        "colab": {
          "base_uri": "https://localhost:8080/"
        },
        "id": "IUtXnKW9oGca",
        "outputId": "29f4a56e-3b26-4c64-a7fe-58daf8da574b"
      },
      "source": [
        "Chilly1.part_meronyms()"
      ],
      "execution_count": 15,
      "outputs": [
        {
          "output_type": "execute_result",
          "data": {
            "text/plain": [
              "[]"
            ]
          },
          "metadata": {
            "tags": []
          },
          "execution_count": 15
        }
      ]
    },
    {
      "cell_type": "code",
      "metadata": {
        "id": "238H1GohoO4v",
        "colab": {
          "base_uri": "https://localhost:8080/"
        },
        "outputId": "661d859d-8139-4578-c2a5-e9331e6be5bb"
      },
      "source": [
        "print (wn.synset('chili.n.02').lemma_names(),wn.synset('chili.n.02').definition(), \n",
        "       wn.synset('chili.n.02').examples())"
      ],
      "execution_count": 16,
      "outputs": [
        {
          "output_type": "stream",
          "text": [
            "['chili', 'chili_pepper', 'chilli', 'chilly', 'chile'] very hot and finely tapering pepper of special pungency []\n"
          ],
          "name": "stdout"
        }
      ]
    },
    {
      "cell_type": "code",
      "metadata": {
        "colab": {
          "base_uri": "https://localhost:8080/"
        },
        "id": "DQvtDw9L3Dxt",
        "outputId": "f28f4598-4768-4ea8-d0bb-aa06753a32ce"
      },
      "source": [
        "# the other relation for car\n",
        "Chilly1.member_holonyms()"
      ],
      "execution_count": 17,
      "outputs": [
        {
          "output_type": "execute_result",
          "data": {
            "text/plain": [
              "[]"
            ]
          },
          "metadata": {
            "tags": []
          },
          "execution_count": 17
        }
      ]
    },
    {
      "cell_type": "code",
      "metadata": {
        "colab": {
          "base_uri": "https://localhost:8080/"
        },
        "id": "Wb728pK23Pfw",
        "outputId": "28acae88-5233-427e-bbd3-fbbca194bbd1"
      },
      "source": [
        "# trace paths of a synset by visiting its hypernyms\n",
        "Chilly1.hypernyms()\n"
      ],
      "execution_count": 18,
      "outputs": [
        {
          "output_type": "execute_result",
          "data": {
            "text/plain": [
              "[Synset('hot_pepper.n.02')]"
            ]
          },
          "metadata": {
            "tags": []
          },
          "execution_count": 18
        }
      ]
    },
    {
      "cell_type": "code",
      "metadata": {
        "colab": {
          "base_uri": "https://localhost:8080/"
        },
        "id": "KZ360ugw3Xp5",
        "outputId": "4e432b60-eaf0-423c-c884-dca7e70dd74b"
      },
      "source": [
        "# number of paths from the synset to the root concept \"entity\"\n",
        "paths=Chilly1.hypernym_paths()\n",
        "print(len(paths) )\n",
        "# look at the first path\n",
        "paths[0]"
      ],
      "execution_count": 19,
      "outputs": [
        {
          "output_type": "stream",
          "text": [
            "1\n"
          ],
          "name": "stdout"
        },
        {
          "output_type": "execute_result",
          "data": {
            "text/plain": [
              "[Synset('entity.n.01'),\n",
              " Synset('physical_entity.n.01'),\n",
              " Synset('matter.n.03'),\n",
              " Synset('solid.n.01'),\n",
              " Synset('food.n.02'),\n",
              " Synset('produce.n.01'),\n",
              " Synset('vegetable.n.01'),\n",
              " Synset('solanaceous_vegetable.n.01'),\n",
              " Synset('pepper.n.04'),\n",
              " Synset('hot_pepper.n.02'),\n",
              " Synset('chili.n.02')]"
            ]
          },
          "metadata": {
            "tags": []
          },
          "execution_count": 19
        }
      ]
    },
    {
      "cell_type": "code",
      "metadata": {
        "colab": {
          "base_uri": "https://localhost:8080/"
        },
        "id": "q27cNgM03hNc",
        "outputId": "92f74100-d5a9-4582-ec7f-8aaa092418ba"
      },
      "source": [
        "[synset.name() for synset in paths[0]]"
      ],
      "execution_count": 20,
      "outputs": [
        {
          "output_type": "execute_result",
          "data": {
            "text/plain": [
              "['entity.n.01',\n",
              " 'physical_entity.n.01',\n",
              " 'matter.n.03',\n",
              " 'solid.n.01',\n",
              " 'food.n.02',\n",
              " 'produce.n.01',\n",
              " 'vegetable.n.01',\n",
              " 'solanaceous_vegetable.n.01',\n",
              " 'pepper.n.04',\n",
              " 'hot_pepper.n.02',\n",
              " 'chili.n.02']"
            ]
          },
          "metadata": {
            "tags": []
          },
          "execution_count": 20
        }
      ]
    },
    {
      "cell_type": "code",
      "metadata": {
        "id": "BS6Dctw13kN-"
      },
      "source": [
        "### Word similarity"
      ],
      "execution_count": 21,
      "outputs": []
    },
    {
      "cell_type": "code",
      "metadata": {
        "colab": {
          "base_uri": "https://localhost:8080/"
        },
        "id": "GBsddXd93nLy",
        "outputId": "5b8af1fe-8e40-41ae-b643-87ed5fcaae3d"
      },
      "source": [
        "# define 3 different types of weather\n",
        "print(wn.synsets('Spring'))\n",
        "print(wn.synsets('Summer'))\n",
        "print(wn.synsets('Winter'))\n"
      ],
      "execution_count": 22,
      "outputs": [
        {
          "output_type": "stream",
          "text": [
            "[Synset('spring.n.01'), Synset('spring.n.02'), Synset('spring.n.03'), Synset('spring.n.04'), Synset('give.n.01'), Synset('leap.n.01'), Synset('jump.v.01'), Synset('form.v.03'), Synset('bounce.v.01'), Synset('spring.v.04'), Synset('spring.v.05')]\n",
            "[Synset('summer.n.01'), Synset('summer.n.02'), Synset('summer.v.01')]\n",
            "[Synset('winter.n.01'), Synset('winter.v.01')]\n"
          ],
          "name": "stdout"
        }
      ]
    },
    {
      "cell_type": "code",
      "metadata": {
        "id": "RZtiitcG352Q"
      },
      "source": [
        "spring = wn.synset('spring.n.01')\n",
        "summer = wn.synset('summer.n.01')  \n",
        "winter = wn.synset('winter.n.01')"
      ],
      "execution_count": 23,
      "outputs": []
    },
    {
      "cell_type": "code",
      "metadata": {
        "colab": {
          "base_uri": "https://localhost:8080/"
        },
        "id": "wv4-JZ1x4Hm6",
        "outputId": "c127a78b-0336-4969-8d38-81ec6c297297"
      },
      "source": [
        "print(spring.hypernym_paths())\n",
        "print(summer.hypernym_paths())\n",
        "print(winter.hypernym_paths())"
      ],
      "execution_count": 24,
      "outputs": [
        {
          "output_type": "stream",
          "text": [
            "[[Synset('entity.n.01'), Synset('abstraction.n.06'), Synset('measure.n.02'), Synset('fundamental_quantity.n.01'), Synset('time_period.n.01'), Synset('season.n.02'), Synset('spring.n.01')]]\n",
            "[[Synset('entity.n.01'), Synset('abstraction.n.06'), Synset('measure.n.02'), Synset('fundamental_quantity.n.01'), Synset('time_period.n.01'), Synset('season.n.02'), Synset('summer.n.01')]]\n",
            "[[Synset('entity.n.01'), Synset('abstraction.n.06'), Synset('measure.n.02'), Synset('fundamental_quantity.n.01'), Synset('time_period.n.01'), Synset('season.n.02'), Synset('winter.n.01')]]\n"
          ],
          "name": "stdout"
        }
      ]
    },
    {
      "cell_type": "code",
      "metadata": {
        "colab": {
          "base_uri": "https://localhost:8080/"
        },
        "id": "HqwsTr134PCp",
        "outputId": "eed9fc04-4499-4a77-de62-7cb58261b6d6"
      },
      "source": [
        "print(spring.lowest_common_hypernyms(summer))\n",
        "print(spring.lowest_common_hypernyms(winter))"
      ],
      "execution_count": 25,
      "outputs": [
        {
          "output_type": "stream",
          "text": [
            "[Synset('season.n.02')]\n",
            "[Synset('season.n.02')]\n"
          ],
          "name": "stdout"
        }
      ]
    },
    {
      "cell_type": "code",
      "metadata": {
        "colab": {
          "base_uri": "https://localhost:8080/"
        },
        "id": "QFAwmFS84X36",
        "outputId": "5db3fdd2-e87f-4c18-82c6-569478d3518c"
      },
      "source": [
        "print(spring.min_depth() )\n",
        "print(wn.synset('season.n.02').min_depth() )\n",
        "print(wn.synset('entity.n.01').min_depth())"
      ],
      "execution_count": 26,
      "outputs": [
        {
          "output_type": "stream",
          "text": [
            "6\n",
            "5\n",
            "0\n"
          ],
          "name": "stdout"
        }
      ]
    },
    {
      "cell_type": "code",
      "metadata": {
        "colab": {
          "base_uri": "https://localhost:8080/"
        },
        "id": "ZfwB4LxM6f1A",
        "outputId": "d9795cd5-c807-4660-f1a9-20e11bdd7dc8"
      },
      "source": [
        "# the path similarity gives a similarity score between 0 and 1\n",
        "print(spring.path_similarity(summer) )\n",
        "print(spring.path_similarity(winter))"
      ],
      "execution_count": 27,
      "outputs": [
        {
          "output_type": "stream",
          "text": [
            "0.3333333333333333\n",
            "0.3333333333333333\n"
          ],
          "name": "stdout"
        }
      ]
    },
    {
      "cell_type": "code",
      "metadata": {
        "colab": {
          "base_uri": "https://localhost:8080/"
        },
        "id": "0AnLxBrX7Tql",
        "outputId": "4c37c91e-eae1-4e5c-b03c-8bf1c0c73de8"
      },
      "source": [
        "# define 2 more words and look at their similarity\n",
        "Rain = wn.synset('rain.n.01')\n",
        "window = wn.synset('window.n.01')\n",
        "# note the least ancestor of these two words\n",
        "print(spring.lowest_common_hypernyms(Rain))\n",
        "print(spring.lowest_common_hypernyms(window))\n"
      ],
      "execution_count": 31,
      "outputs": [
        {
          "output_type": "stream",
          "text": [
            "[Synset('entity.n.01')]\n",
            "[Synset('entity.n.01')]\n"
          ],
          "name": "stdout"
        }
      ]
    },
    {
      "cell_type": "code",
      "metadata": {
        "colab": {
          "base_uri": "https://localhost:8080/"
        },
        "id": "u5Ozi8KU7nCK",
        "outputId": "b895a0f4-5f17-4ceb-e670-292c8c694367"
      },
      "source": [
        "# Leacock-Chodorow Similarity, also uses path lengths and others\n",
        "print(spring.lch_similarity(summer))\n",
        "print(spring.lch_similarity(winter))\n",
        "print(spring.lch_similarity(Rain))"
      ],
      "execution_count": 30,
      "outputs": [
        {
          "output_type": "stream",
          "text": [
            "2.538973871058276\n",
            "2.538973871058276\n",
            "0.8649974374866046\n"
          ],
          "name": "stdout"
        }
      ]
    },
    {
      "cell_type": "code",
      "metadata": {
        "colab": {
          "base_uri": "https://localhost:8080/"
        },
        "id": "g5ZDKzhr8IqX",
        "outputId": "8e765fd0-0da8-417b-ca0b-c97eae2ea0b5"
      },
      "source": [
        "nltk.download('wordnet_ic')\n",
        "# Resnick similarity gets information content measure\n",
        "# first get information content from a general corpus\n",
        "from nltk.corpus import wordnet_ic\n",
        "brown_ic = wordnet_ic.ic('ic-brown.dat')"
      ],
      "execution_count": 32,
      "outputs": [
        {
          "output_type": "stream",
          "text": [
            "[nltk_data] Downloading package wordnet_ic to /root/nltk_data...\n",
            "[nltk_data]   Unzipping corpora/wordnet_ic.zip.\n"
          ],
          "name": "stdout"
        }
      ]
    },
    {
      "cell_type": "code",
      "metadata": {
        "colab": {
          "base_uri": "https://localhost:8080/"
        },
        "id": "V2L9x6iK8Osl",
        "outputId": "f1ead63b-5a66-4cf6-ffd5-7c623127b017"
      },
      "source": [
        "# try Resnik Similarity\n",
        "print(spring.res_similarity(summer, brown_ic))\n",
        "print(spring.res_similarity(winter, brown_ic))\n",
        "print(spring.res_similarity(window, brown_ic))"
      ],
      "execution_count": 33,
      "outputs": [
        {
          "output_type": "stream",
          "text": [
            "7.904569247165815\n",
            "7.904569247165815\n",
            "-0.0\n"
          ],
          "name": "stdout"
        }
      ]
    },
    {
      "cell_type": "code",
      "metadata": {
        "colab": {
          "base_uri": "https://localhost:8080/"
        },
        "id": "CKseWsvD8dRE",
        "outputId": "dcd1de8f-de6d-437c-97f6-e2649141bd96"
      },
      "source": [
        "## SentiWordNet\n",
        "nltk.download('sentiwordnet')\n",
        "from nltk.corpus import sentiwordnet as swn\n",
        "# each word judged to be made up of positive, negative and objective meaning\n"
      ],
      "execution_count": 34,
      "outputs": [
        {
          "output_type": "stream",
          "text": [
            "[nltk_data] Downloading package sentiwordnet to /root/nltk_data...\n",
            "[nltk_data]   Unzipping corpora/sentiwordnet.zip.\n"
          ],
          "name": "stdout"
        }
      ]
    },
    {
      "cell_type": "code",
      "metadata": {
        "colab": {
          "base_uri": "https://localhost:8080/"
        },
        "id": "iRrObRFc8gcm",
        "outputId": "e0571410-11d3-4aa2-da27-0d18c35bcc98"
      },
      "source": [
        "# sentiwordnet has the same synsets as wordnet, use wn functions\n",
        "print(list(swn.senti_synsets('chilly')))\n",
        "print(wn.synsets('chilly'))"
      ],
      "execution_count": 35,
      "outputs": [
        {
          "output_type": "stream",
          "text": [
            "[SentiSynset('chili.n.02'), SentiSynset('chilly.s.01'), SentiSynset('chilly.s.02'), SentiSynset('chilly.s.03')]\n",
            "[Synset('chili.n.02'), Synset('chilly.s.01'), Synset('chilly.s.02'), Synset('chilly.s.03')]\n"
          ],
          "name": "stdout"
        }
      ]
    },
    {
      "cell_type": "code",
      "metadata": {
        "colab": {
          "base_uri": "https://localhost:8080/"
        },
        "id": "n00SKoXf8qQo",
        "outputId": "ebd7ee81-2ed5-4d2f-aab6-ae77613b0906"
      },
      "source": [
        "# the print function gives the positive and negative scores\n",
        "breakdown3 = swn.senti_synset('chili.n.02')\n",
        "print (breakdown3)"
      ],
      "execution_count": 36,
      "outputs": [
        {
          "output_type": "stream",
          "text": [
            "<chili.n.02: PosScore=0.0 NegScore=0.0>\n"
          ],
          "name": "stdout"
        }
      ]
    },
    {
      "cell_type": "code",
      "metadata": {
        "colab": {
          "base_uri": "https://localhost:8080/"
        },
        "id": "Y9ra_G2W8u25",
        "outputId": "a0ac8695-bf9b-41de-d476-c505fec7544f"
      },
      "source": [
        "# there are also separate functions for all the scores\n",
        "print(breakdown3.pos_score())\n",
        "print(breakdown3.neg_score())\n",
        "print(breakdown3.obj_score())"
      ],
      "execution_count": 37,
      "outputs": [
        {
          "output_type": "stream",
          "text": [
            "0.0\n",
            "0.0\n",
            "1.0\n"
          ],
          "name": "stdout"
        }
      ]
    },
    {
      "cell_type": "code",
      "metadata": {
        "colab": {
          "base_uri": "https://localhost:8080/"
        },
        "id": "W1zZPSkh8xb1",
        "outputId": "053663c8-2abe-47eb-fa97-23f7ad23878a"
      },
      "source": [
        "chillyswn1 = swn.senti_synset('chili.n.02')\n",
        "print(chillyswn1)\n",
        "print(chillyswn1.obj_score())"
      ],
      "execution_count": 38,
      "outputs": [
        {
          "output_type": "stream",
          "text": [
            "<chili.n.02: PosScore=0.0 NegScore=0.0>\n",
            "1.0\n"
          ],
          "name": "stdout"
        }
      ]
    },
    {
      "cell_type": "code",
      "metadata": {
        "id": "XffiOHWD9A9f"
      },
      "source": [
        ""
      ],
      "execution_count": null,
      "outputs": []
    }
  ]
}