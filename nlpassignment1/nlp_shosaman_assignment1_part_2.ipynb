{
  "nbformat": 4,
  "nbformat_minor": 0,
  "metadata": {
    "kernelspec": {
      "display_name": "Python 3",
      "language": "python",
      "name": "python3"
    },
    "language_info": {
      "codemirror_mode": {
        "name": "ipython",
        "version": 3
      },
      "file_extension": ".py",
      "mimetype": "text/x-python",
      "name": "python",
      "nbconvert_exporter": "python",
      "pygments_lexer": "ipython3",
      "version": "3.8.3"
    },
    "colab": {
      "name": "nlp_shosaman_assignment1_part_2 ",
      "provenance": [],
      "collapsed_sections": []
    }
  },
  "cells": [
    {
      "cell_type": "code",
      "metadata": {
        "id": "5KuCkKDNpNk8"
      },
      "source": [
        "import os\n",
        "import tweepy as tw\n",
        "import pandas as pd"
      ],
      "execution_count": null,
      "outputs": []
    },
    {
      "cell_type": "code",
      "metadata": {
        "id": "09J-ih2ppNk9"
      },
      "source": [
        " \n",
        "consumer_key =''\n",
        "consumer_secret =''\n",
        "access_key =''\n",
        "access_secret =''\n"
      ],
      "execution_count": null,
      "outputs": []
    },
    {
      "cell_type": "code",
      "metadata": {
        "id": "5QaLWT2FpNk9"
      },
      "source": [
        "auth = tw.OAuthHandler(consumer_key, consumer_secret)\n",
        "auth.set_access_token(access_key, access_secret)\n",
        "api = tw.API(auth, wait_on_rate_limit=True)"
      ],
      "execution_count": null,
      "outputs": []
    },
    {
      "cell_type": "code",
      "metadata": {
        "id": "XtuL9G84pNk9"
      },
      "source": [
        "# Define the search term and the date_since date as variables\n",
        "search_words = \"#wildfires\"\n",
        "date_since = \"2018-11-16\""
      ],
      "execution_count": null,
      "outputs": []
    },
    {
      "cell_type": "code",
      "metadata": {
        "colab": {
          "base_uri": "https://localhost:8080/"
        },
        "id": "JC2SyPi9pNk9",
        "outputId": "691e39a1-6c0d-4317-c3f2-f37c251c02f8"
      },
      "source": [
        "# Collect tweets\n",
        "tweets = tw.Cursor(api.search,\n",
        "              q=search_words,\n",
        "              lang=\"en\",\n",
        "              since=date_since).items(5)\n",
        "tweets"
      ],
      "execution_count": null,
      "outputs": [
        {
          "output_type": "execute_result",
          "data": {
            "text/plain": [
              "<tweepy.cursor.ItemIterator at 0x7f0920003e90>"
            ]
          },
          "metadata": {
            "tags": []
          },
          "execution_count": 14
        }
      ]
    },
    {
      "cell_type": "code",
      "metadata": {
        "colab": {
          "base_uri": "https://localhost:8080/"
        },
        "id": "7byg55vipNk-",
        "outputId": "a1e0a8aa-2566-4299-88a2-e6a34f516919"
      },
      "source": [
        "# Collect tweets\n",
        "tweets = tw.Cursor(api.search,\n",
        "              q=search_words,\n",
        "              lang=\"en\",\n",
        "              since=date_since).items(5)\n",
        "\n",
        "# Iterate and print tweets\n",
        "for tweet in tweets:\n",
        "    print(tweet.text)"
      ],
      "execution_count": null,
      "outputs": [
        {
          "output_type": "stream",
          "text": [
            "RT @activist360_co: The Climate Crisis Discriminates. Maps Tell the Story.\n",
            "\n",
            "https://t.co/EpGuV3LBcg\n",
            "\n",
            "@pfairley #ClimateCrisis #ClimateEmerg…\n",
            "The Climate Crisis Discriminates. Maps Tell the Story.\n",
            "\n",
            "https://t.co/EpGuV3LBcg\n",
            "\n",
            "@pfairley #ClimateCrisis… https://t.co/KYJ4XaccAO\n",
            "RT @EthosLifestyle: The #ClimateCrisis Discriminates. #Maps Tell the Story\n",
            "\n",
            "How data visualizers are helping to plan to support Cascadia’s…\n",
            "RT @nezua: I remember running outside to take this photo, and then running right back inside. 2020 #wildfires https://t.co/TkUMR0dYbq\n",
            "The #ClimateCrisis Discriminates. #Maps Tell the Story\n",
            "\n",
            "How data visualizers are helping to plan to support Cascadi… https://t.co/bPLDezPKW3\n"
          ],
          "name": "stdout"
        }
      ]
    },
    {
      "cell_type": "code",
      "metadata": {
        "id": "p4wyuRl0pNk-"
      },
      "source": [
        "# Collect tweets\n",
        "tweets = tw.Cursor(api.search,\n",
        "                       q=search_words,\n",
        "                       lang=\"en\",\n",
        "                       since=date_since).items(400)\n",
        "\n",
        "# Collect a list of tweets\n",
        "ltweets=[tweet.text for tweet in tweets]"
      ],
      "execution_count": null,
      "outputs": []
    },
    {
      "cell_type": "code",
      "metadata": {
        "colab": {
          "base_uri": "https://localhost:8080/"
        },
        "id": "UmBrkYcbpNk-",
        "outputId": "1ebb6f07-68f4-4ba2-a561-8f95e4c8d8f7"
      },
      "source": [
        "type(ltweets)"
      ],
      "execution_count": null,
      "outputs": [
        {
          "output_type": "execute_result",
          "data": {
            "text/plain": [
              "list"
            ]
          },
          "metadata": {
            "tags": []
          },
          "execution_count": 17
        }
      ]
    },
    {
      "cell_type": "code",
      "metadata": {
        "colab": {
          "base_uri": "https://localhost:8080/"
        },
        "id": "wgsC9upIpNk_",
        "outputId": "ed255eca-884b-4168-c4b3-4ad1b42ac6bf"
      },
      "source": [
        "ltweets[:10]"
      ],
      "execution_count": null,
      "outputs": [
        {
          "output_type": "execute_result",
          "data": {
            "text/plain": [
              "['RT @activist360_co: The Climate Crisis Discriminates. Maps Tell the Story.\\n\\nhttps://t.co/EpGuV3LBcg\\n\\n@pfairley #ClimateCrisis #ClimateEmerg…',\n",
              " 'The Climate Crisis Discriminates. Maps Tell the Story.\\n\\nhttps://t.co/EpGuV3LBcg\\n\\n@pfairley #ClimateCrisis… https://t.co/KYJ4XaccAO',\n",
              " 'RT @EthosLifestyle: The #ClimateCrisis Discriminates. #Maps Tell the Story\\n\\nHow data visualizers are helping to plan to support Cascadia’s…',\n",
              " 'RT @nezua: I remember running outside to take this photo, and then running right back inside. 2020 #wildfires https://t.co/TkUMR0dYbq',\n",
              " 'The #ClimateCrisis Discriminates. #Maps Tell the Story\\n\\nHow data visualizers are helping to plan to support Cascadi… https://t.co/bPLDezPKW3',\n",
              " 'RT @PlatformAdam: Simlipal National Park, #India, is burning! Below the #UNESCO Natural Heritage site affected by #wildfires: #Copernicus #…',\n",
              " 'RT @PlatformAdam: Simlipal National Park, #India, is burning! Below the #UNESCO Natural Heritage site affected by #wildfires: #Copernicus #…',\n",
              " 'RT @CLEANBOSS2: Effects of #global #climatechange include frequent #wildfires #droughts intensity of #tropical #storms.Global #sealevel ris…',\n",
              " 'Simlipal National Park, #India, is burning! Below the #UNESCO Natural Heritage site affected by #wildfires:… https://t.co/gXwjhMHlnq',\n",
              " 'RT @EPAnorthwest: Tomorrow March 4! Join our #CleanerIndoorAirChallenge informational webinar at 8 AM (PT) to hear how your innovation to r…']"
            ]
          },
          "metadata": {
            "tags": []
          },
          "execution_count": 18
        }
      ]
    },
    {
      "cell_type": "code",
      "metadata": {
        "id": "BDTypqazpNk_"
      },
      "source": [
        "from nltk.tokenize import TweetTokenizer "
      ],
      "execution_count": null,
      "outputs": []
    },
    {
      "cell_type": "code",
      "metadata": {
        "id": "OSZg4nvmpNk_"
      },
      "source": [
        "tk = TweetTokenizer()"
      ],
      "execution_count": null,
      "outputs": []
    },
    {
      "cell_type": "code",
      "metadata": {
        "colab": {
          "base_uri": "https://localhost:8080/"
        },
        "id": "G7E8gRgFpNk_",
        "outputId": "7d0cc9b5-e5a2-4dc1-eb9d-651a34228469"
      },
      "source": [
        "stringtweet=' '.join(ltweets)\n",
        "tokens = tk.tokenize(stringtweet) \n",
        "  \n",
        "print(tokens) "
      ],
      "execution_count": null,
      "outputs": [
        {
          "output_type": "stream",
          "text": [
            "['RT', '@activist360_co', ':', 'The', 'Climate', 'Crisis', 'Discriminates', '.', 'Maps', 'Tell', 'the', 'Story', '.', 'https://t.co/EpGuV3LBcg', '@pfairley', '#ClimateCrisis', '#ClimateEmerg', '…', 'The', 'Climate', 'Crisis', 'Discriminates', '.', 'Maps', 'Tell', 'the', 'Story', '.', 'https://t.co/EpGuV3LBcg', '@pfairley', '#ClimateCrisis', '…', 'https://t.co/KYJ4XaccAO', 'RT', '@EthosLifestyle', ':', 'The', '#ClimateCrisis', 'Discriminates', '.', '#Maps', 'Tell', 'the', 'Story', 'How', 'data', 'visualizers', 'are', 'helping', 'to', 'plan', 'to', 'support', 'Cascadia', '’', 's', '…', 'RT', '@nezua', ':', 'I', 'remember', 'running', 'outside', 'to', 'take', 'this', 'photo', ',', 'and', 'then', 'running', 'right', 'back', 'inside', '.', '2020', '#wildfires', 'https://t.co/TkUMR0dYbq', 'The', '#ClimateCrisis', 'Discriminates', '.', '#Maps', 'Tell', 'the', 'Story', 'How', 'data', 'visualizers', 'are', 'helping', 'to', 'plan', 'to', 'support', 'Cascadi', '…', 'https://t.co/bPLDezPKW3', 'RT', '@PlatformAdam', ':', 'Simlipal', 'National', 'Park', ',', '#India', ',', 'is', 'burning', '!', 'Below', 'the', '#UNESCO', 'Natural', 'Heritage', 'site', 'affected', 'by', '#wildfires', ':', '#Copernicus', '#', '…', 'RT', '@PlatformAdam', ':', 'Simlipal', 'National', 'Park', ',', '#India', ',', 'is', 'burning', '!', 'Below', 'the', '#UNESCO', 'Natural', 'Heritage', 'site', 'affected', 'by', '#wildfires', ':', '#Copernicus', '#', '…', 'RT', '@CLEANBOSS2', ':', 'Effects', 'of', '#global', '#climatechange', 'include', 'frequent', '#wildfires', '#droughts', 'intensity', 'of', '#tropical', '#storms', '.', 'Global', '#sealevel', 'ris', '…', 'Simlipal', 'National', 'Park', ',', '#India', ',', 'is', 'burning', '!', 'Below', 'the', '#UNESCO', 'Natural', 'Heritage', 'site', 'affected', 'by', '#wildfires', ':', '…', 'https://t.co/gXwjhMHlnq', 'RT', '@EPAnorthwest', ':', 'Tomorrow', 'March', '4', '!', 'Join', 'our', '#CleanerIndoorAirChallenge', 'informational', 'webinar', 'at', '8', 'AM', '(', 'PT', ')', 'to', 'hear', 'how', 'your', 'innovation', 'to', 'r', '…', 'RT', '@ConservationNW', ':', 'ACTION', 'ALERT', ':', 'After', 'last', \"summer's\", '#wildfires', 'burned', 'more', 'than', '800,000', 'acres', 'of', \"Washington's\", '#shrubsteppe', ',', 'this', 'delicate', '…', 'RT', '@HORNi_Rhino', ':', 'Whilst', 'wild', 'fires', 'play', 'a', 'regular', 'role', 'in', 'the', 'regeneration', 'of', 'many', 'habitats', ',', 'fires', 'are', 'now', 'spreading', 'further', 'and', 'further', 'ar', '…', 'RT', '@EPAnorthwest', ':', 'Tomorrow', 'March', '4', '!', 'Join', 'our', '#CleanerIndoorAirChallenge', 'informational', 'webinar', 'at', '8', 'AM', '(', 'PT', ')', 'to', 'hear', 'how', 'your', 'innovation', 'to', 'r', '…', 'RT', '@EPAnorthwest', ':', 'Tomorrow', 'March', '4', '!', 'Join', 'our', '#CleanerIndoorAirChallenge', 'informational', 'webinar', 'at', '8', 'AM', '(', 'PT', ')', 'to', 'hear', 'how', 'your', 'innovation', 'to', 'r', '…', 'RT', '@ConservationNW', ':', 'ACTION', 'ALERT', ':', 'After', 'last', \"summer's\", '#wildfires', 'burned', 'more', 'than', '800,000', 'acres', 'of', \"Washington's\", '#shrubsteppe', ',', 'this', 'delicate', '…', 'ACTION', 'ALERT', ':', 'After', 'last', \"summer's\", '#wildfires', 'burned', 'more', 'than', '800,000', 'acres', 'of', \"Washington's\", '#shrubsteppe', ',', 'this', 'deli', '…', 'https://t.co/UnumEiMSx9', 'RT', '@WRIClimate', ':', 'A', 'new', 'analysis', 'by', 'Investigate', 'West', '(', '@invw', ')', 'has', 'found', 'areas', 'and', 'communities', 'most', 'likely', 'to', 'be', 'affected', 'by', 'climate', 'change', ',', 'id', '…', 'Innovative', 'and', 'great', 'to', 'see', '!', 'EPA', 'Challenge', 'Seeks', 'Innovative', 'Solutions', 'for', 'Reducing', 'Indoor', 'Air', 'Pollution', 'from', 'Wildfi', '…', 'https://t.co/0dOswdOkSi', 'RT', '@EPAnorthwest', ':', 'Tomorrow', 'March', '4', '!', 'Join', 'our', '#CleanerIndoorAirChallenge', 'informational', 'webinar', 'at', '8', 'AM', '(', 'PT', ')', 'to', 'hear', 'how', 'your', 'innovation', 'to', 'r', '…', 'RT', '@SusanGarren', ':', 'Those', 'who', 'find', 'beauty', 'in', 'all', 'of', 'nature', 'will', 'find', 'themselves', 'at', 'one', 'with', 'the', 'secrets', 'of', 'life', 'itself', '.', '~', 'L', '.', 'Wolfe', 'Gilbert', '~', '#', '…', 'RT', '@LancashireFRS', ':', 'Wildfires', 'are', 'not', 'only', 'a', 'problem', 'in', 'summer', '🔥', '🚨', '🚒', '#ClimateChange', 'means', 'we', 'are', 'seeing', 'more', '#wildfires', 'in', 'spring', 'than', 'ever', 'b', '…', 'More', 'proof', 'that', '#wildfires', 'impact', 'everyone', ',', 'including', 'artists', ',', 'actors', ',', 'and', 'musicians', '.', \"That's\", 'why', 'everyone', 'needs', 'to', '…', 'https://t.co/vTodH41hJY', 'RT', '@LancashireFRS', ':', 'Wildfires', 'are', 'not', 'only', 'a', 'problem', 'in', 'summer', '🔥', '🚨', '🚒', '#ClimateChange', 'means', 'we', 'are', 'seeing', 'more', '#wildfires', 'in', 'spring', 'than', 'ever', 'b', '…', 'RT', '@WRIClimate', ':', 'A', 'new', 'analysis', 'by', 'Investigate', 'West', '(', '@invw', ')', 'has', 'found', 'areas', 'and', 'communities', 'most', 'likely', 'to', 'be', 'affected', 'by', 'climate', 'change', ',', 'id', '…', 'RT', '@WRIClimate', ':', 'A', 'new', 'analysis', 'by', 'Investigate', 'West', '(', '@invw', ')', 'has', 'found', 'areas', 'and', 'communities', 'most', 'likely', 'to', 'be', 'affected', 'by', 'climate', 'change', ',', 'id', '…', 'RT', '@EPAnorthwest', ':', 'Tomorrow', 'March', '4', '!', 'Join', 'our', '#CleanerIndoorAirChallenge', 'informational', 'webinar', 'at', '8', 'AM', '(', 'PT', ')', 'to', 'hear', 'how', 'your', 'innovation', 'to', 'r', '…', 'We', 'are', 'excited', 'to', 'be', 'launching', 'the', '2021', 'Better', 'Working', 'World', '#DataChallenge', '!', 'If', 'you', 'have', 'an', 'interest', 'in', 'data', 'scien', '…', 'https://t.co/l9FalXr8kn', 'RT', '@SusanGarren', ':', 'Those', 'who', 'find', 'beauty', 'in', 'all', 'of', 'nature', 'will', 'find', 'themselves', 'at', 'one', 'with', 'the', 'secrets', 'of', 'life', 'itself', '.', '~', 'L', '.', 'Wolfe', 'Gilbert', '~', '#', '…', 'Tomorrow', 'March', '4', '!', 'Join', 'our', '#CleanerIndoorAirChallenge', 'informational', 'webinar', 'at', '8', 'AM', '(', 'PT', ')', 'to', 'hear', 'how', 'your', 'innovatio', '…', 'https://t.co/gMAHgNvrwV', 'On', 'tap', 'at', 'capitol', ':', 'wildfire', 'restoration', ',', 'underground', 'water', 'storage', ',', 'new', 'water', 'funding', 'authority', '-', 'Water', 'Education', 'C', '…', 'https://t.co/gejKJY8QEK', 'RT', '@singhanil854', ':', '#Wildfires', 'destroyed', '10', 'acres', 'of', 'tiger', 'habitat', 'in', 'the', '#Amrabad', 'tiger', 'reserve', '.', '#Hyderabad', '@CopernicusEU', 'https://t.co/ppVTa…', '#Wildfires', 'destroyed', '10', 'acres', 'of', 'tiger', 'habitat', 'in', 'the', '#Amrabad', 'tiger', 'reserve', '.', '#Hyderabad', '@CopernicusEU', 'https://t.co/ppVTafMecX', 'RT', '@LakeTahoeUSFS', ':', 'Prescribed', 'fire', 'operations', 'continue', 'this', 'week', ',', 'weather', 'permitting', '.', 'Smoke', 'may', 'be', 'visible', '.', 'View', 'map', 'at', 'https://t.co/C95AyU…', 'RT', '@SusanGarren', ':', 'Those', 'who', 'find', 'beauty', 'in', 'all', 'of', 'nature', 'will', 'find', 'themselves', 'at', 'one', 'with', 'the', 'secrets', 'of', 'life', 'itself', '.', '~', 'L', '.', 'Wolfe', 'Gilbert', '~', '#', '…', 'RT', '@SusanGarren', ':', 'Those', 'who', 'find', 'beauty', 'in', 'all', 'of', 'nature', 'will', 'find', 'themselves', 'at', 'one', 'with', 'the', 'secrets', 'of', 'life', 'itself', '.', '~', 'L', '.', 'Wolfe', 'Gilbert', '~', '#', '…', '…', 'written', 'by', 'Met', 'One', 'Instruments', ',', 'Inc', '.', 'Scientists', 'Dr', '.', 'David', 'Gobeli', 'and', 'Jennifer', 'Brown', '.', 'Read', 'it', 'here', ':', '…', 'https://t.co/ucdziGC469', 'Prescribed', 'fire', 'operations', 'continue', 'this', 'week', ',', 'weather', 'permitting', '.', 'Smoke', 'may', 'be', 'visible', '.', 'View', 'map', 'at', '…', 'https://t.co/cMgEXo4JBb', 'RT', '@EPAnorthwest', ':', 'Tomorrow', 'March', '4', '!', 'Join', 'our', '#CleanerIndoorAirChallenge', 'informational', 'webinar', 'at', '8', 'AM', '(', 'PT', ')', 'to', 'hear', 'how', 'your', 'innovation', 'to', 'r', '…', 'Tomorrow', 'March', '4', '!', 'Join', 'our', '#CleanerIndoorAirChallenge', 'informational', 'webinar', 'at', '8', 'AM', '(', 'PT', ')', 'to', 'hear', 'how', 'your', 'innovatio', '…', 'https://t.co/fES1uG1GrO', 'RT', '@tdworldmag', ':', 'CPUC', 'Proposes', 'Enhanced', 'Oversight', 'Process', 'for', 'PG', '&', 'E', 'Wildfire', 'Mitigation', 'Work', ',', 'Utility', 'Responds', '#TDWorld', '#Wildfires', '#Regulator', '…', '\"', 'As', 'of', 'mid-December', '2020', ',', 'the', 'National', 'Interagency', 'Fire', 'Center', 'reported', 'more', 'than', '10.6', 'million', 'acres', 'burned', 'and', 'nea', '…', 'https://t.co/LAxCBratKg', 'I', 'remember', 'running', 'outside', 'to', 'take', 'this', 'photo', ',', 'and', 'then', 'running', 'right', 'back', 'inside', '.', '2020', '#wildfires', 'https://t.co/TkUMR0dYbq', 'RT', '@Treehugger', ':', '\"', 'It', 'represents', 'a', 'shift', 'in', 'thinking', 'from', 'being', 'purely', 'reactive', 'to', 'wildfires', 'to', 'being', 'proactive', 'in', 'planning', 'for', 'their', 'inevita', '…', 'RT', '@CSFS_Outreach', ':', 'Report', ':', '#Colorado', 'forests', 'are', 'in', 'trouble', 'after', 'historic', '#wildfires', '.', \"Here's\", 'how', \"we're\", 'working', 'to', 'protect', 'them', '>', '>', 'https://…', \"We're\", 'looking', 'at', 'a', 'nasty', 'fire', 'season', 'again', '.', 'Spotted', 'dragging', 'trailer', 'chains', 'on', 'a', 'vehicle', 'awhile', 'back', 'and', 'had', 'them', 'c', '…', 'https://t.co/HpbNsMhAGv', 'RT', '@SierraClubBC', ':', '#DYK', 'that', '#oldgrowth', 'forests', 'are', 'more', 'resilient', 'to', 'worsening', 'wildfires', 'than', 'young', 'forests', '?', 'As', '#wildfires', 'become', 'more', 'comm', '…', 'RT', '@EarthLabCU', ':', 'This', 'article', 'from', 'Earth', 'Lab', '’', 's', 'Virginia', 'Iglesias', '“', 'If', 'the', '#trees', 'burn', ',', 'is', 'the', 'forest', 'lost', '?', '”', 'published', 'by', '@theroyalsociety', 'exp', '…', 'RT', '@WILDLABSNET', ':', '#Cameratraps', 'are', 'a', 'huge', 'part', 'of', 'the', '#Tech4Wildlife', 'Photo', 'Challenge', ',', 'and', 'always', 'earn', 'many', 'honourable', 'mentions', '!', 'First', 'up', 'is', '…', 'RT', '@LancashireFRS', ':', 'Wildfires', 'are', 'not', 'only', 'a', 'problem', 'in', 'summer', '🔥', '🚨', '🚒', '#ClimateChange', 'means', 'we', 'are', 'seeing', 'more', '#wildfires', 'in', 'spring', 'than', 'ever', 'b', '…', 'RT', '@EarthLabCU', ':', 'This', 'article', 'from', 'Earth', 'Lab', '’', 's', 'Virginia', 'Iglesias', '“', 'If', 'the', '#trees', 'burn', ',', 'is', 'the', 'forest', 'lost', '?', '”', 'published', 'by', '@theroyalsociety', 'exp', '…', 'Inaction', 'is', '👏', 'not', '👏', 'an', '👏', 'option', '!', '!', '#ExtremeWeather', 'and', 'raging', '#wildfires', 'are', 'devastating', 'our', 'health', 'and', 'environment', '.', '…', 'https://t.co/IlTD7VYVc6', 'CPUC', 'Proposes', 'Enhanced', 'Oversight', 'Process', 'for', 'PG', '&', 'E', 'Wildfire', 'Mitigation', 'Work', ',', 'Utility', 'Responds', '#TDWorld', '#Wildfires', '…', 'https://t.co/YbFJil3ix1', 'Those', 'who', 'find', 'beauty', 'in', 'all', 'of', 'nature', 'will', 'find', 'themselves', 'at', 'one', 'with', 'the', 'secrets', 'of', 'life', 'itself', '.', '~', 'L', '.', 'Wolfe', 'Gilb', '…', 'https://t.co/6R4OMsQSnR', 'RT', '@WILDLABSNET', ':', '#Cameratraps', 'are', 'a', 'huge', 'part', 'of', 'the', '#Tech4Wildlife', 'Photo', 'Challenge', ',', 'and', 'always', 'earn', 'many', 'honourable', 'mentions', '!', 'First', 'up', 'is', '…', '#Cameratraps', 'are', 'a', 'huge', 'part', 'of', 'the', '#Tech4Wildlife', 'Photo', 'Challenge', ',', 'and', 'always', 'earn', 'many', 'honourable', 'mentions', '!', 'First', '…', 'https://t.co/lgkloZeU46', 'RT', '@EarthLabCU', ':', 'This', 'article', 'from', 'Earth', 'Lab', '’', 's', 'Virginia', 'Iglesias', '“', 'If', 'the', '#trees', 'burn', ',', 'is', 'the', 'forest', 'lost', '?', '”', 'published', 'by', '@theroyalsociety', 'exp', '…', 'RT', '@LancashireFRS', ':', 'Wildfires', 'are', 'not', 'only', 'a', 'problem', 'in', 'summer', '🔥', '🚨', '🚒', '#ClimateChange', 'means', 'we', 'are', 'seeing', 'more', '#wildfires', 'in', 'spring', 'than', 'ever', 'b', '…', 'This', 'article', 'from', 'Earth', 'Lab', '’', 's', 'Virginia', 'Iglesias', '“', 'If', 'the', '#trees', 'burn', ',', 'is', 'the', 'forest', 'lost', '?', '”', 'published', 'by', '…', 'https://t.co/VIs8uUec5v', 'RT', '@Treehugger', ':', '\"', 'It', 'represents', 'a', 'shift', 'in', 'thinking', 'from', 'being', 'purely', 'reactive', 'to', 'wildfires', 'to', 'being', 'proactive', 'in', 'planning', 'for', 'their', 'inevita', '…', 'RT', '@PantheraCats', ':', 'This', 'forest', 'is', 'threatened', 'by', 'non-indigenous', 'colonization', 'which', 'removes', 'trees', 'for', 'livestock', 'and', 'agriculture', '.', 'This', 'expansio', '…', 'This', 'forest', 'is', 'threatened', 'by', 'non-indigenous', 'colonization', 'which', 'removes', 'trees', 'for', 'livestock', 'and', 'agriculture', '.', 'This', 'ex', '…', 'https://t.co/SigCqaw9GY', 'RT', 'Treehugger', '\"', 'It', 'represents', 'a', 'shift', 'in', 'thinking', 'from', 'being', 'purely', 'reactive', 'to', 'wildfires', 'to', 'being', 'proactive', 'in', 'plan', '…', 'https://t.co/D1KRMxQ0wx', '\"', 'It', 'represents', 'a', 'shift', 'in', 'thinking', 'from', 'being', 'purely', 'reactive', 'to', 'wildfires', 'to', 'being', 'proactive', 'in', 'planning', 'for', 'their', '…', 'https://t.co/NxANguUeKz', 'RT', '@LancashireFRS', ':', 'Wildfires', 'are', 'not', 'only', 'a', 'problem', 'in', 'summer', '🔥', '🚨', '🚒', '#ClimateChange', 'means', 'we', 'are', 'seeing', 'more', '#wildfires', 'in', 'spring', 'than', 'ever', 'b', '…', 'Chemical', 'aging', 'of', 'particles', 'from', '#wildfires', 'can', 'lead', 'to', 'cloud', 'formation', 'and', 'intense', 'storm', 'development', '.', '@CAPS_CMU', '…', 'https://t.co/44oiWDpWTG', 'Invasive', 'grass', 'is', 'overwhelming', 'U', '.', 'S', '.', 'deserts-providing', 'fuel', 'for', '#wildfires', ':', 'National', 'Geographic', '…', 'https://t.co/DsfDFsOiAM', 'RT', '@LancashireFRS', ':', 'Wildfires', 'are', 'not', 'only', 'a', 'problem', 'in', 'summer', '🔥', '🚨', '🚒', '#ClimateChange', 'means', 'we', 'are', 'seeing', 'more', '#wildfires', 'in', 'spring', 'than', 'ever', 'b', '…', 'RT', '@CLEANBOSS2', ':', 'Effects', 'of', '#global', '#climatechange', 'include', 'frequent', '#wildfires', '#droughts', 'intensity', 'of', '#tropical', '#storms', '.', 'Global', '#sealevel', 'ris', '…', 'RT', '@CLEANBOSS2', ':', 'Effects', 'of', '#global', '#climatechange', 'include', 'frequent', '#wildfires', '#droughts', 'intensity', 'of', '#tropical', '#storms', '.', 'Global', '#sealevel', 'ris', '…', 'RT', '@CLEANBOSS2', ':', 'Effects', 'of', '#global', '#climatechange', 'include', 'frequent', '#wildfires', '#droughts', 'intensity', 'of', '#tropical', '#storms', '.', 'Global', '#sealevel', 'ris', '…', 'Uncovering', 'patterns', 'in', 'California', '’', 's', 'blazing', 'wildfires', '#SantaAnaWinds', '#Wildfires', '#Mudslides', '#California', '#LosAngeles', '…', 'https://t.co/RWdsI8dznH', 'RT', '@LancashireFRS', ':', 'Wildfires', 'are', 'not', 'only', 'a', 'problem', 'in', 'summer', '🔥', '🚨', '🚒', '#ClimateChange', 'means', 'we', 'are', 'seeing', 'more', '#wildfires', 'in', 'spring', 'than', 'ever', 'b', '…', 'RT', '@LancashireFRS', ':', 'Wildfires', 'are', 'not', 'only', 'a', 'problem', 'in', 'summer', '🔥', '🚨', '🚒', '#ClimateChange', 'means', 'we', 'are', 'seeing', 'more', '#wildfires', 'in', 'spring', 'than', 'ever', 'b', '…', 'Wildfires', 'are', 'not', 'only', 'a', 'problem', 'in', 'summer', '🔥', '🚨', '🚒', '#ClimateChange', 'means', 'we', 'are', 'seeing', 'more', '#wildfires', 'in', 'spring', 'than', 'e', '…', 'https://t.co/jRwcO9RY7I', 'RT', '@sahoo_biswaj', ':', 'Save', '#Mayurbhanj', '#wildfires', '#Odisha', 'https://t.co/A4WjivDIDT', 'Save', '#Mayurbhanj', '#wildfires', '#Odisha', 'https://t.co/A4WjivDIDT', 'Forest', 'service', 'highlights', 'wildfire', 'prevention', 'after', 'historic', 'season', '-', 'https://t.co/482riH4xgj', 'KUSA', '…', 'https://t.co/OSDMynXQAM', 'Craggy', 'Vegetation', 'Management', 'Project', 'going', 'on', 'now', 'to', 'reduce', 'risk', 'of', 'wildfire', 'spread', '-', 'KDRV', 'https://t.co/f3YzMuBOof', '#Heatwave', '#Wildfires', 'Randall', 'County', 'Fire', 'Department', 'receive', 'new', 'engine', 'to', 'help', 'potential', 'busy', 'wildfire', 'season', '-', 'KFDA', 'https://t.co/1QM7YOiyNL', '#Heatwave', '#Wildfires', 'Spring', 'Wildfire', 'Danger', 'Outlook', 'is', 'Bad', 'News', 'For', 'Florida', ',', 'Southwest', 'and', 'Southern', 'Plains', '|', 'The', 'Weather', 'Channel', '-', 'Artic', '…', 'https://t.co/yWc7v731Rr', 'Argonne', 'Climate', 'Model', 'Helps', 'PG', '&', 'E', 'Plan', 'for', 'Climate', 'Change', ',', 'Wildfire', 'Impacts', '-', 'Transmission', '&', 'Distribution', 'World', '…', 'https://t.co/HDQDy8eUxO', 'NV', 'Energy', 'installs', 'fire', 'mesh', 'on', 'poles', 'as', 'potential', 'wildfire', 'mitigation', 'technique', '-', 'News', '3LV', 'https://t.co/upJd3Ml4EH', '#Heatwave', '#Wildfires', 'A', 'wildfire', 'prevention', 'plan', ':', 'Shorter', 'grass', 'on', 'rangelands', '-', 'Capitol', 'Weekly', 'https://t.co/Q0r1v0Xip5', '#Heatwave', '#Wildfires', 'Northern', 'Sonoma', 'County', 'Fire', 'District', 'chief', 'earns', 'national', 'wildfire', 'mitigation', 'award', '-', 'Sonoma', 'West', '…', 'https://t.co/ce2VP0Fc4X', 'Danger', 'zone', ':', 'March', 'prime', 'wildfire', 'season', '-', 'Newton', 'Kansan', 'https://t.co/6BPEtistIV', '#Heatwave', '#Wildfires', 'Wildfire', 'Season', 'is', 'Here', ',', 'Help', 'Prevent', 'Unwanted', 'Fires', '-', 'https://t.co/0apXP8zVO3', 'https://t.co/FCbmBV8QBh', '#Heatwave', '#Wildfires', 'Ongoing', 'Panhandle', 'wildfire', 'threat', 'from', 'Hurricane', 'Michael', 'debris', 'sparks', 'new', 'state', 'campaign', '-', 'The', 'News', 'Herald', '…', 'https://t.co/6QxoAyIx12', 'Landslides', 'After', 'Wildfires', 'Expected', 'Yearly', 'in', 'Southern', 'California', '-', 'Treehugger', 'https://t.co/APLroq17I8', '#Heatwave', '#Wildfires', 'Fitch', 'Rates', 'Edison', \"International's\", 'Preferred', 'Stock', 'Issuance', \"'\", 'BB', \"'\", '-', 'Fitch', 'Ratings', 'https://t.co/CMmEtCRXYR', '#Heatwave', '#Wildfires', 'Cornea', 'eyes', 'in', 'on', 'fighting', 'wildfires', 'using', 'better', 'data', '-', 'TechCrunch', 'https://t.co/tL3Nub7LCY', '#Heatwave', '#Wildfires', 'EY', 'announces', '2021', 'Better', 'Working', 'World', 'Data', 'Challenge', 'focused', 'on', 'wildfire', 'management', 'through', 'data', 'analytics', 'and', 'AI', '…', 'https://t.co/u1UwcrmVJm', 'Update', '-', 'Wildfire', 'southeast', 'of', 'Winslow', ',', 'Arizona', 'mapped', 'at', '461', 'acres', '-', 'Wildfire', 'Today', 'https://t.co/M9GfHVw7Oh', '#Heatwave', '#Wildfires', 'How', 'to', 'protect', 'reservoirs', 'amidst', 'increasing', 'wildfires', 'the', 'focus', 'of', 'USU', 'research', '-', 'Cache', 'Valley', 'Daily', '…', 'https://t.co/fpShHusJdZ', 'Wildfire', 'season', 'starts', 'in', 'Alberta', '|', 'CTV', 'News', '-', 'CTV', 'Edmonton', '-', 'CTV', 'Edmonton', 'https://t.co/abXpLPXa0O', '#Heatwave', '#Wildfires', 'RT', '@HORNi_Rhino', ':', 'Whilst', 'wild', 'fires', 'play', 'a', 'regular', 'role', 'in', 'the', 'regeneration', 'of', 'many', 'habitats', ',', 'fires', 'are', 'now', 'spreading', 'further', 'and', 'further', 'ar', '…', 'RT', '@ScienceAtCal', ':', 'Science', 'at', 'Cal', 'coming', 'in', 'HOT', '!', '🔥', 'Join', 'us', 'TODAY', 'at', '3pm', 'PST', 'to', 'learn', 'about', 'the', 'science', 'of', '#wildfires', '.', 'How', 'do', 'fires', 'grow', '?', 'Wha', '…', 'RT', '@ACESaspen', ':', 'We', 'are', 'excited', 'to', 'host', '@PhilipHiguera', 'at', 'our', 'final', 'Naturalist', 'Nights', 'this', 'season', '-', 'we', 'hope', 'you', 'check', 'out', 'this', 'article', 'he', 'co', '-', '…', 'RT', '@AJWasahi', ':', 'Tochigi', 'wildfire', 'brought', 'under', 'control', 'after', 'joint', '9', '-', 'day', 'battle', '#Japan', '#wildfires', ':', 'The', 'Asahi', 'Shimbun', 'https://t.co/43gzoZ73Hp', \"California's\", 'Wildfire', 'Effect', 'on', 'Agriculture', '#California', '#agriculture', '#wildfires', 'https://t.co/gWjXwPJdOo', 'RT', '@JeffR911', ':', 'The', 'future', 'of', 'fighting', '#wildfires', 'includes', 'using', '#AI', 'models', 'and', '#predictiveanalytics', 'to', 'enhance', 'decision', 'making', 'and', 'stretch', 'r', '…', 'RT', '@JeffR911', ':', 'The', 'future', 'of', 'fighting', '#wildfires', 'includes', 'using', '#AI', 'models', 'and', '#predictiveanalytics', 'to', 'enhance', 'decision', 'making', 'and', 'stretch', 'r', '…', 'I', 'got', 'some', 'media', 'interviews', 'last', 'week', '(', 'about', '#wildfires', ')', '.', 'Sometimes', ',', 'my', 'voice', 'was', 'heavily', 'modified', 'or', 'cherry-picked', '…', 'https://t.co/LDYYVuZlus', 'Wildfires', '-', 'Ann', 'Armbruster', '1996', 'HC', '#history', '#educational', '#wildfires', '#vintagebooks', '#bookstores', 'https://t.co/UlQjUhGBjV', 'via', '@Etsy', 'RT', '@chriscartw83', ':', 'For', 'those', 'who', 'hope', 'the', '#climatecrisis', 'will', 'disappear', 'quietly', ',', 'by', 'pledging', '#netzero', 'in', '2090', \"Ain't\", 'going', 'to', 'happen', '...', \"it's\", '…', 'Invasive', 'grass', 'is', 'overwhelming', 'U', '.', 'S', '.', 'deserts', '—', 'providing', 'fuel', 'for', 'wildfires', 'https://t.co/OPC1ROQzPQ', 'via', '@NatGeoTravel', '…', 'https://t.co/GYhAVHOTIE', 'RT', '@robnikolewski', ':', 'SD', 'County', 'supervisors', 'direct', '$', '607,000', 'to', 'reduce', 'the', 'effects', 'of', 'power', 'shutoffs', ':', 'https://t.co/Ntm21vz8IM', '@sdut', '@SanDiegoCo', '…', 'SD', 'County', 'supervisors', 'direct', '$', '607,000', 'to', 'reduce', 'the', 'effects', 'of', 'power', 'shutoffs', ':', 'https://t.co/Ntm21vz8IM', '@sdut', '…', 'https://t.co/boOwcv4OnH', 'RT', '@ACESaspen', ':', 'We', 'are', 'excited', 'to', 'host', '@PhilipHiguera', 'at', 'our', 'final', 'Naturalist', 'Nights', 'this', 'season', '-', 'we', 'hope', 'you', 'check', 'out', 'this', 'article', 'he', 'co', '-', '…', 'We', 'are', 'excited', 'to', 'host', '@PhilipHiguera', 'at', 'our', 'final', 'Naturalist', 'Nights', 'this', 'season', '-', 'we', 'hope', 'you', 'check', 'out', 'this', 'artic', '…', 'https://t.co/jFmGnRTxwf', 'This', 'Thursday', ',', 'March', '4', 'at', '6pm', 'is', 'our', 'final', '#naturalistnights', 'of', 'the', 'season', '!', 'We', 'hope', 'you', 'join', 'us', 'and', '@PhilipHiguera', '…', 'https://t.co/sazlykve7f', 'Great', 'article', 'on', '#California', '#wildfires', 'and', 'the', 'variables', 'such', 'as', '#climate', 'and', '#vegetation', 'play', 'a', 'part', 'into', 'how', 'ext', '…', 'https://t.co/BaIEDlVtDf', 'RT', '@CSFS_Outreach', ':', 'Report', ':', '#Colorado', 'forests', 'are', 'in', 'trouble', 'after', 'historic', '#wildfires', '.', \"Here's\", 'how', \"we're\", 'working', 'to', 'protect', 'them', '>', '>', 'https://…', 'Dolly', 'Parton', 'is', 'the', 'reason', 'over', '100', 'million', 'books', 'have', 'been', 'given', 'to', 'children', 'by', '@dollyslibrary', ',', 'she', 'gave', 'to', 'her', 'co', '…', 'https://t.co/5TKU8LtYOh', 'RT', '@ST_Sustainable', ':', 'Massive', '#wildfires', 'have', 'raised', 'the', 'alarm', 'over', '#climatechange', 'from', 'Australia', 'and', 'the', 'U', '.', 'S', '.', 'to', 'Siberia', ',', 'but', 'one', 'entreprene', '…', 'Massive', '#wildfires', 'have', 'raised', 'the', 'alarm', 'over', '#climatechange', 'from', 'Australia', 'and', 'the', 'U', '.', 'S', '.', 'to', 'Siberia', ',', 'but', 'one', 'entrep', '…', 'https://t.co/2zgQB1D2AO', 'RT', '@GlobalGovForum', ':', 'The', 'scientific', 'community', 'has', 'long', 'warned', 'us', 'about', 'an', 'increase', 'in', 'environmentally', 'induced', 'disasters', 'such', 'as', 'flooding', 'and', '…', 'Protecting', 'communities', 'in', '#SierraNevada', 'from', 'dangerous', '#wildfires', 'https://t.co/i4vPAfPIbK', '@SCE', '@cafiresafe', '#highway168firesafecouncil', 'RT', '@FEMARegion9', ':', '#Wildfires', 'dramatically', 'alter', 'the', 'terrain', 'and', 'increase', 'the', 'risk', 'of', 'floods', '.', '“', 'There', 'is', 'obviously', 'a', 'concern', 'of', 'the', 'burn', 'scar', '…', 'RT', '@chriscartw83', ':', 'For', 'those', 'who', 'hope', 'the', '#climatecrisis', 'will', 'disappear', 'quietly', ',', 'by', 'pledging', '#netzero', 'in', '2090', \"Ain't\", 'going', 'to', 'happen', '...', \"it's\", '…', \"It's\", 'official', '.', 'Wildfire', 'Season', 'in', 'Alberta', 'has', 'started', '!', 'From', 'now', 'until', 'October', ',', 'permits', 'will', 'be', 'required', 'for', 'any', 'per', '…', 'https://t.co/LTOHtEW76U', 'Why', 'is', 'nobody', 'reporting', 'on', 'the', '#wildfires', 'in', '#similipal', '?', 'https://t.co/JzWrgjGVp4', 'RT', '@Indira_L', ':', '#Invasivespecies', 'grass', 'is', 'overwhelming', 'U', '.', 'S', '.', 'deserts', '—', 'providing', 'fuel', 'for', '#wildfires', '.', 'Volunteers', 'are', 'yanking', 'the', 'dangerous', 'grass', '…', '#Invasivespecies', 'grass', 'is', 'overwhelming', 'U', '.', 'S', '.', 'deserts', '—', 'providing', 'fuel', 'for', '#wildfires', '.', 'Volunteers', 'are', 'yanking', 'the', 'dange', '…', 'https://t.co/OdyxIfqmw1', 'RT', '@m_parrington', ':', 'February', '2021', 'global', 'fire', 'activity', '&', 'intensity', 'from', '#CopernicusAtmosphere', 'Monitoring', 'Service', 'Global', 'Fire', 'Assimilation', 'Sys', '…', \"There's\", 'a', 'place', 'in', 'the', 'Tahoe', 'National', 'Forest', 'called', 'Biggie', 'Hand', 'Piles', '😂', '#ForestManagement', 'in', 'action', '…', 'https://t.co/o8dRUREIlE', 'Why', 'The', 'U', '.', 'S', '.', 'Builds', 'Houses', 'Wrong', 'https://t.co/r3OPF8Ewsx', 'via', '@YouTube', '#USA', '#infrastructure', '#homes', '#houses', '…', 'https://t.co/s8302H99la', 'RT', '@CSFS_Outreach', ':', 'Report', ':', '#Colorado', 'forests', 'are', 'in', 'trouble', 'after', 'historic', '#wildfires', '.', \"Here's\", 'how', \"we're\", 'working', 'to', 'protect', 'them', '>', '>', 'https://…', 'Add', 'this', '#cawater', 'challenge', 'to', 'the', 'long', 'list', 'of', 'what', 'other', 'western', 'communities', 'are', 'dealing', 'with', '.', 'Can', \"Fresno's\", 'treat', '…', 'https://t.co/r3sKgUP3Dh', 'RT', '@CSFS_Outreach', ':', 'Report', ':', '#Colorado', 'forests', 'are', 'in', 'trouble', 'after', 'historic', '#wildfires', '.', \"Here's\", 'how', \"we're\", 'working', 'to', 'protect', 'them', '>', '>', 'https://…', 'Report', ':', '#Colorado', 'forests', 'are', 'in', 'trouble', 'after', 'historic', '#wildfires', '.', \"Here's\", 'how', \"we're\", 'working', 'to', 'protect', 'them', '>', '>', '…', 'https://t.co/sU8kNjaLeB', 'RT', '@ncforestservice', ':', 'Only', '2', '%', 'of', '#wildfires', 'are', 'caused', 'by', 'lightning', 'in', 'NC', 'each', 'year', '.', 'Almost', '40', '%', 'are', 'caused', 'by', 'careless', 'debris', 'burners', '.', 'Your', '…', '@NickCowern', '@RicBollen1', '@RovanZon', 'U', 'can', 'see', 'signature', 'it', 'in', 'massive', 'global', 'forest', '#wildfires', 'from', 'Alaska', ',', 'Siberia', ',', '…', 'https://t.co/RV3w08Urqq', 'RT', '@FEMARegion9', ':', '#Wildfires', 'dramatically', 'alter', 'the', 'terrain', 'and', 'increase', 'the', 'risk', 'of', 'floods', '.', '“', 'There', 'is', 'obviously', 'a', 'concern', 'of', 'the', 'burn', 'scar', '…', 'RT', '@ohiodnr', ':', 'ODNR', 'Urges', 'Caution', 'During', 'Ohio', '’', 's', 'Spring', 'Wildfire', 'Season', 'https://t.co/8FGku7fVhx', '#spring', '#wildfires', 'https://t.co/gO25fT1fD2', 'RT', '@FEMARegion9', ':', '#Wildfires', 'dramatically', 'alter', 'the', 'terrain', 'and', 'increase', 'the', 'risk', 'of', 'floods', '.', '“', 'There', 'is', 'obviously', 'a', 'concern', 'of', 'the', 'burn', 'scar', '…', '#Wildfires', 'dramatically', 'alter', 'the', 'terrain', 'and', 'increase', 'the', 'risk', 'of', 'floods', '.', '“', 'There', 'is', 'obviously', 'a', 'concern', 'of', 'the', 'bu', '…', 'https://t.co/x4EcBKkgu8', 'RT', '@DrCEriksen', ':', 'Join', 'us', '2', 'March', '10am', 'PST', '/', '7pm', 'CET', '.', 'I', '’', 'm', 'excited', 'to', 'share', 'my', 'work', 'on', 'radiation', 'reanimated', 'by', '#wildfires', 'in', 'the', 'Chernobyl', 'Exc', '…', 'RT', '@ohiodnr', ':', 'ODNR', 'Urges', 'Caution', 'During', 'Ohio', '’', 's', 'Spring', 'Wildfire', 'Season', 'https://t.co/8FGku7fVhx', '#spring', '#wildfires', 'https://t.co/gO25fT1fD2', 'RT', '@ncforestservice', ':', 'Only', '2', '%', 'of', '#wildfires', 'are', 'caused', 'by', 'lightning', 'in', 'NC', 'each', 'year', '.', 'Almost', '40', '%', 'are', 'caused', 'by', 'careless', 'debris', 'burners', '.', 'Your', '…', 'ODNR', 'Urges', 'Caution', 'During', 'Ohio', '’', 's', 'Spring', 'Wildfire', 'Season', 'https://t.co/8FGku7fVhx', '#spring', '#wildfires', 'https://t.co/gO25fT1fD2', 'RT', '@CalResilient', ':', '#Wildfires', 'are', 'affecting', 'the', 'ability', 'for', 'Californians', 'to', 'have', 'safe', 'and', 'affordable', 'drinking', '#water', '.', 'We', 'need', '#resilientfore', '…', '#PowerOutages', 'and', '#Wildfires', 'are', 'a', 'nuisance', 'for', '#utilities', 'when', \"they're\", 'caused', 'due', 'to', 'vegetation', 'encroachment', '.', 'AiDa', '…', 'https://t.co/3MnLv3E94O', 'RT', '@ncforestservice', ':', 'Only', '2', '%', 'of', '#wildfires', 'are', 'caused', 'by', 'lightning', 'in', 'NC', 'each', 'year', '.', 'Almost', '40', '%', 'are', 'caused', 'by', 'careless', 'debris', 'burners', '.', 'Your', '…', 'RT', '@CalResilient', ':', '#Wildfires', 'are', 'affecting', 'the', 'ability', 'for', 'Californians', 'to', 'have', 'safe', 'and', 'affordable', 'drinking', '#water', '.', 'We', 'need', '#resilientfore', '…', 'RT', '@WRIClimate', ':', '#California', '’', 's', 'famous', 'Redwood', 'forests', '—', 'containing', 'trees', 'that', 'have', 'been', 'standing', 'for', 'hundreds', 'of', 'years', '—', 'are', 'in', 'danger', 'of', 'being', '…', 'RT', '@CalResilient', ':', '#Wildfires', 'are', 'affecting', 'the', 'ability', 'for', 'Californians', 'to', 'have', 'safe', 'and', 'affordable', 'drinking', '#water', '.', 'We', 'need', '#resilientfore', '…', 'RT', '@ncforestservice', ':', 'Only', '2', '%', 'of', '#wildfires', 'are', 'caused', 'by', 'lightning', 'in', 'NC', 'each', 'year', '.', 'Almost', '40', '%', 'are', 'caused', 'by', 'careless', 'debris', 'burners', '.', 'Your', '…', 'RT', '@ncforestservice', ':', 'Only', '2', '%', 'of', '#wildfires', 'are', 'caused', 'by', 'lightning', 'in', 'NC', 'each', 'year', '.', 'Almost', '40', '%', 'are', 'caused', 'by', 'careless', 'debris', 'burners', '.', 'Your', '…', 'Only', '2', '%', 'of', '#wildfires', 'are', 'caused', 'by', 'lightning', 'in', 'NC', 'each', 'year', '.', 'Almost', '40', '%', 'are', 'caused', 'by', 'careless', 'debris', 'burners', '.', 'Yo', '…', 'https://t.co/9Q6G5KenxS', '#Wildfires', 'are', 'affecting', 'the', 'ability', 'for', 'Californians', 'to', 'have', 'safe', 'and', 'affordable', 'drinking', '#water', '.', 'We', 'need', '…', 'https://t.co/h8qJH3AiRT', 'ASC', 'Building', 'Products', 'has', 'a', 'page', 'dedicated', 'to', 'fire', 'resources', '!', 'Find', 'proven', 'methods', 'for', 'preparing', 'homes', 'for', 'the', 'devas', '…', 'https://t.co/OeQKjfUIiz', 'How', 'Wildfires', 'Threaten', 'U', '.', 'S', '.', 'Water', 'Supplies', 'https://t.co/v7NSBOwPtX', '#GIS', '#spatial', '#USA', '#water', '#hydrology', '#wildfire', '…', 'https://t.co/UGnNYOaeu9', 'This', 'looks', 'fun', '.', '#wildfires', '+', '#nuclear', 'disasters', '(', 'specifically', ',', '#Chernobyl', ')', 'https://t.co/VKwKDAeZQx', 'https://t.co/JQQQSs4cGB', 'RT', '@DivechaFor', ':', 'Join', 'the', 'future', 'earth', 'community', 'today', '!', 'Click', 'the', 'link', 'below', 'to', 'register', ':', 'https://t.co/mItGVaYA6u', '. \\n. \\n. \\n. \\n.\\n.', '#future', '…', 'RT', '@ESPM_Berkeley', ':', 'In', 'a', 'recent', 'article', 'for', '@sacbee_news', ',', 'professor', 'Scott', 'Stephens', 'discusses', '#forest', 'management', 'and', '#wildfires', ',', 'including', 'te', '…', 'Biden', 'Is', 'Hiking', 'the', 'Cost', 'of', 'Carbon', '.', 'It', 'Will', 'Change', 'How', 'the', 'U', '.', 'S', '.', 'Tackles', 'Global', 'Warming', '.', '-', '-', 'The', 'Washington', 'Post', '…', 'https://t.co/nYhcYcvDL4', 'RT', '@m_parrington', ':', 'February', '2021', 'global', 'fire', 'activity', '&', 'intensity', 'from', '#CopernicusAtmosphere', 'Monitoring', 'Service', 'Global', 'Fire', 'Assimilation', 'Sys', '…', 'RT', '@brodimapi', ':', '#Wildfires', 'in', \"#SouthAmerica's\", '#Pantanal', 'cont', '.', 'to', 'devastate', 'the', '#biodiversity', 'and', 'lives', 'of', 'the', 'people', 'of', 'the', 'area', '.', 'Find', 'out', 'm', '…', 'Whilst', 'wild', 'fires', 'play', 'a', 'regular', 'role', 'in', 'the', 'regeneration', 'of', 'many', 'habitats', ',', 'fires', 'are', 'now', 'spreading', 'further', 'and', 'fur', '…', 'https://t.co/qdQzByeNRU', 'RT', '@chriscartw83', ':', 'For', 'those', 'who', 'hope', 'the', '#climatecrisis', 'will', 'disappear', 'quietly', ',', 'by', 'pledging', '#netzero', 'in', '2090', \"Ain't\", 'going', 'to', 'happen', '...', \"it's\", '…', 'RT', '@chriscartw83', ':', 'For', 'those', 'who', 'hope', 'the', '#climatecrisis', 'will', 'disappear', 'quietly', ',', 'by', 'pledging', '#netzero', 'in', '2090', \"Ain't\", 'going', 'to', 'happen', '...', \"it's\", '…', 'For', 'those', 'who', 'hope', 'the', '#climatecrisis', 'will', 'disappear', 'quietly', ',', 'by', 'pledging', '#netzero', 'in', '2090', \"Ain't\", 'going', 'to', 'happen', '.', '…', 'https://t.co/dOIH2oXgDU', 'The', '#US', 'is', 'being', 'ravaged', 'by', '#wildfires', ',', '#hurricanes', ',', 'and', 'mass', '#unemployment', '.', 'A', 'new', '#Climate', 'Corps', 'could', 'lead', 'in', 'res', '…', 'https://t.co/IkeHZ1GkuW', 'Editorial', ':', 'California', 'must', 'pass', 'emergency', 'wildfire', 'prevention', 'funding', '#SantaAnaWinds', '#Wildfires', '#Mudslides', '…', 'https://t.co/W6TnfoS2VD', 'RT', '@sclinton60', ':', 'We', 'can', 'absolutely', 'change', 'the', 'future', 'if', 'we', 'want', 'change', '.', 'It', 'is', 'so', 'important', 'that', 'we', 'have', 'a', 'plan', '🙌', '#wildfires', '#ONEV1', '#Climat', '…', 'RT', '@sclinton60', ':', 'We', 'can', 'absolutely', 'change', 'the', 'future', 'if', 'we', 'want', 'change', '.', 'It', 'is', 'so', 'important', 'that', 'we', 'have', 'a', 'plan', '🙌', '#wildfires', '#ONEV1', '#Climat', '…', 'RT', '@m_parrington', ':', 'February', '2021', 'global', 'fire', 'activity', '&', 'intensity', 'from', '#CopernicusAtmosphere', 'Monitoring', 'Service', 'Global', 'Fire', 'Assimilation', 'Sys', '…', 'RT', '@m_parrington', ':', 'February', '2021', 'global', 'fire', 'activity', '&', 'intensity', 'from', '#CopernicusAtmosphere', 'Monitoring', 'Service', 'Global', 'Fire', 'Assimilation', 'Sys', '…', 'RT', '@m_parrington', ':', 'February', '2021', 'global', 'fire', 'activity', '&', 'intensity', 'from', '#CopernicusAtmosphere', 'Monitoring', 'Service', 'Global', 'Fire', 'Assimilation', 'Sys', '…', 'RT', '@DivechaFor', ':', 'Join', 'the', 'future', 'earth', 'community', 'today', '!', 'Click', 'the', 'link', 'below', 'to', 'register', ':', 'https://t.co/mItGVaYA6u', '. \\n. \\n. \\n. \\n.\\n.', '#future', '…', 'RT', '@m_parrington', ':', 'February', '2021', 'global', 'fire', 'activity', '&', 'intensity', 'from', '#CopernicusAtmosphere', 'Monitoring', 'Service', 'Global', 'Fire', 'Assimilation', 'Sys', '…', 'RT', '@m_parrington', ':', 'February', '2021', 'global', 'fire', 'activity', '&', 'intensity', 'from', '#CopernicusAtmosphere', 'Monitoring', 'Service', 'Global', 'Fire', 'Assimilation', 'Sys', '…', 'Join', 'the', 'future', 'earth', 'community', 'today', '!', 'Click', 'the', 'link', 'below', 'to', 'register', ':', 'https://t.co/mItGVaYA6u', '. \\n. \\n. \\n. \\n.\\n.', '…', 'https://t.co/vZu4tb2Jy0', 'RT', '@CA_CECS', ':', 'CECS-led', 'research', 'is', 'featured', 'today', 'in', '@AGU_Eos', '!', 'The', 'new', 'study', 'by', '@binleychen', 'et', 'al', '.', 'provides', 'insights', 'to', 'help', 'target', '#ForestM', '…', 'Renewable', 'Green', 'energy', 'is', 'an', 'illusion', 'that', 'so', 'many', 'refuse', 'to', 'comprehend', '..', 'However', 'there', 'is', 'a', 'vast', 'zero', 'co2', 'producin', '…', 'https://t.co/bPx2GfdEEj', 'RT', '@NEPABUZZ1', ':', 'Post-wildfire', 'landslides', 'becoming', 'more', 'frequent', 'in', 'Southern', 'California', 'https://t.co/eEFdGLfZiC', '#naturalhazards', '#California', '#', '…', 'Post-wildfire', 'landslides', 'becoming', 'more', 'frequent', 'in', 'Southern', 'California', 'https://t.co/eEFdGLfZiC', '#naturalhazards', '…', 'https://t.co/IDRgJXllaG', 'RT', '@m_parrington', ':', 'February', '2021', 'global', 'fire', 'activity', '&', 'intensity', 'from', '#CopernicusAtmosphere', 'Monitoring', 'Service', 'Global', 'Fire', 'Assimilation', 'Sys', '…', 'RT', '@robinsnewswire', ':', 'Landslides', 'After', 'Wildfires', 'in', 'Southern', 'California', 'Will', 'Become', 'More', 'Common', ',', 'New', 'Study', 'Says', '|', 'The', 'Weather', 'Channel', '-', 'Artic', '…', 'RT', '@robinsnewswire', ':', 'Editorial', ':', 'California', 'must', 'pass', 'emergency', 'wildfire', 'prevention', 'funding', '-', 'Marin', 'Independent', 'Journal', 'https://t.co/ks23oJfV…', 'Editorial', ':', 'California', 'must', 'pass', 'emergency', 'wildfire', 'prevention', 'funding', '-', 'Marin', 'Independent', 'Journal', '…', 'https://t.co/aUcfXY4tm0', 'Oregon', 'Hotel', 'Fined', 'for', 'Overcharging', 'People', 'During', 'Wildfire', '-', 'Insurance', 'Journal', 'https://t.co/CKd1JlSjPu', '#Heatwave', '#Wildfires', 'No', ',', \"it's\", 'not', 'too', 'early', 'to', 'be', 'thinking', 'about', 'wildfire', 'season', '-', 'NCWLIFE', 'News', 'https://t.co/b42OfywseZ', '#Heatwave', '#Wildfires', 'Staying', 'Fire', 'Wise', '&', 'Ember', 'Aware', 'to', 'Reduce', 'Wildfire', 'Risks', 'in', 'Our', 'Community', '-', 'Signals', 'AZ', 'https://t.co/QXn0dM06lX', '#Heatwave', '#Wildfires', 'Team', 'Rubicon', 'and', 'fire', 'crews', 'prep', 'for', 'next', 'wildfire', 'season', 'with', 'vegetation', 'management', '-', 'Sonoma', 'West', '…', 'https://t.co/jdTV817mrK', 'Forecasters', 'predict', 'enhanced', 'wildfire', 'conditions', 'in', 'the', 'southwest', 'through', 'June', '-', 'Wildfire', 'Today', 'https://t.co/OHl5BR0wdF', '#Heatwave', '#Wildfires', 'Uncovering', 'Patterns', 'in', \"California's\", 'Blazing', 'Wildfires', '-', 'Eos', 'https://t.co/8wDHI2U8lH', '#Heatwave', '#Wildfires', 'Landslides', 'After', 'Wildfires', 'in', 'Southern', 'California', 'Will', 'Become', 'More', 'Common', ',', 'New', 'Study', 'Says', '|', 'The', 'Weather', 'Channel', '-', 'A', '…', 'https://t.co/NQD8lbV9RT', 'Douglas', 'County', 'prepares', 'for', 'likely', 'tough', 'wildfire', ',', 'drought', 'season', '-', 'Canyon', 'Courier', 'https://t.co/pyiGJeJs90', '#Heatwave', '#Wildfires', 'Story', 'tips', ':', 'Quantum', 'building', 'blocks', ',', 'high-pressure', 'diamonds', ',', 'wildfire', 'ecology', 'and', 'more', '-', 'EurekAlert', '…', 'https://t.co/F16j5e3QJz', 'PG', '&', 'E', 'customers', 'will', 'see', 'more', 'expensive', 'bills', 'to', 'help', 'pay', 'for', 'wildfire', 'prevention', 'equipment', '-', '…', 'https://t.co/hzvIAGhUw4', 'FEMA', 'opens', 'temporary', 'housing', 'site', 'for', 'wildfire', 'survivors', 'in', 'Lincoln', 'City', '-', 'KATU', 'https://t.co/Jf9XVW2SOs', '#Heatwave', '#Wildfires', 'Red', 'Lion', 'To', 'Open', 'Next', 'Week', 'For', 'Displaced', 'Wildfire', 'Survivors', '-', 'KLCC', 'FM', 'Public', 'Radio', 'https://t.co/sTAgbX0LWy', '#Heatwave', '#Wildfires', 'Tochigi', 'wildfire', 'brought', 'under', 'control', 'after', 'joint', '9', '-', 'day', 'battle', ':', 'The', 'Asahi', 'Shimbun', '-', 'Asahi', 'Shimbun', '…', 'https://t.co/iJpTnc6Txz', '12th', 'District', 'Senator', 'Brad', 'Hawkins', 'Utility', 'Wildfire', 'Legislation', 'Passes', 'Out', 'of', 'State', 'Senate', '-', 'KPQ', '…', 'https://t.co/HK8aLYP0wX', 'Wildfire', 'victims', 'sue', 'former', 'PG', '&', 'E', 'executives', 'alleging', 'neglect', '-', 'Raleigh', 'News', '&', 'Observer', 'https://t.co/KnG1Geubuc', '#Heatwave', '#Wildfires', 'Forest', 'department', 'raises', 'guard', 'to', 'curb', 'wildfire', 'in', 'Similipal', '-', 'The', 'New', 'Indian', 'Express', 'https://t.co/o6IK3i0fhz', '#Heatwave', '#Wildfires', 'Seeding', 'ice', 'clouds', 'with', 'wildfire', 'emissions', '-', 'https://t.co/d0pNzhzgsD', 'https://t.co/jSg30KJfgP', '#Heatwave', '#Wildfires', 'Tochigi', 'wildfire', 'brought', 'under', 'control', 'after', 'joint', '9', '-', 'day', 'battle', '#Japan', '#wildfires', ':', 'The', 'Asahi', 'Shimbun', 'https://t.co/43gzoZ73Hp', 'RT', '@m_parrington', ':', 'February', '2021', 'global', 'fire', 'activity', '&', 'intensity', 'from', '#CopernicusAtmosphere', 'Monitoring', 'Service', 'Global', 'Fire', 'Assimilation', 'Sys', '…', 'RT', '@m_parrington', ':', 'February', '2021', 'global', 'fire', 'activity', '&', 'intensity', 'from', '#CopernicusAtmosphere', 'Monitoring', 'Service', 'Global', 'Fire', 'Assimilation', 'Sys', '…', 'RT', '@agu_ceo', ':', 'More', 'media', 'coverage', 'of', 'an', 'important', '@EarthsFutureEiC', 'paper', 'about', '#wildfires', 'and', '#landslides', 'in', 'Southern', 'California', ':', 'https://t.…', '\"', 'The', 'scientists', 'attribute', 'this', 'small', 'but', 'unexpected', 'air', 'quality', 'improvement', 'to', 'the', 'fact', 'that', 'a', 'decrease', 'in', 'burning', '…', 'https://t.co/5O06Pqe2ZA', 'RT', '@CalResilient', ':', 'Study', 'reveals', 'new', 'patterns', 'for', \"CA's\", '#wildfires', '.', \"Let's\", 'get', 'to', 'work', 'with', 'practices', 'we', 'know', 'work', 'to', 'reduce', 'them', 'now', 'https://…', 'So', '...', '#America', ',', 'how', 'come', ',', 'despite', 'ever', 'more', '#floods', ',', '#wildfires', ',', '#hurricanes', ',', '#tornados', '#heatwaves', ',', '#droughts', ',', '…', 'https://t.co/Yh7uaVyQV0', 'RT', '@WRIClimate', ':', 'A', 'new', 'analysis', 'by', 'Investigate', 'West', '(', '@invw', ')', 'has', 'found', 'areas', 'and', 'communities', 'most', 'likely', 'to', 'be', 'affected', 'by', 'climate', 'change', ',', 'id', '…', '#Wildfires', 'could', \"'\", 'seed', \"'\", 'new', 'clouds', 'with', 'the', 'particles', 'they', 'release', ':', 'ZME', 'Science', 'https://t.co/JRw58AtrU5', '#forest', '…', 'https://t.co/sjOt7Pyfzq', 'RT', '@m_parrington', ':', 'February', '2021', 'global', 'fire', 'activity', '&', 'intensity', 'from', '#CopernicusAtmosphere', 'Monitoring', 'Service', 'Global', 'Fire', 'Assimilation', 'Sys', '…', 'RT', '@m_parrington', ':', 'February', '2021', 'global', 'fire', 'activity', '&', 'intensity', 'from', '#CopernicusAtmosphere', 'Monitoring', 'Service', 'Global', 'Fire', 'Assimilation', 'Sys', '…', 'RT', '@WRIClimate', ':', 'A', 'new', 'analysis', 'by', 'Investigate', 'West', '(', '@invw', ')', 'has', 'found', 'areas', 'and', 'communities', 'most', 'likely', 'to', 'be', 'affected', 'by', 'climate', 'change', ',', 'id', '…', 'RT', '@WRIClimate', ':', 'A', 'new', 'analysis', 'by', 'Investigate', 'West', '(', '@invw', ')', 'has', 'found', 'areas', 'and', 'communities', 'most', 'likely', 'to', 'be', 'affected', 'by', 'climate', 'change', ',', 'id', '…', 'RT', '@WRIClimate', ':', 'A', 'new', 'analysis', 'by', 'Investigate', 'West', '(', '@invw', ')', 'has', 'found', 'areas', 'and', 'communities', 'most', 'likely', 'to', 'be', 'affected', 'by', 'climate', 'change', ',', 'id', '…', 'What', 'a', 'year', 'it', 'has', 'been', '!', 'A', 'year', 'ago', 'we', 'were', 'able', 'to', 'receive', 'this', 'proclamation', 'in', 'person', 'from', '@ORGovKateBrown', 'Throug', '…', 'https://t.co/L522q3Q4Td', 'A', 'new', 'analysis', 'by', 'Investigate', 'West', '(', '@invw', ')', 'has', 'found', 'areas', 'and', 'communities', 'most', 'likely', 'to', 'be', 'affected', 'by', 'climate', 'ch', '…', 'https://t.co/dYiLSimBxq', 'RT', '@m_parrington', ':', 'February', '2021', 'global', 'fire', 'activity', '&', 'intensity', 'from', '#CopernicusAtmosphere', 'Monitoring', 'Service', 'Global', 'Fire', 'Assimilation', 'Sys', '…', 'According', 'to', 'a', 'new', 'study', 'by', 'the', '@theAGU', ',', 'fire-prone', 'areas', 'of', 'Southern', 'California', 'can', 'expect', 'to', 'see', 'landslides', 'occur', '…', 'https://t.co/rM9PmBYyPn', 'RT', '@CaraSantaMaria', ':', 'NASA', 'radar', 'maps', 'reveal', 'a', 'patchwork', 'of', 'California', 'wildfire', 'destruction', 'and', 'regrowth', '.', '🔥', '🗺', '#WildFires', '#PlantDestruction', '#', 'F', '…', 'RT', '@KnuteBerger', ':', '@Crosscut', '@invw', 'Extremely', 'interesting', 'story', 'on', 'identifying', 'Northwest', 'communities', 'most', 'vulnerable', 'to', 'impacts', 'from', 'climate', 'c', '…', 'RT', '@ms_took', ':', 'Swirls', 'Of', 'cosmic', 'Dances', 'are', 'Swarming', 'My', 'eyes', 'Dreaming', 'of', 'The', 'day', 'I', 'will', 'pass', 'by', 'the', 'Aurora', 'When', 'I', 'die', 'Auroras', 'bursts', 'Are', '…', 'RT', '@HelpingRhinos', ':', 'WILD', 'FIRES', ':', 'A', 'new', 'study', 'has', 'shown', 'that', 'wild', 'fires', ',', 'whilst', 'naturally', 'occuring', 'and', 'vital', 'for', 'some', 'ecosytems', ',', 'have', 'been', 'spr', '…', 'Webinar', 'March', '2nd', '-', 'Colorado', '#Wildfires', '2020', ':', 'Cameron', 'Peak', '&', 'East', 'Troublesome', 'Fire', ':', 'Operations', 'https://t.co/o9RTIDlFcB', 'RT', '@m_parrington', ':', 'February', '2021', 'global', 'fire', 'activity', '&', 'intensity', 'from', '#CopernicusAtmosphere', 'Monitoring', 'Service', 'Global', 'Fire', 'Assimilation', 'Sys', '…', 'RT', '@KnuteBerger', ':', '@Crosscut', '@invw', 'Extremely', 'interesting', 'story', 'on', 'identifying', 'Northwest', 'communities', 'most', 'vulnerable', 'to', 'impacts', 'from', 'climate', 'c', '…', 'Check', 'that', 'winter', 'burn', '.', 'Wildfire', 'season', 'begins', 'today', '.', \"Let's\", 'make', 'it', 'a', 'good', 'year', '.', '#wildfires', '#AB', 'https://t.co/jesmcPkmCD', 'RT', '@ESPM_Berkeley', ':', 'In', 'a', 'recent', 'article', 'for', '@sacbee_news', ',', 'professor', 'Scott', 'Stephens', 'discusses', '#forest', 'management', 'and', '#wildfires', ',', 'including', 'te', '…', 'RT', '@CalResilient', ':', 'Study', 'reveals', 'new', 'patterns', 'for', \"CA's\", '#wildfires', '.', \"Let's\", 'get', 'to', 'work', 'with', 'practices', 'we', 'know', 'work', 'to', 'reduce', 'them', 'now', 'https://…', 'RT', '@m_parrington', ':', 'February', '2021', 'global', 'fire', 'activity', '&', 'intensity', 'from', '#CopernicusAtmosphere', 'Monitoring', 'Service', 'Global', 'Fire', 'Assimilation', 'Sys', '…', 'RT', '@ESPM_Berkeley', ':', 'In', 'a', 'recent', 'article', 'for', '@sacbee_news', ',', 'professor', 'Scott', 'Stephens', 'discusses', '#forest', 'management', 'and', '#wildfires', ',', 'including', 'te', '…', 'RT', '@HelpingRhinos', ':', 'WILD', 'FIRES', ':', 'A', 'new', 'study', 'has', 'shown', 'that', 'wild', 'fires', ',', 'whilst', 'naturally', 'occuring', 'and', 'vital', 'for', 'some', 'ecosytems', ',', 'have', 'been', 'spr', '…', 'RT', '@m_parrington', ':', 'February', '2021', 'global', 'fire', 'activity', '&', 'intensity', 'from', '#CopernicusAtmosphere', 'Monitoring', 'Service', 'Global', 'Fire', 'Assimilation', 'Sys', '…', 'I', 'love', 'my', 'home', 'town', 'and', 'county', '!', '!', '!', '#santarosa', '@SantaRosaFire', '@CityofSantaRosa', '@CountyofSonoma', '#sonomacounty', '#recycle', '…', 'https://t.co/MUMZrlks5D', '\"', 'The', 'warming', '#climate', 'is', 'making', '#fire', 'seasons', 'longer', ',', 'and', 'increasing', 'the', 'frequency', ',', 'intensity', 'and', 'range', 'of', '…', 'https://t.co/ZySaA7rFBL', 'RT', '@MSForestryComm', ':', 'Gov', '.', '@tatereeves', 'has', 'proclaimed', 'that', 'March', 'is', '#WildfirePreventionMonth', 'in', '@visitms', '.', '9', 'out', 'of', '10', '#wildfires', 'are', 'human-ca', '…', 'Following', 'the', 'worst', 'California', 'wildfire', 'season', 'on', 'record', ',', 'experts', 'are', 'saying', 'that', 'fire', 'is', 'an', 'important', 'part', 'of', 'natu', '…', 'https://t.co/a0QLppHflf', 'RT', '@ESPM_Berkeley', ':', 'In', 'a', 'recent', 'article', 'for', '@sacbee_news', ',', 'professor', 'Scott', 'Stephens', 'discusses', '#forest', 'management', 'and', '#wildfires', ',', 'including', 'te', '…', 'RT', '@CSAC_Counties', ':', 'The', 'warming', 'climate', 'is', 'making', 'fire', 'seasons', 'longer', ',', 'and', 'increasing', 'the', 'frequency', ',', 'intensity', '&', 'range', 'of', '#wildfires', '.', \"That's\", '…', 'RT', '@KnuteBerger', ':', '@Crosscut', '@invw', 'Extremely', 'interesting', 'story', 'on', 'identifying', 'Northwest', 'communities', 'most', 'vulnerable', 'to', 'impacts', 'from', 'climate', 'c', '…', 'RT', '@AvantaVentures', ':', '.', '@BuzzSolutions1', 'aims', 'to', 'safeguard', 'the', 'world', '’', 's', 'energy', 'infrastructure', 'by', 'mitigating', 'risk', 'of', '#wildfires', 'and', 'power', 'outages', '…', 'RT', '@evilanova', ':', '🗣', '️', '📢', 'We', 'are', 'almost', 'a', 'week', 'away', 'from', 'our', '@ucanr', '@ESPM_Berkeley', '@CAL_FIRE', '#TreeMortality', '2', '-', 'day', 'workshop', '.', 'Registration', 'is', 'open', '(', '…', 'RT', '@m_parrington', ':', 'February', '2021', 'global', 'fire', 'activity', '&', 'intensity', 'from', '#CopernicusAtmosphere', 'Monitoring', 'Service', 'Global', 'Fire', 'Assimilation', 'Sys', '…', 'RT', '@m_parrington', ':', 'February', '2021', 'global', 'fire', 'activity', '&', 'intensity', 'from', '#CopernicusAtmosphere', 'Monitoring', 'Service', 'Global', 'Fire', 'Assimilation', 'Sys', '…', 'RT', '@m_parrington', ':', 'February', '2021', 'global', 'fire', 'activity', '&', 'intensity', 'from', '#CopernicusAtmosphere', 'Monitoring', 'Service', 'Global', 'Fire', 'Assimilation', 'Sys', '…', 'In', 'a', 'recent', 'article', 'for', '@sacbee_news', ',', 'professor', 'Scott', 'Stephens', 'discusses', '#forest', 'management', 'and', '#wildfires', ',', 'includi', '…', 'https://t.co/GZrPbS5Exy', 'February', '2021', 'global', 'fire', 'activity', '&', 'intensity', 'from', '#CopernicusAtmosphere', 'Monitoring', 'Service', 'Global', 'Fire', 'Assimilati', '…', 'https://t.co/3FCUfW6U2H', 'NASA', 'radar', 'maps', 'reveal', 'a', 'patchwork', 'of', 'California', 'wildfire', 'destruction', 'and', 'regrowth', '.', '🔥', '🗺', '#WildFires', '…', 'https://t.co/JDKO9RFJkm', 'The', 'warming', 'climate', 'is', 'making', 'fire', 'seasons', 'longer', ',', 'and', 'increasing', 'the', 'frequency', ',', 'intensity', '&', 'range', 'of', '#wildfires', '.', 'T', '…', 'https://t.co/biBGVidefk', 'One', 'more', 'reason', 'for', 'the', 'Legislature', 'and', 'Governor', 'to', 'take', 'action', 'for', '#ResilientForests', 'now', ':', 'preventing', 'landslides', 'fr', '…', 'https://t.co/yU9SDJqusk', 'RT', '@evilanova', ':', '🗣', '️', '📢', 'We', 'are', 'almost', 'a', 'week', 'away', 'from', 'our', '@ucanr', '@ESPM_Berkeley', '@CAL_FIRE', '#TreeMortality', '2', '-', 'day', 'workshop', '.', 'Registration', 'is', 'open', '(', '…', 'RT', '@SCCFireSafe', ':', 'It', '’', 's', 'important', 'to', 'be', 'aware', 'of', 'red', 'flag', 'warnings', ',', 'windy', 'days', ',', 'etc', '...', '#wildfires', '#sccfiresafe', 'RT', '@evilanova', ':', '🗣', '️', '📢', 'We', 'are', 'almost', 'a', 'week', 'away', 'from', 'our', '@ucanr', '@ESPM_Berkeley', '@CAL_FIRE', '#TreeMortality', '2', '-', 'day', 'workshop', '.', 'Registration', 'is', 'open', '(', '…', 'Learn', 'about', 'how', 'our', 'partners', 'at', 'Southern', 'California', 'Edison', 'are', 'helping', 'protect', 'against', 'wildfires', 'here', ':', '…', 'https://t.co/xBy0QmenZk', 'RT', '@MSForestryComm', ':', 'Gov', '.', '@tatereeves', 'has', 'proclaimed', 'that', 'March', 'is', '#WildfirePreventionMonth', 'in', '@visitms', '.', '9', 'out', 'of', '10', '#wildfires', 'are', 'human-ca', '…', 'RT', '@evilanova', ':', '🗣', '️', '📢', 'We', 'are', 'almost', 'a', 'week', 'away', 'from', 'our', '@ucanr', '@ESPM_Berkeley', '@CAL_FIRE', '#TreeMortality', '2', '-', 'day', 'workshop', '.', 'Registration', 'is', 'open', '(', '…', 'RT', '@evilanova', ':', '🗣', '️', '📢', 'We', 'are', 'almost', 'a', 'week', 'away', 'from', 'our', '@ucanr', '@ESPM_Berkeley', '@CAL_FIRE', '#TreeMortality', '2', '-', 'day', 'workshop', '.', 'Registration', 'is', 'open', '(', '…', 'RT', '@evilanova', ':', '🗣', '️', '📢', 'We', 'are', 'almost', 'a', 'week', 'away', 'from', 'our', '@ucanr', '@ESPM_Berkeley', '@CAL_FIRE', '#TreeMortality', '2', '-', 'day', 'workshop', '.', 'Registration', 'is', 'open', '(', '…', 'RT', '@evilanova', ':', '🗣', '️', '📢', 'We', 'are', 'almost', 'a', 'week', 'away', 'from', 'our', '@ucanr', '@ESPM_Berkeley', '@CAL_FIRE', '#TreeMortality', '2', '-', 'day', 'workshop', '.', 'Registration', 'is', 'open', '(', '…', 'RT', '@evilanova', ':', '🗣', '️', '📢', 'We', 'are', 'almost', 'a', 'week', 'away', 'from', 'our', '@ucanr', '@ESPM_Berkeley', '@CAL_FIRE', '#TreeMortality', '2', '-', 'day', 'workshop', '.', 'Registration', 'is', 'open', '(', '…', 'RT', '@evilanova', ':', '🗣', '️', '📢', 'We', 'are', 'almost', 'a', 'week', 'away', 'from', 'our', '@ucanr', '@ESPM_Berkeley', '@CAL_FIRE', '#TreeMortality', '2', '-', 'day', 'workshop', '.', 'Registration', 'is', 'open', '(', '…', 'CECS-led', 'research', 'is', 'featured', 'today', 'in', '@AGU_Eos', '!', 'The', 'new', 'study', 'by', '@binleychen', 'et', 'al', '.', 'provides', 'insights', 'to', 'help', 'targ', '…', 'https://t.co/ZLa7KJuxJc', '🗣', '️', '📢', 'We', 'are', 'almost', 'a', 'week', 'away', 'from', 'our', '@ucanr', '@ESPM_Berkeley', '@CAL_FIRE', '#TreeMortality', '2', '-', 'day', 'workshop', '.', 'Registration', '…', 'https://t.co/8w6AEIPjG7', 'RT', '@MSForestryComm', ':', 'Gov', '.', '@tatereeves', 'has', 'proclaimed', 'that', 'March', 'is', '#WildfirePreventionMonth', 'in', '@visitms', '.', '9', 'out', 'of', '10', '#wildfires', 'are', 'human-ca', '…', '2020', 'was', 'a', 'record-setting', 'year', 'for', 'wild', '🔥', '.', 'DYK', 'that', 'grazing', '🐑', 'are', 'used', 'to', 'reduce', '🔥', 'risk', '?', '\\u2063', '\\u2063', '\\u2063', '\\u2063', '✅', 'They', 'can', 'navigate', 's', '…', 'https://t.co/OtM2pYqS6g', 'Gov', '.', '@tatereeves', 'has', 'proclaimed', 'that', 'March', 'is', '#WildfirePreventionMonth', 'in', '@visitms', '.', '9', 'out', 'of', '10', '#wildfires', 'are', 'huma', '…', 'https://t.co/KFhKCJNI5f', 'More', 'media', 'coverage', 'of', 'an', 'important', '@EarthsFutureEiC', 'paper', 'about', '#wildfires', 'and', '#landslides', 'in', 'Southern', 'California', ':', 'https://t.co/sslYEIMYMI', 'RT', '@DrCEriksen', ':', 'Join', 'us', '2', 'March', '10am', 'PST', '/', '7pm', 'CET', '.', 'I', '’', 'm', 'excited', 'to', 'share', 'my', 'work', 'on', 'radiation', 'reanimated', 'by', '#wildfires', 'in', 'the', 'Chernobyl', 'Exc', '…', 'One', 'more', 'reason', 'for', 'the', 'Legislature', 'and', 'Governor', 'to', 'take', 'action', 'for', '#resilient', 'forests', 'now', ':', 'preventing', 'landslides', 'f', '…', 'https://t.co/hh45jQxd4G', 'Study', 'reveals', 'new', 'patterns', 'for', \"CA's\", '#wildfires', '.', \"Let's\", 'get', 'to', 'work', 'with', 'practices', 'we', 'know', 'work', 'to', 'reduce', 'them', 'now', 'https://t.co/ierRJVa61w', 'RT', '@EPAregion9', ':', '.', '@EPA', 'is', 'partnering', 'with', '@StateDept', ',', '@NIOSH', ',', '@CDCEnvironment', ',', '@NIST', '&', 'others', 'to', 'spur', 'development', 'of', 'new', 'technologies', 'that', '…', 'RT', '@SierraClubBC', ':', '#DYK', 'that', '#oldgrowth', 'forests', 'are', 'more', 'resilient', 'to', 'worsening', 'wildfires', 'than', 'young', 'forests', '?', 'As', '#wildfires', 'become', 'more', 'comm', '…', 'RT', '@DrCEriksen', ':', 'Join', 'us', '2', 'March', '10am', 'PST', '/', '7pm', 'CET', '.', 'I', '’', 'm', 'excited', 'to', 'share', 'my', 'work', 'on', 'radiation', 'reanimated', 'by', '#wildfires', 'in', 'the', 'Chernobyl', 'Exc', '…', 'RT', '@HelpingRhinos', ':', 'WILD', 'FIRES', ':', 'A', 'new', 'study', 'has', 'shown', 'that', 'wild', 'fires', ',', 'whilst', 'naturally', 'occuring', 'and', 'vital', 'for', 'some', 'ecosytems', ',', 'have', 'been', 'spr', '…', 'RT', '@EverythingGPAB', ':', 'March', '1', 'marks', 'the', 'start', 'of', '#Wildfires', 'season', 'in', '#Alberta', 'which', 'means', 'anyone', 'wanting', 'to', 'do', 'burning', ',', 'other', 'than', 'a', 'campfir', '…', 'RT', '@sclinton60', ':', 'We', 'can', 'absolutely', 'change', 'the', 'future', 'if', 'we', 'want', 'change', '.', 'It', 'is', 'so', 'important', 'that', 'we', 'have', 'a', 'plan', '🙌', '#wildfires', '#ONEV1', '#Climat', '…', 'RT', '@SierraClubBC', ':', '#DYK', 'that', '#oldgrowth', 'forests', 'are', 'more', 'resilient', 'to', 'worsening', 'wildfires', 'than', 'young', 'forests', '?', 'As', '#wildfires', 'become', 'more', 'comm', '…', 'RT', '@GlobalGovForum', ':', 'The', 'scientific', 'community', 'has', 'long', 'warned', 'us', 'about', 'an', 'increase', 'in', 'environmentally', 'induced', 'disasters', 'such', 'as', 'flooding', 'and', '…', '@Crosscut', '@invw', 'Extremely', 'interesting', 'story', 'on', 'identifying', 'Northwest', 'communities', 'most', 'vulnerable', 'to', 'impacts', 'from', 'cl', '…', 'https://t.co/mTegCWBHWY', 'RT', '@AGU_Eos', ':', '#Wildfires', 'create', 'airborne', 'plumes', 'of', 'particulate', 'matter', 'as', 'they', 'burn', ',', 'which', 'can', 'nucleate', 'cloud-forming', 'ice', 'crystals', 'and', 'affect', '…', 'March', '1', 'marks', 'the', 'start', 'of', '#Wildfires', 'season', 'in', '#Alberta', 'which', 'means', 'anyone', 'wanting', 'to', 'do', 'burning', ',', 'other', 'than', 'a', 'cam', '…', 'https://t.co/5dWrlfZgZI', 'RT', '@SierraClubBC', ':', '#DYK', 'that', '#oldgrowth', 'forests', 'are', 'more', 'resilient', 'to', 'worsening', 'wildfires', 'than', 'young', 'forests', '?', 'As', '#wildfires', 'become', 'more', 'comm', '…', 'RT', '@SierraClubBC', ':', '#DYK', 'that', '#oldgrowth', 'forests', 'are', 'more', 'resilient', 'to', 'worsening', 'wildfires', 'than', 'young', 'forests', '?', 'As', '#wildfires', 'become', 'more', 'comm', '…', 'RT', '@NeonColorsArt', ':', 'Forest', 'Fires', 'Rage', '...', 'Neon', 'Colors', 'Art', 'YouTube', ':', 'https://t.co/blBf1wGyf0', '#NeonColorsArt', '#Neon', '#NeonColor', '#Neons', '#InTheSha', '…', 'RT', '@Vallfirest', ':', '.', '@SantiAltadil', 'is', 'a', 'professional', 'firefighter', 'and', 'a', 'tactical', 'analyst', 'at', '@bombers_GRAF', '.', 'He', 'has', 'been', 'working', 'since', '2001', 'and', 'ha', '…', 'RT', '@SierraClubBC', ':', '#DYK', 'that', '#oldgrowth', 'forests', 'are', 'more', 'resilient', 'to', 'worsening', 'wildfires', 'than', 'young', 'forests', '?', 'As', '#wildfires', 'become', 'more', 'comm', '…', 'RT', '@AGU_Eos', ':', '#Wildfires', 'loft', 'enormous', 'amounts', 'of', 'particulate', 'matter', ',', 'mostly', 'bits', 'of', 'organic', 'material', ',', 'into', 'the', 'sky', 'that', 'can', 'seed', 'ice', 'crysta', '…', 'RT', '@HelpingRhinos', ':', 'WILD', 'FIRES', ':', 'A', 'new', 'study', 'has', 'shown', 'that', 'wild', 'fires', ',', 'whilst', 'naturally', 'occuring', 'and', 'vital', 'for', 'some', 'ecosytems', ',', 'have', 'been', 'spr', '…', 'RT', '@HelpingRhinos', ':', 'WILD', 'FIRES', ':', 'A', 'new', 'study', 'has', 'shown', 'that', 'wild', 'fires', ',', 'whilst', 'naturally', 'occuring', 'and', 'vital', 'for', 'some', 'ecosytems', ',', 'have', 'been', 'spr', '…', '#Wildfires', 'loft', 'enormous', 'amounts', 'of', 'particulate', 'matter', ',', 'mostly', 'bits', 'of', 'organic', 'material', ',', 'into', 'the', 'sky', 'that', 'can', 'seed', '…', 'https://t.co/IuO1SoFaqH', 'As', 'Wildfires', 'Increase', ',', 'Southern', 'California', 'Could', 'Face', 'Landslides', 'Almost', 'Every', 'Year', '#SantaAnaWinds', '#Wildfires', '…', 'https://t.co/2ueA1Ff4eG', 'RT', '@Vallfirest', ':', '.', '@SantiAltadil', 'is', 'a', 'professional', 'firefighter', 'and', 'a', 'tactical', 'analyst', 'at', '@bombers_GRAF', '.', 'He', 'has', 'been', 'working', 'since', '2001', 'and', 'ha', '…', 'RT', '@WRIClimate', ':', '#California', '’', 's', 'famous', 'Redwood', 'forests', '—', 'containing', 'trees', 'that', 'have', 'been', 'standing', 'for', 'hundreds', 'of', 'years', '—', 'are', 'in', 'danger', 'of', 'being', '…', 'RT', '@HelpingRhinos', ':', 'WILD', 'FIRES', ':', 'A', 'new', 'study', 'has', 'shown', 'that', 'wild', 'fires', ',', 'whilst', 'naturally', 'occuring', 'and', 'vital', 'for', 'some', 'ecosytems', ',', 'have', 'been', 'spr', '…', 'RT', '@john_pickrell', ':', 'Hot', 'off', 'the', 'press', '!', '🐨', '🔥', 'My', 'new', 'book', '#FlamesofExtinction', 'hits', 'the', 'shelves', 'in', 'Australia', 'on', '1', 'March', '.', 'https://t.co/tmY9cRMbjx…', 'RT', '@HelpingRhinos', ':', 'WILD', 'FIRES', ':', 'A', 'new', 'study', 'has', 'shown', 'that', 'wild', 'fires', ',', 'whilst', 'naturally', 'occuring', 'and', 'vital', 'for', 'some', 'ecosytems', ',', 'have', 'been', 'spr', '…', 'RT', '@DrCEriksen', ':', 'Join', 'us', '2', 'March', '10am', 'PST', '/', '7pm', 'CET', '.', 'I', '’', 'm', 'excited', 'to', 'share', 'my', 'work', 'on', 'radiation', 'reanimated', 'by', '#wildfires', 'in', 'the', 'Chernobyl', 'Exc', '…', 'RT', '@HelpingRhinos', ':', 'WILD', 'FIRES', ':', 'A', 'new', 'study', 'has', 'shown', 'that', 'wild', 'fires', ',', 'whilst', 'naturally', 'occuring', 'and', 'vital', 'for', 'some', 'ecosytems', ',', 'have', 'been', 'spr', '…', 'RT', '@DrCEriksen', ':', 'Join', 'us', '2', 'March', '10am', 'PST', '/', '7pm', 'CET', '.', 'I', '’', 'm', 'excited', 'to', 'share', 'my', 'work', 'on', 'radiation', 'reanimated', 'by', '#wildfires', 'in', 'the', 'Chernobyl', 'Exc', '…', 'RT', '@DrCEriksen', ':', 'Join', 'us', '2', 'March', '10am', 'PST', '/', '7pm', 'CET', '.', 'I', '’', 'm', 'excited', 'to', 'share', 'my', 'work', 'on', 'radiation', 'reanimated', 'by', '#wildfires', 'in', 'the', 'Chernobyl', 'Exc', '…', 'RT', '@sclinton60', ':', 'We', 'can', 'absolutely', 'change', 'the', 'future', 'if', 'we', 'want', 'change', '.', 'It', 'is', 'so', 'important', 'that', 'we', 'have', 'a', 'plan', '🙌', '#wildfires', '#ONEV1', '#Climat', '…', 'RT', '@DrCEriksen', ':', 'Join', 'us', '2', 'March', '10am', 'PST', '/', '7pm', 'CET', '.', 'I', '’', 'm', 'excited', 'to', 'share', 'my', 'work', 'on', 'radiation', 'reanimated', 'by', '#wildfires', 'in', 'the', 'Chernobyl', 'Exc', '…', 'RT', '@HelpingRhinos', ':', 'WILD', 'FIRES', ':', 'A', 'new', 'study', 'has', 'shown', 'that', 'wild', 'fires', ',', 'whilst', 'naturally', 'occuring', 'and', 'vital', 'for', 'some', 'ecosytems', ',', 'have', 'been', 'spr', '…', 'Join', 'us', '2', 'March', '10am', 'PST', '/', '7pm', 'CET', '.', 'I', '’', 'm', 'excited', 'to', 'share', 'my', 'work', 'on', 'radiation', 'reanimated', 'by', '#wildfires', 'in', 'the', 'Chern', '…', 'https://t.co/9qrXLEp0Lm', 'State', 'Lawmakers', 'Want', 'To', 'Curb', 'Development', 'in', 'Wildfire-Prone', 'Areas', '-', 'LAist', 'https://t.co/T7uJluLduI', '#Heatwave', '#Wildfires', 'Wildfire', 'Home', 'Preparation', ':', 'Getting', 'Ahead', 'Of', 'Potential', 'Danger', '-', 'Fox', '4', '-', 'Fox', '4', 'https://t.co/ltuph9rLMJ', '#Heatwave', '#Wildfires', 'OUT', 'WEST', 'ROUNDUP', '|', 'Audit', 'finds', 'wildfire', 'risk', 'at', 'Los', 'Alamos', 'wildfire', ';', 'Boise', \"'\", 'camping', 'lawsuit', \"'\", 'settled', '-', '…', 'https://t.co/24CHdvaeIR', 'Burning', 'Idaho', 'to', 'save', 'it', ':', 'Why', 'one', 'solution', 'to', 'our', 'raging', 'wildfires', \"can't\", 'gain', 'traction', '-', 'Twin', 'Falls', 'Times-News', '…', 'https://t.co/aT36b0Hy8S', 'California', 'can', 'cut', 'wildfire', 'risk', 'by', 'investing', 'in', 'resilient', 'forests', '-', 'Capitol', 'Weekly', 'https://t.co/NswQjiSlAI', '#Heatwave', '#Wildfires', 'Wildfire', 'loans', 'available', 'for', 'homeowners', ',', 'businesses', ',', 'more', '-', 'Sky', 'Hi', 'News', 'https://t.co/weZWbwGhqZ', '#Heatwave', '#Wildfires', 'Evacuation', 'order', 'lifted', 'as', 'crews', 'continue', 'to', 'contain', 'wildfire', 'burning', 'near', 'Cochise', '-', 'KVOA', 'Tucson', 'News', '…', 'https://t.co/B1WlR3wyMt', 'RT', '@HelpingRhinos', ':', 'WILD', 'FIRES', ':', 'A', 'new', 'study', 'has', 'shown', 'that', 'wild', 'fires', ',', 'whilst', 'naturally', 'occuring', 'and', 'vital', 'for', 'some', 'ecosytems', ',', 'have', 'been', 'spr', '…', 'RT', '@HelpingRhinos', ':', 'WILD', 'FIRES', ':', 'A', 'new', 'study', 'has', 'shown', 'that', 'wild', 'fires', ',', 'whilst', 'naturally', 'occuring', 'and', 'vital', 'for', 'some', 'ecosytems', ',', 'have', 'been', 'spr', '…', 'RT', '@HelpingRhinos', ':', 'WILD', 'FIRES', ':', 'A', 'new', 'study', 'has', 'shown', 'that', 'wild', 'fires', ',', 'whilst', 'naturally', 'occuring', 'and', 'vital', 'for', 'some', 'ecosytems', ',', 'have', 'been', 'spr', '…', 'RT', '@HelpingRhinos', ':', 'WILD', 'FIRES', ':', 'A', 'new', 'study', 'has', 'shown', 'that', 'wild', 'fires', ',', 'whilst', 'naturally', 'occuring', 'and', 'vital', 'for', 'some', 'ecosytems', ',', 'have', 'been', 'spr', '…', 'RT', '@HelpingRhinos', ':', 'WILD', 'FIRES', ':', 'A', 'new', 'study', 'has', 'shown', 'that', 'wild', 'fires', ',', 'whilst', 'naturally', 'occuring', 'and', 'vital', 'for', 'some', 'ecosytems', ',', 'have', 'been', 'spr', '…', 'RT', '@HelpingRhinos', ':', 'WILD', 'FIRES', ':', 'A', 'new', 'study', 'has', 'shown', 'that', 'wild', 'fires', ',', 'whilst', 'naturally', 'occuring', 'and', 'vital', 'for', 'some', 'ecosytems', ',', 'have', 'been', 'spr', '…', 'WILD', 'FIRES', ':', 'A', 'new', 'study', 'has', 'shown', 'that', 'wild', 'fires', ',', 'whilst', 'naturally', 'occuring', 'and', 'vital', 'for', 'some', 'ecosytems', ',', 'have', 'bee', '…', 'https://t.co/QdRUXE8k3n', 'RT', '@sclinton60', ':', 'We', 'can', 'absolutely', 'change', 'the', 'future', 'if', 'we', 'want', 'change', '.', 'It', 'is', 'so', 'important', 'that', 'we', 'have', 'a', 'plan', '🙌', '#wildfires', '#ONEV1', '#Climat', '…', 'RT', '@sclinton60', ':', 'We', 'can', 'absolutely', 'change', 'the', 'future', 'if', 'we', 'want', 'change', '.', 'It', 'is', 'so', 'important', 'that', 'we', 'have', 'a', 'plan', '🙌', '#wildfires', '#ONEV1', '#Climat', '…', 'RT', '@john_pickrell', ':', 'Hot', 'off', 'the', 'press', '!', '🐨', '🔥', 'My', 'new', 'book', '#FlamesofExtinction', 'hits', 'the', 'shelves', 'in', 'Australia', 'on', '1', 'March', '.', 'https://t.co/tmY9cRMbjx…', 'RT', '@john_pickrell', ':', 'Hot', 'off', 'the', 'press', '!', '🐨', '🔥', 'My', 'new', 'book', '#FlamesofExtinction', 'hits', 'the', 'shelves', 'in', 'Australia', 'on', '1', 'March', '.', 'https://t.co/tmY9cRMbjx…', 'RT', '@john_pickrell', ':', 'Hot', 'off', 'the', 'press', '!', '🐨', '🔥', 'My', 'new', 'book', '#FlamesofExtinction', 'hits', 'the', 'shelves', 'in', 'Australia', 'on', '1', 'March', '.', 'https://t.co/tmY9cRMbjx…', 'RT', '@john_pickrell', ':', 'Hot', 'off', 'the', 'press', '!', '🐨', '🔥', 'My', 'new', 'book', '#FlamesofExtinction', 'hits', 'the', 'shelves', 'in', 'Australia', 'on', '1', 'March', '.', 'https://t.co/tmY9cRMbjx…', 'RT', '@john_pickrell', ':', 'Hot', 'off', 'the', 'press', '!', '🐨', '🔥', 'My', 'new', 'book', '#FlamesofExtinction', 'hits', 'the', 'shelves', 'in', 'Australia', 'on', '1', 'March', '.', 'https://t.co/tmY9cRMbjx…', 'RT', '@StirLaughRepeat', ':', 'Wildfires', '-', 'Ann', 'Armbruster', '1996', 'HC', '#history', '#educational', '#wildfires', '#vintagebooks', '#bookstores', 'https://t.co/H8f0oJVbgz…', 'RT', '@SierraClubBC', ':', '#DYK', 'that', '#oldgrowth', 'forests', 'are', 'more', 'resilient', 'to', 'worsening', 'wildfires', 'than', 'young', 'forests', '?', 'As', '#wildfires', 'become', 'more', 'comm', '…', 'RT', '@sclinton60', ':', 'We', 'can', 'absolutely', 'change', 'the', 'future', 'if', 'we', 'want', 'change', '.', 'It', 'is', 'so', 'important', 'that', 'we', 'have', 'a', 'plan', '🙌', '#wildfires', '#ONEV1', '#Climat', '…', 'RT', '@GreyCrossStudio', ':', 'Natures', 'Retribution', '(', 'The', '2020', 'California', 'Wildfires', '3', ')', 'https://t.co/YWHIEJoEEF', 'Grey', 'Cross', 'Studios', '#surrealism', '#surreal', '…', 'RT', '@KharlieDog', ':', 'Red', 'sky', 'Orchard', '#Nature', '#NaturePhotography', '#wildfires', 'https://t.co/v19GC0IT0O', 'RT', '@sclinton60', ':', 'We', 'can', 'absolutely', 'change', 'the', 'future', 'if', 'we', 'want', 'change', '.', 'It', 'is', 'so', 'important', 'that', 'we', 'have', 'a', 'plan', '🙌', '#wildfires', '#ONEV1', '#Climat', '…', 'RT', '@sclinton60', ':', 'We', 'can', 'absolutely', 'change', 'the', 'future', 'if', 'we', 'want', 'change', '.', 'It', 'is', 'so', 'important', 'that', 'we', 'have', 'a', 'plan', '🙌', '#wildfires', '#ONEV1', '#Climat', '…', 'RT', '@sclinton60', ':', 'We', 'can', 'absolutely', 'change', 'the', 'future', 'if', 'we', 'want', 'change', '.', 'It', 'is', 'so', 'important', 'that', 'we', 'have', 'a', 'plan', '🙌', '#wildfires', '#ONEV1', '#Climat', '…', 'RT', '@sclinton60', ':', 'We', 'can', 'absolutely', 'change', 'the', 'future', 'if', 'we', 'want', 'change', '.', 'It', 'is', 'so', 'important', 'that', 'we', 'have', 'a', 'plan', '🙌', '#wildfires', '#ONEV1', '#Climat', '…', 'New', '@PGE4Me', 'CEO', '@poppepk', 'Promises', \"'\", 'Hometown', 'Experience', \"'\", '|', 'https://t.co/G7vczY5Gtv', '#PGE', '#energynews', '#NEWS', '…', 'https://t.co/42eP2mt7p0', 'RT', '@sclinton60', ':', 'We', 'can', 'absolutely', 'change', 'the', 'future', 'if', 'we', 'want', 'change', '.', 'It', 'is', 'so', 'important', 'that', 'we', 'have', 'a', 'plan', '🙌', '#wildfires', '#ONEV1', '#Climat', '…', 'Advances', 'in', 'Satellite', 'Data', 'for', 'Wildfire', 'Smoke', 'Forecasting', 'https://t.co/hkFHw8URFV', '#FiretechConnect', '#Wildfires', 'Homestead', '(', 'the', '2020', 'California', 'Wildfires', '1', ')', 'https://t.co/ccOQtqSszE', 'Grey', 'Cross', 'Studios', '#surrealism', '#surrealart', '…', 'https://t.co/8HmfquZVRl', 'Consuming', 'the', 'World', '(', 'The', '2020', 'California', 'Wildfires', '2', ')', 'https://t.co/wRzOrcV0JX', 'Grey', 'Cross', 'Studios', '#surrealism', '…', 'https://t.co/r4lxXRqEq1', 'Natures', 'Retribution', '(', 'The', '2020', 'California', 'Wildfires', '3', ')', 'https://t.co/YWHIEJoEEF', 'Grey', 'Cross', 'Studios', '#surrealism', '…', 'https://t.co/d18FkCqmJT', 'Not', 'Going', 'Home', '(', 'The', '2020', 'California', 'Wildfires', '4', ')', 'https://t.co/PqcdqR8Zaj', 'Grey', 'Cross', 'Studios', '#surrealism', '…', 'https://t.co/Ue0HPAbCcm', 'A', 'Drop', 'in', 'the', 'Bucket', '(', 'The', '2020', 'California', 'Wildfires', '5', ')', 'https://t.co/8m9lyI41Nb', 'Grey', 'Cross', 'Studios', '#surrealism', '…', 'https://t.co/rD600CzqqZ', 'Summer', 'Homes', '(', 'The', '2020', 'California', 'Wildfires', '6', ')', 'https://t.co/PQJsccM9Pj', 'Grey', 'Cross', 'Studios', '#surrealism', '#surrealart', '…', 'https://t.co/Bdj2PfxTG3', 'Change', 'of', 'Address', '(', 'The', '2020', 'California', 'Wildfires', '7', ')', 'https://t.co/Vw5GiATubH', 'Grey', 'Cross', 'Studios', '#surrealism', '…', 'https://t.co/iq6yW0qFYi', 'Foothills', '(', 'The', '2020', 'California', 'Wildfires', '8)', 'https://t.co/9KhiiIP9mn', 'Grey', 'Cross', 'Studios', '#surrealism', '#surrealart', '…', 'https://t.co/ncOb3NlBld', 'Collapsing', 'Dreams', '(', 'The', '2020', 'California', 'Wildfires', '9', ')', 'https://t.co/fhIzMCVT5N', 'Grey', 'Cross', 'Studios', '#surrealism', '…', 'https://t.co/R3OXk4pO1g', 'The', 'Devils', 'Own', 'Death', '(', 'The', '2020', 'California', 'Wildfires', '10', ')', 'https://t.co/LRuEOgoqi8', 'Grey', 'Cross', 'Studios', '#surrealism', '…', 'https://t.co/P5hn0g8f2q', 'Debris', 'Field', '(', 'The', '2020', 'California', 'Wildfires', '11', ')', 'https://t.co/He2RuqpJmp', 'Grey', 'Cross', 'Studios', '#surrealism', '#surrealart', '…', 'https://t.co/UplRtFwyAs', 'Trees', 'Cry', 'Out', '(', 'The', '2020', 'California', 'Wildfires', '12', ')', 'https://t.co/TQpd8ztApi', 'Grey', 'Cross', 'Studios', '#surrealism', '…', 'https://t.co/BucjqajaoQ', 'Firefall', '(', 'The', '2020', 'California', 'Wildfires', '13', ')', 'https://t.co/7kE0dBv3So', 'Grey', 'Cross', 'Studios', '#surrealism', '#surrealart', '…', 'https://t.co/d5edpuycjC', 'Small', 'Town', 'Destruction', '(', 'The', '2020', 'California', 'Wildfires', '14', ')', 'https://t.co/TCZnKEakBC', 'Grey', 'Cross', 'Studios', '#surrealism', '…', 'https://t.co/C06fUielfG', 'The', 'Hills', 'Are', 'Alive', '(', 'The', '2020', 'California', 'Wildfires', '15', ')', 'https://t.co/baA1bhKnR4', 'Grey', 'Cross', 'Studios', '#surrealism', '…', 'https://t.co/2pGsjmEWWs', 'Emergency', '(', 'The', '2020', 'California', 'Wildfires', '16', ')', 'https://t.co/5wkriU7qke', 'Grey', 'Cross', 'Studios', '#surrealism', '#surrealart', '…', 'https://t.co/RPhRaT4XSA', 'RT', '@SierraClubBC', ':', '#DYK', 'that', '#oldgrowth', 'forests', 'are', 'more', 'resilient', 'to', 'worsening', 'wildfires', 'than', 'young', 'forests', '?', 'As', '#wildfires', 'become', 'more', 'comm', '…', 'RT', '@sclinton60', ':', 'We', 'can', 'absolutely', 'change', 'the', 'future', 'if', 'we', 'want', 'change', '.', 'It', 'is', 'so', 'important', 'that', 'we', 'have', 'a', 'plan', '🙌', '#wildfires', '#ONEV1', '#Climat', '…', 'Used', 'Cars', '(', 'The', '2020', 'California', 'Wildfires', '18', ')', 'https://t.co/gQ7KYtKO9o', 'Grey', 'Cross', 'Studios', '#surrealism', '#surrealart', '…', 'https://t.co/khDevz4dHp', 'Annihilation', '(', 'The', '2020', 'California', 'Wildfires', '19', ')', 'https://t.co/Nmkx9dCxo6', 'Grey', 'Cross', 'Studios', '#surrealism', '…', 'https://t.co/o1cBZ3ifm8', 'A', 'Thousand', 'Sparks', 'Like', 'Stars', 'in', 'the', 'Sky', '(', 'The', '2020', 'California', 'Wildfires', '20', ')', 'https://t.co/69D9JZlMIy', 'Grey', 'Cross', 'Stud', '…', 'https://t.co/SWdCZMqCOh', 'RT', '@CaraSantaMaria', ':', 'In', 'a', 'long-term', 'study', ',', 'researchers', 'found', 'that', 'the', 'amount', 'of', 'air', 'pollution', 'that', 'comes', 'indoors', 'depends', 'on', 'the', 'type', 'of', 'outd', '…', 'RT', '@CalFireUpdates', ':', 'Looking', 'for', 'writers', 'or', 'guest', 'bloggers', '.', 'Send', 'us', 'a', 'DM', 'if', 'interested', '.', '#blogging', '#WritingCommunity', '#wildfires', 'RT', '@CalFireUpdates', ':', 'Looking', 'for', 'writers', 'or', 'guest', 'bloggers', '.', 'Send', 'us', 'a', 'DM', 'if', 'interested', '.', '#blogging', '#WritingCommunity', '#wildfires', 'In', 'a', 'long-term', 'study', ',', 'researchers', 'found', 'that', 'the', 'amount', 'of', 'air', 'pollution', 'that', 'comes', 'indoors', 'depends', 'on', 'the', 'type', 'of', '…', 'https://t.co/fDq6ED4PfS', 'Looking', 'for', 'writers', 'or', 'guest', 'bloggers', '.', 'Send', 'us', 'a', 'DM', 'if', 'interested', '.', '#blogging', '#WritingCommunity', '#wildfires', 'RT', '@sclinton60', ':', 'We', 'can', 'absolutely', 'change', 'the', 'future', 'if', 'we', 'want', 'change', '.', 'It', 'is', 'so', 'important', 'that', 'we', 'have', 'a', 'plan', '🙌', '#wildfires', '#ONEV1', '#Climat', '…', 'RT', '@GreyCrossStudio', ':', 'Water', 'Spirits', 'Dying', '(', 'The', '2020', 'California', 'Wildfires', '23', ')', 'https://t.co/3AgYrY8vke', 'Grey', 'Cross', 'Studios', '#surrealism', '#surrea', '…', 'RT', '@GreyCrossStudio', ':', 'Spirit', 'Gatherer', '(', 'The', '2020', 'California', 'Wildfires', '25', ')', 'https://t.co/YilXRuvJ15', 'Grey', 'Cross', 'Studios', '#surrealism', '#surrealart', '…', 'RT', '@GreyCrossStudio', ':', 'Ashfall', '(', 'The', '2020', 'California', 'Wildfires', '24', ')', 'https://t.co/uUVUGJWGEI', 'Grey', 'Cross', 'Studios', '#surrealism', '#surrealart', '#Califo', '…', 'RT', '@GreyCrossStudio', ':', 'Water', 'Spirits', 'Dying', '(', 'The', '2020', 'California', 'Wildfires', '23', ')', 'https://t.co/3AgYrY8vke', 'Grey', 'Cross', 'Studios', '#surrealism', '#surrea', '…', 'RT', '@GreyCrossStudio', ':', 'I', 'See', 'the', 'Forest', 'Burning', '(', 'The', '2020', 'California', 'Wildfire', '22', ')', 'https://t.co/R0DIZY7pOv', 'Grey', 'Cross', 'Studios', '#surrealism', '#su', '…', 'RT', '@GreyCrossStudio', ':', 'Saving', 'Grace', '(', 'The', '2020', 'California', 'Wildfires', '21', ')', 'https://t.co/JYEioT073o', 'Grey', 'Cross', 'Studios', '#surrealism', '#surrealart', '#', 'C', '…', 'Saving', 'Grace', '(', 'The', '2020', 'California', 'Wildfires', '21', ')', 'https://t.co/JYEioT073o', 'Grey', 'Cross', 'Studios', '#surrealism', '#surrealart', '…', 'https://t.co/3dD0oL3ssh', 'I', 'See', 'the', 'Forest', 'Burning', '(', 'The', '2020', 'California', 'Wildfire', '22', ')', 'https://t.co/R0DIZY7pOv', 'Grey', 'Cross', 'Studios', '#surrealism', '…', 'https://t.co/fvNbhQsbUL', 'Water', 'Spirits', 'Dying', '(', 'The', '2020', 'California', 'Wildfires', '23', ')', 'https://t.co/3AgYrY8vke', 'Grey', 'Cross', 'Studios', '#surrealism', '…', 'https://t.co/XKDSXGAmY7', 'Ashfall', '(', 'The', '2020', 'California', 'Wildfires', '24', ')', 'https://t.co/uUVUGJWGEI', 'Grey', 'Cross', 'Studios', '#surrealism', '#surrealart', '…', 'https://t.co/6HQDh7wCQ5', 'Spirit', 'Gatherer', '(', 'The', '2020', 'California', 'Wildfires', '25', ')', 'https://t.co/YilXRuvJ15', 'Grey', 'Cross', 'Studios', '#surrealism', '…', 'https://t.co/6QmRPXZH62', 'Totally', 'bananas', 'idea', 'or', 'another', 'asset', 'in', 'the', '#California', '#firefighting', 'toolbox', '?', 'Tropical', 'fruit', 'trees', ',', 'succulents', 'an', '…', 'https://t.co/QtqQUukzjQ', 'Extremely', 'hot', 'day', ',', 'give', 'a', 'thought', 'to', 'the', 'teams', 'bravely', 'fighting', '#wildfires', 'in', 'the', 'Winelands', 'and', 'Overberg', '🔥', '🔥', '🙏', '🏼', 'https://t.co/2lpyFa286l', 'RT', '@zachkunstk', ':', 'What', 'inspired', 'you', 'to', 'run', '?', '—', '@BeingElenaLA', '\"', 'I', 'was', 'inspired', 'by', 'the', 'wildfires', 'last', 'year', '.', 'Having', 'days', 'where', 'the', 'air', 'quality', 'r', '…', 'RT', '@zachkunstk', ':', 'What', 'inspired', 'you', 'to', 'run', '?', '—', '@BeingElenaLA', '\"', 'I', 'was', 'inspired', 'by', 'the', 'wildfires', 'last', 'year', '.', 'Having', 'days', 'where', 'the', 'air', 'quality', 'r', '…', 'A', 'House', 'With', 'a', 'View', 'of', 'Hell', '(', 'The', '2020', 'California', 'Wildfires', '26', ')', 'https://t.co/aTPCtabBh5', 'Grey', 'Cross', 'Studios', '…', 'https://t.co/q5zGf4NyE4', 'A', 'Shadow', 'of', 'Things', 'That', 'Came', '(', 'The', '2020', 'California', 'Wildfires', '27', ')', 'https://t.co/EMovKa2gG7', 'Grey', 'Cross', 'Studios', '…', 'https://t.co/LWgoAbwRsv', 'Gone', 'Fishing', '(', 'The', '2020', 'California', 'Wildfires', '28', ')', 'https://t.co/S5w6AMehSM', 'Grey', 'Cross', 'Studios', '#surrealism', '#surrealart', '…', 'https://t.co/YlQbYdR9KE', 'Faces', 'in', 'the', 'Flames', '(', 'The', '2020', 'California', 'Wildfires', '29', ')', 'https://t.co/ro8eFnaehc', 'Grey', 'Cross', 'Studios', '#surrealism', '…', 'https://t.co/qChIyZ96r5', 'Dusk', 'in', \"Hell's\", 'Valley', '(', 'The', '2020', 'California', 'Wildfires', '30', ')', 'https://t.co/yy375ujN8e', 'Grey', 'Cross', 'Studios', '#surrealism', '…', 'https://t.co/y9DTvI7tap', 'RT', '@zachkunstk', ':', 'What', 'inspired', 'you', 'to', 'run', '?', '—', '@BeingElenaLA', '\"', 'I', 'was', 'inspired', 'by', 'the', 'wildfires', 'last', 'year', '.', 'Having', 'days', 'where', 'the', 'air', 'quality', 'r', '…', 'RT', '@zachkunstk', ':', 'What', 'inspired', 'you', 'to', 'run', '?', '—', '@BeingElenaLA', '\"', 'I', 'was', 'inspired', 'by', 'the', 'wildfires', 'last', 'year', '.', 'Having', 'days', 'where', 'the', 'air', 'quality', 'r', '…', 'RT', '@zachkunstk', ':', 'What', 'inspired', 'you', 'to', 'run', '?', '—', '@BeingElenaLA', '\"', 'I', 'was', 'inspired', 'by', 'the', 'wildfires', 'last', 'year', '.', 'Having', 'days', 'where', 'the', 'air', 'quality', 'r', '…', 'What', 'inspired', 'you', 'to', 'run', '?', '—', '@BeingElenaLA', '\"', 'I', 'was', 'inspired', 'by', 'the', 'wildfires', 'last', 'year', '.', 'Having', 'days', 'where', 'the', 'air', 'q', '…', 'https://t.co/JfWWxUbv4J', '#Wildfires', 'create', 'airborne', 'plumes', 'of', 'particulate', 'matter', 'as', 'they', 'burn', ',', 'which', 'can', 'nucleate', 'cloud-forming', 'ice', 'crystals', '…', 'https://t.co/AvajHxgDOo', 'RT', '@GlobalGovForum', ':', 'The', 'scientific', 'community', 'has', 'long', 'warned', 'us', 'about', 'an', 'increase', 'in', 'environmentally', 'induced', 'disasters', 'such', 'as', 'flooding', 'and', '…', 'RT', '@SierraClubBC', ':', '#DYK', 'that', '#oldgrowth', 'forests', 'are', 'more', 'resilient', 'to', 'worsening', 'wildfires', 'than', 'young', 'forests', '?', 'As', '#wildfires', 'become', 'more', 'comm', '…', 'RT', '@SierraClubBC', ':', '#DYK', 'that', '#oldgrowth', 'forests', 'are', 'more', 'resilient', 'to', 'worsening', 'wildfires', 'than', 'young', 'forests', '?', 'As', '#wildfires', 'become', 'more', 'comm', '…', 'Tootles', 'to', 'fog', 'and', 'mold', '!', '!', \"I'm\", 'off', 'to', 'drier', 'climes', '...', '#photography', '#oakridgeoregon', '#wildfires', '#smoky', '#morningcommute', 'https://t.co/foodLsY4kh', 'RT', '@GreyCrossStudio', ':', 'The', 'Hand', 'of', 'Man', 'Destroys', 'the', 'World', '(', 'The', '2020', 'Oregon', 'Wildfires', '3', ')', 'https://t.co/1TlMWCLo8Z', 'Grey', 'Cross', 'Studios', '#surreali', '…', 'RT', '@GreyCrossStudio', ':', 'The', 'Tide', 'Changes', '(', 'The', '2020', 'Oregon', 'Wildfires', '2', ')', 'https://t.co/q5mTKYUlOX', 'Grey', 'Cross', 'Studios', '#surrealism', '#surrealart', '#Or', '…', 'Angels', 'in', 'the', 'Annihilation', '(', 'The', '2020', 'Oregon', 'Wildfires', '1', ')', 'https://t.co/yLaQNkXxT3', 'Grey', 'Cross', 'Studios', '#surrealism', '…', 'https://t.co/wjSYPWCJCD', 'The', 'Tide', 'Changes', '(', 'The', '2020', 'Oregon', 'Wildfires', '2', ')', 'https://t.co/q5mTKYUlOX', 'Grey', 'Cross', 'Studios', '#surrealism', '#surrealart', '…', 'https://t.co/YT1MklaNm9', 'The', 'Hand', 'of', 'Man', 'Destroys', 'the', 'World', '(', 'The', '2020', 'Oregon', 'Wildfires', '3', ')', 'https://t.co/1TlMWCLo8Z', 'Grey', 'Cross', 'Studios', '…', 'https://t.co/5EP7mcT4Eb', 'Water', 'Saint', '(', 'The', '2020', 'Oregon', 'Wildfires', '4', ')', 'https://t.co/sAttdmmgOw', 'Grey', 'Cross', 'Studios', '#surrealism', '#surrealart', '…', 'https://t.co/IkdT8S28Hk', 'The', 'Rear', 'Guard', '(', 'The', '2020', 'Oregon', 'Wildfires', '5', ')', 'https://t.co/ByZ3x2D1Fg', 'Grey', 'Cross', 'Studios', '#surrealism', '#surrealart', '…', 'https://t.co/f8fu15bPaf', 'RT', '@SierraClubBC', ':', '#DYK', 'that', '#oldgrowth', 'forests', 'are', 'more', 'resilient', 'to', 'worsening', 'wildfires', 'than', 'young', 'forests', '?', 'As', '#wildfires', 'become', 'more', 'comm', '…', 'RT', '@CLEANBOSS2', ':', 'Effects', 'of', '#global', '#climatechange', 'include', 'frequent', '#wildfires', '#droughts', 'intensity', 'of', '#tropical', '#storms', '.', 'Global', '#sealevel', 'ris', '…', 'RT', '@SierraClubBC', ':', '#DYK', 'that', '#oldgrowth', 'forests', 'are', 'more', 'resilient', 'to', 'worsening', 'wildfires', 'than', 'young', 'forests', '?', 'As', '#wildfires', 'become', 'more', 'comm', '…']\n"
          ],
          "name": "stdout"
        }
      ]
    },
    {
      "cell_type": "code",
      "metadata": {
        "colab": {
          "base_uri": "https://localhost:8080/"
        },
        "id": "_aWH-zrEpNlA",
        "outputId": "ea884087-6d64-4ab7-e060-78e42c519760"
      },
      "source": [
        "tokens[:10]"
      ],
      "execution_count": null,
      "outputs": [
        {
          "output_type": "execute_result",
          "data": {
            "text/plain": [
              "['RT',\n",
              " '@activist360_co',\n",
              " ':',\n",
              " 'The',\n",
              " 'Climate',\n",
              " 'Crisis',\n",
              " 'Discriminates',\n",
              " '.',\n",
              " 'Maps',\n",
              " 'Tell']"
            ]
          },
          "metadata": {
            "tags": []
          },
          "execution_count": 22
        }
      ]
    },
    {
      "cell_type": "code",
      "metadata": {
        "id": "N2vGWSI-pNlA"
      },
      "source": [
        "ltokens = [w.lower( ) for w in tokens]"
      ],
      "execution_count": null,
      "outputs": []
    },
    {
      "cell_type": "code",
      "metadata": {
        "colab": {
          "base_uri": "https://localhost:8080/"
        },
        "id": "z5Y-FKrDpNlA",
        "outputId": "26563e7d-ee1b-425d-90bb-a0f5c7969e9e"
      },
      "source": [
        "ltokens[:10]"
      ],
      "execution_count": null,
      "outputs": [
        {
          "output_type": "execute_result",
          "data": {
            "text/plain": [
              "['rt',\n",
              " '@activist360_co',\n",
              " ':',\n",
              " 'the',\n",
              " 'climate',\n",
              " 'crisis',\n",
              " 'discriminates',\n",
              " '.',\n",
              " 'maps',\n",
              " 'tell']"
            ]
          },
          "metadata": {
            "tags": []
          },
          "execution_count": 24
        }
      ]
    },
    {
      "cell_type": "code",
      "metadata": {
        "id": "gGuZi0A3pNlA"
      },
      "source": [
        "from nltk import FreqDist\n",
        "fdist = FreqDist(ltokens)\n",
        "fdistkeys = list(fdist.keys())"
      ],
      "execution_count": null,
      "outputs": []
    },
    {
      "cell_type": "code",
      "metadata": {
        "colab": {
          "base_uri": "https://localhost:8080/"
        },
        "id": "8vHGrFSxpNlB",
        "outputId": "1b6c95e0-3b8d-4e8e-f373-790bc31a8236"
      },
      "source": [
        "fdistkeys[:50]"
      ],
      "execution_count": null,
      "outputs": [
        {
          "output_type": "execute_result",
          "data": {
            "text/plain": [
              "['rt',\n",
              " '@activist360_co',\n",
              " ':',\n",
              " 'the',\n",
              " 'climate',\n",
              " 'crisis',\n",
              " 'discriminates',\n",
              " '.',\n",
              " 'maps',\n",
              " 'tell',\n",
              " 'story',\n",
              " 'https://t.co/epguv3lbcg',\n",
              " '@pfairley',\n",
              " '#climatecrisis',\n",
              " '#climateemerg',\n",
              " '…',\n",
              " 'https://t.co/kyj4xaccao',\n",
              " '@ethoslifestyle',\n",
              " '#maps',\n",
              " 'how',\n",
              " 'data',\n",
              " 'visualizers',\n",
              " 'are',\n",
              " 'helping',\n",
              " 'to',\n",
              " 'plan',\n",
              " 'support',\n",
              " 'cascadia',\n",
              " '’',\n",
              " 's',\n",
              " '@nezua',\n",
              " 'i',\n",
              " 'remember',\n",
              " 'running',\n",
              " 'outside',\n",
              " 'take',\n",
              " 'this',\n",
              " 'photo',\n",
              " ',',\n",
              " 'and',\n",
              " 'then',\n",
              " 'right',\n",
              " 'back',\n",
              " 'inside',\n",
              " '2020',\n",
              " '#wildfires',\n",
              " 'https://t.co/tkumr0dybq',\n",
              " 'cascadi',\n",
              " 'https://t.co/bpldezpkw3',\n",
              " '@platformadam']"
            ]
          },
          "metadata": {
            "tags": []
          },
          "execution_count": 26
        }
      ]
    },
    {
      "cell_type": "code",
      "metadata": {
        "colab": {
          "base_uri": "https://localhost:8080/"
        },
        "id": "Gd6PeC-dpNlB",
        "outputId": "bfd20a20-7cb0-4a51-fb3f-7e70f681c4ee"
      },
      "source": [
        "topkeys = fdist.most_common(50)\n",
        "for pair in topkeys:\n",
        "    print(pair)\n"
      ],
      "execution_count": null,
      "outputs": [
        {
          "output_type": "stream",
          "text": [
            "('…', 331)\n",
            "(':', 274)\n",
            "('the', 234)\n",
            "('rt', 220)\n",
            "('#wildfires', 175)\n",
            "('.', 172)\n",
            "(',', 142)\n",
            "('to', 139)\n",
            "('in', 123)\n",
            "('a', 111)\n",
            "('of', 101)\n",
            "('and', 93)\n",
            "('are', 90)\n",
            "('wildfires', 86)\n",
            "('we', 77)\n",
            "('-', 71)\n",
            "('(', 70)\n",
            "('for', 69)\n",
            "('is', 65)\n",
            "('by', 65)\n",
            "('that', 62)\n",
            "(')', 60)\n",
            "('wildfire', 57)\n",
            "('fire', 54)\n",
            "('california', 54)\n",
            "('from', 51)\n",
            "('more', 50)\n",
            "('2020', 48)\n",
            "('global', 47)\n",
            "('new', 46)\n",
            "('grey', 43)\n",
            "('cross', 43)\n",
            "('studios', 42)\n",
            "('fires', 41)\n",
            "('have', 40)\n",
            "('!', 39)\n",
            "('change', 38)\n",
            "('#surrealism', 38)\n",
            "('wild', 36)\n",
            "('has', 36)\n",
            "('forests', 33)\n",
            "('&', 32)\n",
            "('march', 31)\n",
            "('on', 31)\n",
            "('intensity', 28)\n",
            "('at', 28)\n",
            "('than', 27)\n",
            "('2', 27)\n",
            "('this', 26)\n",
            "('our', 26)\n"
          ],
          "name": "stdout"
        }
      ]
    },
    {
      "cell_type": "code",
      "metadata": {
        "id": "To8xkvy2pNlB"
      },
      "source": [
        "numwords = len(ltokens)"
      ],
      "execution_count": null,
      "outputs": []
    },
    {
      "cell_type": "code",
      "metadata": {
        "id": "Wx0QHpRApNlB"
      },
      "source": [
        "topkeysnormalized = [(word, freq / numwords) for (word, freq) in topkeys]"
      ],
      "execution_count": null,
      "outputs": []
    },
    {
      "cell_type": "code",
      "metadata": {
        "colab": {
          "base_uri": "https://localhost:8080/"
        },
        "id": "iSYukAlYpNlC",
        "outputId": "2a75f512-37f4-40b5-9749-a9fa289e7547"
      },
      "source": [
        "for pair in topkeysnormalized:\n",
        "          print(pair)\n"
      ],
      "execution_count": null,
      "outputs": [
        {
          "output_type": "stream",
          "text": [
            "('…', 0.037699316628701594)\n",
            "(':', 0.03120728929384966)\n",
            "('the', 0.02665148063781321)\n",
            "('rt', 0.025056947608200455)\n",
            "('#wildfires', 0.019931662870159454)\n",
            "('.', 0.01958997722095672)\n",
            "(',', 0.016173120728929385)\n",
            "('to', 0.01583143507972665)\n",
            "('in', 0.014009111617312072)\n",
            "('a', 0.01264236902050114)\n",
            "('of', 0.011503416856492027)\n",
            "('and', 0.010592255125284738)\n",
            "('are', 0.010250569476082005)\n",
            "('wildfires', 0.00979498861047836)\n",
            "('we', 0.00876993166287016)\n",
            "('-', 0.008086560364464692)\n",
            "('(', 0.007972665148063782)\n",
            "('for', 0.00785876993166287)\n",
            "('is', 0.007403189066059226)\n",
            "('by', 0.007403189066059226)\n",
            "('that', 0.007061503416856492)\n",
            "(')', 0.00683371298405467)\n",
            "('wildfire', 0.006492027334851936)\n",
            "('fire', 0.0061503416856492025)\n",
            "('california', 0.0061503416856492025)\n",
            "('from', 0.005808656036446469)\n",
            "('more', 0.0056947608200455585)\n",
            "('2020', 0.005466970387243736)\n",
            "('global', 0.005353075170842825)\n",
            "('new', 0.005239179954441914)\n",
            "('grey', 0.00489749430523918)\n",
            "('cross', 0.00489749430523918)\n",
            "('studios', 0.004783599088838269)\n",
            "('fires', 0.0046697038724373575)\n",
            "('have', 0.004555808656036446)\n",
            "('!', 0.004441913439635535)\n",
            "('change', 0.004328018223234624)\n",
            "('#surrealism', 0.004328018223234624)\n",
            "('wild', 0.004100227790432802)\n",
            "('has', 0.004100227790432802)\n",
            "('forests', 0.003758542141230068)\n",
            "('&', 0.0036446469248291574)\n",
            "('march', 0.003530751708428246)\n",
            "('on', 0.003530751708428246)\n",
            "('intensity', 0.0031890660592255125)\n",
            "('at', 0.0031890660592255125)\n",
            "('than', 0.0030751708428246012)\n",
            "('2', 0.0030751708428246012)\n",
            "('this', 0.00296127562642369)\n",
            "('our', 0.00296127562642369)\n"
          ],
          "name": "stdout"
        }
      ]
    },
    {
      "cell_type": "code",
      "metadata": {
        "id": "81lLOQjypNlC"
      },
      "source": [
        "import re\n",
        "def alpha_filter(w):\n",
        "  # pattern to match a word of non-alphabetical characters\n",
        "    pattern = re.compile('^[^a-z]+$')\n",
        "    if (pattern.match(w)):\n",
        "        return True\n",
        "    else:\n",
        "        return False"
      ],
      "execution_count": null,
      "outputs": []
    },
    {
      "cell_type": "code",
      "metadata": {
        "id": "VGCb1u7KpNlC"
      },
      "source": [
        "alphawords = [w for w in ltokens if not alpha_filter(w)]"
      ],
      "execution_count": null,
      "outputs": []
    },
    {
      "cell_type": "code",
      "metadata": {
        "colab": {
          "base_uri": "https://localhost:8080/"
        },
        "id": "g0UP2553pNlC",
        "outputId": "ce60eafe-fe60-4c91-a11a-5c01c3f67513"
      },
      "source": [
        "alphawords[:10]"
      ],
      "execution_count": null,
      "outputs": [
        {
          "output_type": "execute_result",
          "data": {
            "text/plain": [
              "['rt',\n",
              " '@activist360_co',\n",
              " 'the',\n",
              " 'climate',\n",
              " 'crisis',\n",
              " 'discriminates',\n",
              " 'maps',\n",
              " 'tell',\n",
              " 'the',\n",
              " 'story']"
            ]
          },
          "metadata": {
            "tags": []
          },
          "execution_count": 33
        }
      ]
    },
    {
      "cell_type": "code",
      "metadata": {
        "colab": {
          "base_uri": "https://localhost:8080/"
        },
        "id": "UYcKPJCHpNlD",
        "outputId": "6d207d31-b74a-4562-d3f9-07498d386c2c"
      },
      "source": [
        "from nltk import FreqDist\n",
        "fdist = FreqDist(alphawords)\n",
        "fdistkeys = list(fdist.keys())\n",
        "fdistkeys[:50]"
      ],
      "execution_count": null,
      "outputs": [
        {
          "output_type": "execute_result",
          "data": {
            "text/plain": [
              "['rt',\n",
              " '@activist360_co',\n",
              " 'the',\n",
              " 'climate',\n",
              " 'crisis',\n",
              " 'discriminates',\n",
              " 'maps',\n",
              " 'tell',\n",
              " 'story',\n",
              " 'https://t.co/epguv3lbcg',\n",
              " '@pfairley',\n",
              " '#climatecrisis',\n",
              " '#climateemerg',\n",
              " 'https://t.co/kyj4xaccao',\n",
              " '@ethoslifestyle',\n",
              " '#maps',\n",
              " 'how',\n",
              " 'data',\n",
              " 'visualizers',\n",
              " 'are',\n",
              " 'helping',\n",
              " 'to',\n",
              " 'plan',\n",
              " 'support',\n",
              " 'cascadia',\n",
              " 's',\n",
              " '@nezua',\n",
              " 'i',\n",
              " 'remember',\n",
              " 'running',\n",
              " 'outside',\n",
              " 'take',\n",
              " 'this',\n",
              " 'photo',\n",
              " 'and',\n",
              " 'then',\n",
              " 'right',\n",
              " 'back',\n",
              " 'inside',\n",
              " '#wildfires',\n",
              " 'https://t.co/tkumr0dybq',\n",
              " 'cascadi',\n",
              " 'https://t.co/bpldezpkw3',\n",
              " '@platformadam',\n",
              " 'simlipal',\n",
              " 'national',\n",
              " 'park',\n",
              " '#india',\n",
              " 'is',\n",
              " 'burning']"
            ]
          },
          "metadata": {
            "tags": []
          },
          "execution_count": 34
        }
      ]
    },
    {
      "cell_type": "code",
      "metadata": {
        "colab": {
          "base_uri": "https://localhost:8080/"
        },
        "id": "LwD21WxBpNlD",
        "outputId": "7dac104a-9378-48f1-8679-6a836e8e5bc5"
      },
      "source": [
        "topkeys = fdist.most_common(50)\n",
        "for pair in topkeys:\n",
        "    print(pair)"
      ],
      "execution_count": null,
      "outputs": [
        {
          "output_type": "stream",
          "text": [
            "('the', 234)\n",
            "('rt', 220)\n",
            "('#wildfires', 175)\n",
            "('to', 139)\n",
            "('in', 123)\n",
            "('a', 111)\n",
            "('of', 101)\n",
            "('and', 93)\n",
            "('are', 90)\n",
            "('wildfires', 86)\n",
            "('we', 77)\n",
            "('for', 69)\n",
            "('is', 65)\n",
            "('by', 65)\n",
            "('that', 62)\n",
            "('wildfire', 57)\n",
            "('fire', 54)\n",
            "('california', 54)\n",
            "('from', 51)\n",
            "('more', 50)\n",
            "('global', 47)\n",
            "('new', 46)\n",
            "('grey', 43)\n",
            "('cross', 43)\n",
            "('studios', 42)\n",
            "('fires', 41)\n",
            "('have', 40)\n",
            "('change', 38)\n",
            "('#surrealism', 38)\n",
            "('wild', 36)\n",
            "('has', 36)\n",
            "('forests', 33)\n",
            "('march', 31)\n",
            "('on', 31)\n",
            "('intensity', 28)\n",
            "('at', 28)\n",
            "('than', 27)\n",
            "('this', 26)\n",
            "('our', 26)\n",
            "('#heatwave', 26)\n",
            "('study', 26)\n",
            "('it', 25)\n",
            "('can', 24)\n",
            "('s', 23)\n",
            "('how', 22)\n",
            "('i', 22)\n",
            "('if', 22)\n",
            "('as', 22)\n",
            "('join', 21)\n",
            "('season', 21)\n"
          ],
          "name": "stdout"
        }
      ]
    },
    {
      "cell_type": "code",
      "metadata": {
        "colab": {
          "base_uri": "https://localhost:8080/"
        },
        "id": "CTYyup-QpNlD",
        "outputId": "38876609-b618-4f8b-d22d-95bd2d3213dc"
      },
      "source": [
        "numwords = len(alphawords)\n",
        "topkeysnormalized = [(word, freq / numwords) for (word, freq) in topkeys]\n",
        "for pair in topkeysnormalized:\n",
        "          print(pair)"
      ],
      "execution_count": null,
      "outputs": [
        {
          "output_type": "stream",
          "text": [
            "('the', 0.03285593934288121)\n",
            "('rt', 0.03089019938219601)\n",
            "('#wildfires', 0.02457174950856501)\n",
            "('to', 0.019516989609660206)\n",
            "('in', 0.017270429654591406)\n",
            "('a', 0.015585509688289806)\n",
            "('of', 0.014181409716371806)\n",
            "('and', 0.013058129738837404)\n",
            "('are', 0.012636899747262006)\n",
            "('wildfires', 0.012075259758494805)\n",
            "('we', 0.010811569783768604)\n",
            "('for', 0.009688289806234204)\n",
            "('is', 0.009126649817467004)\n",
            "('by', 0.009126649817467004)\n",
            "('that', 0.008705419825891604)\n",
            "('wildfire', 0.008003369839932602)\n",
            "('fire', 0.007582139848357203)\n",
            "('california', 0.007582139848357203)\n",
            "('from', 0.007160909856781803)\n",
            "('more', 0.007020499859590003)\n",
            "('global', 0.0065992698680146025)\n",
            "('new', 0.006458859870822803)\n",
            "('grey', 0.006037629879247402)\n",
            "('cross', 0.006037629879247402)\n",
            "('studios', 0.005897219882055603)\n",
            "('fires', 0.005756809884863802)\n",
            "('have', 0.005616399887672002)\n",
            "('change', 0.0053355798932884025)\n",
            "('#surrealism', 0.0053355798932884025)\n",
            "('wild', 0.005054759898904802)\n",
            "('has', 0.005054759898904802)\n",
            "('forests', 0.004633529907329402)\n",
            "('march', 0.004352709912945802)\n",
            "('on', 0.004352709912945802)\n",
            "('intensity', 0.003931479921370402)\n",
            "('at', 0.003931479921370402)\n",
            "('than', 0.0037910699241786015)\n",
            "('this', 0.0036506599269868017)\n",
            "('our', 0.0036506599269868017)\n",
            "('#heatwave', 0.0036506599269868017)\n",
            "('study', 0.0036506599269868017)\n",
            "('it', 0.0035102499297950014)\n",
            "('can', 0.003369839932603201)\n",
            "('s', 0.0032294299354114014)\n",
            "('how', 0.003089019938219601)\n",
            "('i', 0.003089019938219601)\n",
            "('if', 0.003089019938219601)\n",
            "('as', 0.003089019938219601)\n",
            "('join', 0.0029486099410278013)\n",
            "('season', 0.0029486099410278013)\n"
          ],
          "name": "stdout"
        }
      ]
    },
    {
      "cell_type": "code",
      "metadata": {
        "colab": {
          "base_uri": "https://localhost:8080/"
        },
        "id": "1_yeTdAYpNlE",
        "outputId": "a83ae8fb-4653-490d-b1b3-a0a965317b18"
      },
      "source": [
        "import nltk\n",
        "nltk.download('stopwords')\n",
        "nltkstopwords = nltk.corpus.stopwords.words('english')\n",
        "morestopwords = ['said','page','see','today','total','come','could','would','might','must','need','sha','wo','y',\"'s\",\"'d\",\"'ll\",\"'t\",\"'m\",\"'re\",\"'ve\",\"i'\"]\n",
        "stopwords = nltkstopwords + morestopwords"
      ],
      "execution_count": null,
      "outputs": [
        {
          "output_type": "stream",
          "text": [
            "[nltk_data] Downloading package stopwords to /root/nltk_data...\n",
            "[nltk_data]   Unzipping corpora/stopwords.zip.\n"
          ],
          "name": "stdout"
        }
      ]
    },
    {
      "cell_type": "code",
      "metadata": {
        "id": "gM31XcLDpNlE"
      },
      "source": [
        "stoppedwords = [w for w in alphawords if not w in stopwords]"
      ],
      "execution_count": null,
      "outputs": []
    },
    {
      "cell_type": "code",
      "metadata": {
        "colab": {
          "base_uri": "https://localhost:8080/"
        },
        "id": "B7N5DtEGpNlE",
        "outputId": "eff3332c-ba73-43d0-eb28-47a236468785"
      },
      "source": [
        "emmadist = FreqDist(stoppedwords)\n",
        "emmaitems = emmadist.most_common(50)\n",
        "for item in emmaitems:\n",
        "    print(item)"
      ],
      "execution_count": null,
      "outputs": [
        {
          "output_type": "stream",
          "text": [
            "('rt', 220)\n",
            "('#wildfires', 175)\n",
            "('wildfires', 86)\n",
            "('wildfire', 57)\n",
            "('fire', 54)\n",
            "('california', 54)\n",
            "('global', 47)\n",
            "('new', 46)\n",
            "('grey', 43)\n",
            "('cross', 43)\n",
            "('studios', 42)\n",
            "('fires', 41)\n",
            "('change', 38)\n",
            "('#surrealism', 38)\n",
            "('wild', 36)\n",
            "('forests', 33)\n",
            "('march', 31)\n",
            "('intensity', 28)\n",
            "('#heatwave', 26)\n",
            "('study', 26)\n",
            "('join', 21)\n",
            "('season', 21)\n",
            "('service', 21)\n",
            "('february', 20)\n",
            "('activity', 20)\n",
            "('#copernicusatmosphere', 20)\n",
            "('monitoring', 20)\n",
            "('plan', 19)\n",
            "('whilst', 19)\n",
            "('future', 19)\n",
            "('@m_parrington', 19)\n",
            "('assimilation', 19)\n",
            "('sys', 19)\n",
            "('important', 18)\n",
            "('climate', 17)\n",
            "('year', 17)\n",
            "('almost', 17)\n",
            "('#surrealart', 17)\n",
            "('#climatechange', 16)\n",
            "('work', 16)\n",
            "('us', 16)\n",
            "('shown', 16)\n",
            "('naturally', 16)\n",
            "('occuring', 16)\n",
            "('vital', 16)\n",
            "('ecosytems', 16)\n",
            "('day', 15)\n",
            "('want', 15)\n",
            "('@helpingrhinos', 15)\n",
            "('spr', 15)\n"
          ],
          "name": "stdout"
        }
      ]
    },
    {
      "cell_type": "code",
      "metadata": {
        "colab": {
          "base_uri": "https://localhost:8080/"
        },
        "id": "EcdGfJkRpNlE",
        "outputId": "99ccb503-fbed-4e6e-ad94-b1bba6b31814"
      },
      "source": [
        "numwords = len(stoppedwords)\n",
        "topkeysnormalized = [(word, freq / numwords) for (word, freq) in emmaitems]\n",
        "for pair in topkeysnormalized:\n",
        "          print(pair)"
      ],
      "execution_count": null,
      "outputs": [
        {
          "output_type": "stream",
          "text": [
            "('rt', 0.0444624090541633)\n",
            "('#wildfires', 0.03536782538399353)\n",
            "('wildfires', 0.017380759902991108)\n",
            "('wildfire', 0.011519805982215036)\n",
            "('fire', 0.010913500404203719)\n",
            "('california', 0.010913500404203719)\n",
            "('global', 0.009498787388843978)\n",
            "('new', 0.009296685529506871)\n",
            "('grey', 0.008690379951495554)\n",
            "('cross', 0.008690379951495554)\n",
            "('studios', 0.008488278092158448)\n",
            "('fires', 0.008286176232821341)\n",
            "('change', 0.007679870654810024)\n",
            "('#surrealism', 0.007679870654810024)\n",
            "('wild', 0.007275666936135812)\n",
            "('forests', 0.006669361358124495)\n",
            "('march', 0.006265157639450283)\n",
            "('intensity', 0.005658852061438965)\n",
            "('#heatwave', 0.005254648342764754)\n",
            "('study', 0.005254648342764754)\n",
            "('join', 0.004244139046079224)\n",
            "('season', 0.004244139046079224)\n",
            "('service', 0.004244139046079224)\n",
            "('february', 0.004042037186742118)\n",
            "('activity', 0.004042037186742118)\n",
            "('#copernicusatmosphere', 0.004042037186742118)\n",
            "('monitoring', 0.004042037186742118)\n",
            "('plan', 0.003839935327405012)\n",
            "('whilst', 0.003839935327405012)\n",
            "('future', 0.003839935327405012)\n",
            "('@m_parrington', 0.003839935327405012)\n",
            "('assimilation', 0.003839935327405012)\n",
            "('sys', 0.003839935327405012)\n",
            "('important', 0.003637833468067906)\n",
            "('climate', 0.0034357316087308)\n",
            "('year', 0.0034357316087308)\n",
            "('almost', 0.0034357316087308)\n",
            "('#surrealart', 0.0034357316087308)\n",
            "('#climatechange', 0.0032336297493936943)\n",
            "('work', 0.0032336297493936943)\n",
            "('us', 0.0032336297493936943)\n",
            "('shown', 0.0032336297493936943)\n",
            "('naturally', 0.0032336297493936943)\n",
            "('occuring', 0.0032336297493936943)\n",
            "('vital', 0.0032336297493936943)\n",
            "('ecosytems', 0.0032336297493936943)\n",
            "('day', 0.0030315278900565883)\n",
            "('want', 0.0030315278900565883)\n",
            "('@helpingrhinos', 0.0030315278900565883)\n",
            "('spr', 0.0030315278900565883)\n"
          ],
          "name": "stdout"
        }
      ]
    },
    {
      "cell_type": "code",
      "metadata": {
        "id": "weEs6CR0pNlF"
      },
      "source": [
        "from nltk.collocations import *\n",
        "bigram_measures = nltk.collocations.BigramAssocMeasures()"
      ],
      "execution_count": null,
      "outputs": []
    },
    {
      "cell_type": "code",
      "metadata": {
        "colab": {
          "base_uri": "https://localhost:8080/"
        },
        "id": "WzZpZnkypNlF",
        "outputId": "acb46c8c-847c-4411-e89d-57d07ab26cd2"
      },
      "source": [
        "finder = BigramCollocationFinder.from_words(ltokens)\n",
        "scored = finder.score_ngrams(bigram_measures.raw_freq)\n",
        "for bscore in scored[:50]:\n",
        "    print (bscore)"
      ],
      "execution_count": null,
      "outputs": [
        {
          "output_type": "stream",
          "text": [
            "(('…', 'rt'), 0.014806378132118452)\n",
            "(('(', 'the'), 0.00489749430523918)\n",
            "(('grey', 'cross'), 0.00489749430523918)\n",
            "(('the', '2020'), 0.00489749430523918)\n",
            "(('cross', 'studios'), 0.004783599088838269)\n",
            "(('global', 'fire'), 0.004555808656036446)\n",
            "(('studios', '#surrealism'), 0.004328018223234624)\n",
            "(('2020', 'california'), 0.004100227790432802)\n",
            "(('wild', 'fires'), 0.003986332574031891)\n",
            "(('california', 'wildfires'), 0.0038724373576309794)\n",
            "(('#heatwave', '#wildfires'), 0.00296127562642369)\n",
            "(('a', 'new'), 0.00296127562642369)\n",
            "((':', 'a'), 0.002619589977220957)\n",
            "(('we', 'are'), 0.002619589977220957)\n",
            "(('#wildfires', 'in'), 0.0023917995444191343)\n",
            "(('in', 'the'), 0.0023917995444191343)\n",
            "(('new', 'study'), 0.0023917995444191343)\n",
            "(('#copernicusatmosphere', 'monitoring'), 0.002277904328018223)\n",
            "(('&', 'intensity'), 0.002277904328018223)\n",
            "(('2021', 'global'), 0.002277904328018223)\n",
            "(('activity', '&'), 0.002277904328018223)\n",
            "(('february', '2021'), 0.002277904328018223)\n",
            "(('fire', 'activity'), 0.002277904328018223)\n",
            "(('from', '#copernicusatmosphere'), 0.002277904328018223)\n",
            "(('intensity', 'from'), 0.002277904328018223)\n",
            "(('monitoring', 'service'), 0.002277904328018223)\n",
            "(('service', 'global'), 0.002277904328018223)\n",
            "((':', 'february'), 0.002164009111617312)\n",
            "(('@m_parrington', ':'), 0.002164009111617312)\n",
            "(('assimilation', 'sys'), 0.002164009111617312)\n",
            "(('fire', 'assimilation'), 0.002164009111617312)\n",
            "(('rt', '@m_parrington'), 0.002164009111617312)\n",
            "(('sys', '…'), 0.002164009111617312)\n",
            "(('the', 'future'), 0.002164009111617312)\n",
            "(('have', 'been'), 0.002050113895216401)\n",
            "(('#surrealism', '#surrealart'), 0.0019362186788154897)\n",
            "(('#surrealism', '…'), 0.0019362186788154897)\n",
            "(('forests', 'are'), 0.0019362186788154897)\n",
            "(('#wildfires', 'are'), 0.0018223234624145787)\n",
            "((',', 'have'), 0.0018223234624145787)\n",
            "((',', 'whilst'), 0.0018223234624145787)\n",
            "((':', 'we'), 0.0018223234624145787)\n",
            "(('and', 'vital'), 0.0018223234624145787)\n",
            "(('ecosytems', ','), 0.0018223234624145787)\n",
            "(('fires', ','), 0.0018223234624145787)\n",
            "(('fires', ':'), 0.0018223234624145787)\n",
            "(('for', 'some'), 0.0018223234624145787)\n",
            "(('has', 'shown'), 0.0018223234624145787)\n",
            "(('naturally', 'occuring'), 0.0018223234624145787)\n",
            "(('occuring', 'and'), 0.0018223234624145787)\n"
          ],
          "name": "stdout"
        }
      ]
    },
    {
      "cell_type": "code",
      "metadata": {
        "colab": {
          "base_uri": "https://localhost:8080/"
        },
        "id": "2GmFwuNapNlF",
        "outputId": "b9f4b94e-a85d-435f-cb3a-f7ebc5197d3d"
      },
      "source": [
        "finder = BigramCollocationFinder.from_words(ltokens)\n",
        "scored = finder.score_ngrams(bigram_measures.pmi)\n",
        "for bscore in scored[:50]:\n",
        "    print (bscore)"
      ],
      "execution_count": null,
      "outputs": [
        {
          "output_type": "stream",
          "text": [
            "(('#ab', 'https://t.co/jesmcpkmcd'), 13.10000522442272)\n",
            "(('#energynews', '#news'), 13.10000522442272)\n",
            "(('#firefighting', 'toolbox'), 13.10000522442272)\n",
            "(('#gis', '#spatial'), 13.10000522442272)\n",
            "(('#homes', '#houses'), 13.10000522442272)\n",
            "(('#hydrology', '#wildfire'), 13.10000522442272)\n",
            "(('#infrastructure', '#homes'), 13.10000522442272)\n",
            "(('#morningcommute', 'https://t.co/foodlsy4kh'), 13.10000522442272)\n",
            "(('#nature', '#naturephotography'), 13.10000522442272)\n",
            "(('#neon', '#neoncolor'), 13.10000522442272)\n",
            "(('#neoncolor', '#neons'), 13.10000522442272)\n",
            "(('#neoncolorsart', '#neon'), 13.10000522442272)\n",
            "(('#neons', '#inthesha'), 13.10000522442272)\n",
            "(('#pantanal', 'cont'), 13.10000522442272)\n",
            "(('#pge', '#energynews'), 13.10000522442272)\n",
            "(('#photography', '#oakridgeoregon'), 13.10000522442272)\n",
            "(('#santarosa', '@santarosafire'), 13.10000522442272)\n",
            "(('#smoky', '#morningcommute'), 13.10000522442272)\n",
            "(('#sonomacounty', '#recycle'), 13.10000522442272)\n",
            "((\"#southamerica's\", '#pantanal'), 13.10000522442272)\n",
            "(('#tornados', '#heatwaves'), 13.10000522442272)\n",
            "(('+', '#nuclear'), 13.10000522442272)\n",
            "(('..', 'however'), 13.10000522442272)\n",
            "(('3lv', 'https://t.co/upjd3ml4eh'), 13.10000522442272)\n",
            "(('8)', 'https://t.co/9khiiip9mn'), 13.10000522442272)\n",
            "((';', 'boise'), 13.10000522442272)\n",
            "(('@buzzsolutions1', 'aims'), 13.10000522442272)\n",
            "(('@cafiresafe', '#highway168firesafecouncil'), 13.10000522442272)\n",
            "(('@cityofsantarosa', '@countyofsonoma'), 13.10000522442272)\n",
            "(('@countyofsonoma', '#sonomacounty'), 13.10000522442272)\n",
            "(('@nickcowern', '@ricbollen1'), 13.10000522442272)\n",
            "(('@orgovkatebrown', 'throug'), 13.10000522442272)\n",
            "(('@pge4me', 'ceo'), 13.10000522442272)\n",
            "(('@poppepk', 'promises'), 13.10000522442272)\n",
            "(('@ricbollen1', '@rovanzon'), 13.10000522442272)\n",
            "(('@santarosafire', '@cityofsantarosa'), 13.10000522442272)\n",
            "(('@sce', '@cafiresafe'), 13.10000522442272)\n",
            "(('alleging', 'neglect'), 13.10000522442272)\n",
            "(('another', 'asset'), 13.10000522442272)\n",
            "(('any', 'per'), 13.10000522442272)\n",
            "(('arizona', 'mapped'), 13.10000522442272)\n",
            "(('art', 'youtube'), 13.10000522442272)\n",
            "(('audit', 'finds'), 13.10000522442272)\n",
            "(('auroras', 'bursts'), 13.10000522442272)\n",
            "(('az', 'https://t.co/qxn0dm06lx'), 13.10000522442272)\n",
            "(('bananas', 'idea'), 13.10000522442272)\n",
            "(('brad', 'hawkins'), 13.10000522442272)\n",
            "(('builds', 'houses'), 13.10000522442272)\n",
            "(('cal', 'coming'), 13.10000522442272)\n",
            "(('called', 'biggie'), 13.10000522442272)\n"
          ],
          "name": "stdout"
        }
      ]
    },
    {
      "cell_type": "code",
      "metadata": {
        "colab": {
          "base_uri": "https://localhost:8080/"
        },
        "id": "7LPnc3tipNlG",
        "outputId": "46a4c564-c10b-4315-8943-f6457cb0df23"
      },
      "source": [
        "finder2 = BigramCollocationFinder.from_words(alphawords)\n",
        "scored = finder2.score_ngrams(bigram_measures.raw_freq)\n",
        "for bscore in scored[:50]:\n",
        "    print (bscore)"
      ],
      "execution_count": null,
      "outputs": [
        {
          "output_type": "stream",
          "text": [
            "(('grey', 'cross'), 0.006037629879247402)\n",
            "(('cross', 'studios'), 0.005897219882055603)\n",
            "(('global', 'fire'), 0.005616399887672002)\n",
            "(('studios', '#surrealism'), 0.0053355798932884025)\n",
            "(('the', 'california'), 0.005054759898904802)\n",
            "(('wild', 'fires'), 0.004914349901713002)\n",
            "(('california', 'wildfires'), 0.004773939904521202)\n",
            "(('#heatwave', '#wildfires'), 0.0036506599269868017)\n",
            "(('a', 'new'), 0.0036506599269868017)\n",
            "(('we', 'are'), 0.0032294299354114014)\n",
            "(('#wildfires', 'in'), 0.0029486099410278013)\n",
            "(('in', 'the'), 0.0029486099410278013)\n",
            "(('new', 'study'), 0.0029486099410278013)\n",
            "(('#copernicusatmosphere', 'monitoring'), 0.002808199943836001)\n",
            "(('activity', 'intensity'), 0.002808199943836001)\n",
            "(('february', 'global'), 0.002808199943836001)\n",
            "(('fire', 'activity'), 0.002808199943836001)\n",
            "(('from', '#copernicusatmosphere'), 0.002808199943836001)\n",
            "(('intensity', 'from'), 0.002808199943836001)\n",
            "(('monitoring', 'service'), 0.002808199943836001)\n",
            "(('service', 'global'), 0.002808199943836001)\n",
            "(('@m_parrington', 'february'), 0.0026677899466442012)\n",
            "(('assimilation', 'sys'), 0.0026677899466442012)\n",
            "(('fire', 'assimilation'), 0.0026677899466442012)\n",
            "(('rt', '@m_parrington'), 0.0026677899466442012)\n",
            "(('the', 'future'), 0.0026677899466442012)\n",
            "(('have', 'been'), 0.002527379949452401)\n",
            "(('#surrealism', '#surrealart'), 0.002386969952260601)\n",
            "(('forests', 'are'), 0.002386969952260601)\n",
            "(('#wildfires', 'are'), 0.002246559955068801)\n",
            "(('and', 'vital'), 0.002246559955068801)\n",
            "(('ecosytems', 'have'), 0.002246559955068801)\n",
            "(('fires', 'a'), 0.002246559955068801)\n",
            "(('fires', 'whilst'), 0.002246559955068801)\n",
            "(('for', 'some'), 0.002246559955068801)\n",
            "(('has', 'shown'), 0.002246559955068801)\n",
            "(('naturally', 'occuring'), 0.002246559955068801)\n",
            "(('occuring', 'and'), 0.002246559955068801)\n",
            "(('of', '#wildfires'), 0.002246559955068801)\n",
            "(('shown', 'that'), 0.002246559955068801)\n",
            "(('some', 'ecosytems'), 0.002246559955068801)\n",
            "(('study', 'has'), 0.002246559955068801)\n",
            "(('that', 'wild'), 0.002246559955068801)\n",
            "(('vital', 'for'), 0.002246559955068801)\n",
            "(('whilst', 'naturally'), 0.002246559955068801)\n",
            "(('@helpingrhinos', 'wild'), 0.0021061499578770007)\n",
            "(('been', 'spr'), 0.0021061499578770007)\n",
            "(('rt', '@helpingrhinos'), 0.0021061499578770007)\n",
            "(('#onev1', '#climat'), 0.001965739960685201)\n",
            "(('#wildfires', '#onev1'), 0.001965739960685201)\n"
          ],
          "name": "stdout"
        }
      ]
    },
    {
      "cell_type": "code",
      "metadata": {
        "colab": {
          "base_uri": "https://localhost:8080/"
        },
        "id": "v7UqP8jmpNlG",
        "outputId": "ce69cfca-3586-49d6-a75e-4f0b926a5143"
      },
      "source": [
        "finder2 = BigramCollocationFinder.from_words(alphawords)\n",
        "scored = finder2.score_ngrams(bigram_measures.pmi)\n",
        "for bscore in scored[:50]:\n",
        "    print (bscore)"
      ],
      "execution_count": null,
      "outputs": [
        {
          "output_type": "stream",
          "text": [
            "(('#ab', 'https://t.co/jesmcpkmcd'), 12.798066720363064)\n",
            "(('#chernobyl', 'https://t.co/vkwkdaezqx'), 12.798066720363064)\n",
            "(('#energynews', '#news'), 12.798066720363064)\n",
            "(('#firefighting', 'toolbox'), 12.798066720363064)\n",
            "(('#forestm', 'renewable'), 12.798066720363064)\n",
            "(('#gis', '#spatial'), 12.798066720363064)\n",
            "(('#homes', '#houses'), 12.798066720363064)\n",
            "(('#houses', 'https://t.co/s8302h99la'), 12.798066720363064)\n",
            "(('#hydrology', '#wildfire'), 12.798066720363064)\n",
            "(('#infrastructure', '#homes'), 12.798066720363064)\n",
            "(('#losangeles', 'https://t.co/rwdsi8dznh'), 12.798066720363064)\n",
            "(('#morningcommute', 'https://t.co/foodlsy4kh'), 12.798066720363064)\n",
            "(('#nature', '#naturephotography'), 12.798066720363064)\n",
            "(('#neon', '#neoncolor'), 12.798066720363064)\n",
            "(('#neoncolor', '#neons'), 12.798066720363064)\n",
            "(('#neoncolorsart', '#neon'), 12.798066720363064)\n",
            "(('#neons', '#inthesha'), 12.798066720363064)\n",
            "(('#news', 'https://t.co/42ep2mt7p0'), 12.798066720363064)\n",
            "(('#or', 'angels'), 12.798066720363064)\n",
            "(('#pantanal', 'cont'), 12.798066720363064)\n",
            "(('#pge', '#energynews'), 12.798066720363064)\n",
            "(('#photography', '#oakridgeoregon'), 12.798066720363064)\n",
            "(('#recycle', 'https://t.co/mumzrlks5d'), 12.798066720363064)\n",
            "(('#santarosa', '@santarosafire'), 12.798066720363064)\n",
            "(('#similipal', 'https://t.co/jzwrgjgvp4'), 12.798066720363064)\n",
            "(('#smoky', '#morningcommute'), 12.798066720363064)\n",
            "(('#sonomacounty', '#recycle'), 12.798066720363064)\n",
            "((\"#southamerica's\", '#pantanal'), 12.798066720363064)\n",
            "(('#tornados', '#heatwaves'), 12.798066720363064)\n",
            "(('#wildfire', 'https://t.co/ugnnyoaeu9'), 12.798066720363064)\n",
            "(('2nd', 'colorado'), 12.798066720363064)\n",
            "(('3lv', 'https://t.co/upjd3ml4eh'), 12.798066720363064)\n",
            "(('@avantaventures', '@buzzsolutions1'), 12.798066720363064)\n",
            "(('@buzzsolutions1', 'aims'), 12.798066720363064)\n",
            "(('@cafiresafe', '#highway168firesafecouncil'), 12.798066720363064)\n",
            "(('@caps_cmu', 'https://t.co/44oiwdpwtg'), 12.798066720363064)\n",
            "(('@cdcenvironment', '@nist'), 12.798066720363064)\n",
            "(('@cityofsantarosa', '@countyofsonoma'), 12.798066720363064)\n",
            "(('@countyofsonoma', '#sonomacounty'), 12.798066720363064)\n",
            "(('@dollyslibrary', 'she'), 12.798066720363064)\n",
            "(('@eparegion9', '@epa'), 12.798066720363064)\n",
            "(('@ms_took', 'swirls'), 12.798066720363064)\n",
            "(('@natgeotravel', 'https://t.co/gyhavhotie'), 12.798066720363064)\n",
            "(('@nickcowern', '@ricbollen1'), 12.798066720363064)\n",
            "(('@niosh', '@cdcenvironment'), 12.798066720363064)\n",
            "(('@nist', 'others'), 12.798066720363064)\n",
            "(('@orgovkatebrown', 'throug'), 12.798066720363064)\n",
            "(('@pge4me', 'ceo'), 12.798066720363064)\n",
            "(('@poppepk', 'promises'), 12.798066720363064)\n",
            "(('@ricbollen1', '@rovanzon'), 12.798066720363064)\n"
          ],
          "name": "stdout"
        }
      ]
    },
    {
      "cell_type": "code",
      "metadata": {
        "colab": {
          "base_uri": "https://localhost:8080/"
        },
        "id": "Q_f7KrWfpNlH",
        "outputId": "085141eb-66ed-431d-b1ea-b9e634db8f8e"
      },
      "source": [
        "finder3 = BigramCollocationFinder.from_words(stoppedwords)\n",
        "scored = finder3.score_ngrams(bigram_measures.raw_freq)\n",
        "for bscore in scored[:50]:\n",
        "    print (bscore)"
      ],
      "execution_count": null,
      "outputs": [
        {
          "output_type": "stream",
          "text": [
            "(('grey', 'cross'), 0.008690379951495554)\n",
            "(('cross', 'studios'), 0.008488278092158448)\n",
            "(('global', 'fire'), 0.008084074373484237)\n",
            "(('studios', '#surrealism'), 0.007679870654810024)\n",
            "(('wild', 'fires'), 0.007073565076798707)\n",
            "(('california', 'wildfires'), 0.0068714632174616)\n",
            "(('#heatwave', '#wildfires'), 0.005254648342764754)\n",
            "(('new', 'study'), 0.004244139046079224)\n",
            "(('#copernicusatmosphere', 'monitoring'), 0.004042037186742118)\n",
            "(('activity', 'intensity'), 0.004042037186742118)\n",
            "(('february', 'global'), 0.004042037186742118)\n",
            "(('fire', 'activity'), 0.004042037186742118)\n",
            "(('intensity', '#copernicusatmosphere'), 0.004042037186742118)\n",
            "(('monitoring', 'service'), 0.004042037186742118)\n",
            "(('service', 'global'), 0.004042037186742118)\n",
            "(('@m_parrington', 'february'), 0.003839935327405012)\n",
            "(('assimilation', 'sys'), 0.003839935327405012)\n",
            "(('fire', 'assimilation'), 0.003839935327405012)\n",
            "(('rt', '@m_parrington'), 0.003839935327405012)\n",
            "(('#surrealism', '#surrealart'), 0.0034357316087308)\n",
            "(('fires', 'new'), 0.0032336297493936943)\n",
            "(('fires', 'whilst'), 0.0032336297493936943)\n",
            "(('naturally', 'occuring'), 0.0032336297493936943)\n",
            "(('occuring', 'vital'), 0.0032336297493936943)\n",
            "(('shown', 'wild'), 0.0032336297493936943)\n",
            "(('study', 'shown'), 0.0032336297493936943)\n",
            "(('vital', 'ecosytems'), 0.0032336297493936943)\n",
            "(('whilst', 'naturally'), 0.0032336297493936943)\n",
            "(('@helpingrhinos', 'wild'), 0.0030315278900565883)\n",
            "(('ecosytems', 'spr'), 0.0030315278900565883)\n",
            "(('rt', '@helpingrhinos'), 0.0030315278900565883)\n",
            "(('#onev1', '#climat'), 0.0028294260307194824)\n",
            "(('#wildfires', '#onev1'), 0.0028294260307194824)\n",
            "(('@sclinton60', 'absolutely'), 0.0028294260307194824)\n",
            "(('absolutely', 'change'), 0.0028294260307194824)\n",
            "(('change', 'future'), 0.0028294260307194824)\n",
            "(('change', 'important'), 0.0028294260307194824)\n",
            "(('future', 'want'), 0.0028294260307194824)\n",
            "(('important', 'plan'), 0.0028294260307194824)\n",
            "(('plan', '#wildfires'), 0.0028294260307194824)\n",
            "(('rt', '@sclinton60'), 0.0028294260307194824)\n",
            "(('sys', 'rt'), 0.0028294260307194824)\n",
            "(('want', 'change'), 0.0028294260307194824)\n",
            "(('#dyk', '#oldgrowth'), 0.002425222312045271)\n",
            "(('#oldgrowth', 'forests'), 0.002425222312045271)\n",
            "(('#wildfires', 'become'), 0.002425222312045271)\n",
            "(('@sierraclubbc', '#dyk'), 0.002425222312045271)\n",
            "(('become', 'comm'), 0.002425222312045271)\n",
            "(('forests', '#wildfires'), 0.002425222312045271)\n",
            "(('forests', 'resilient'), 0.002425222312045271)\n"
          ],
          "name": "stdout"
        }
      ]
    },
    {
      "cell_type": "code",
      "metadata": {
        "colab": {
          "base_uri": "https://localhost:8080/"
        },
        "id": "aWRogYRRpNlH",
        "outputId": "22466e2f-e3a9-411d-a7cd-c947c59484e0"
      },
      "source": [
        "finder3 = BigramCollocationFinder.from_words(stoppedwords)\n",
        "scored = finder3.score_ngrams(bigram_measures.pmi)\n",
        "for bscore in scored[:50]:\n",
        "    print (bscore)"
      ],
      "execution_count": null,
      "outputs": [
        {
          "output_type": "stream",
          "text": [
            "(('#ab', 'https://t.co/jesmcpkmcd'), 12.27262978497637)\n",
            "(('#america', 'despite'), 12.27262978497637)\n",
            "(('#biodiversity', 'lives'), 12.27262978497637)\n",
            "(('#chernobyl', 'https://t.co/vkwkdaezqx'), 12.27262978497637)\n",
            "(('#datachallenge', 'interest'), 12.27262978497637)\n",
            "(('#energynews', '#news'), 12.27262978497637)\n",
            "(('#firefighting', 'toolbox'), 12.27262978497637)\n",
            "(('#forestm', 'renewable'), 12.27262978497637)\n",
            "(('#gis', '#spatial'), 12.27262978497637)\n",
            "(('#homes', '#houses'), 12.27262978497637)\n",
            "(('#houses', 'https://t.co/s8302h99la'), 12.27262978497637)\n",
            "(('#hydrology', '#wildfire'), 12.27262978497637)\n",
            "(('#infrastructure', '#homes'), 12.27262978497637)\n",
            "(('#losangeles', 'https://t.co/rwdsi8dznh'), 12.27262978497637)\n",
            "(('#morningcommute', 'https://t.co/foodlsy4kh'), 12.27262978497637)\n",
            "(('#nature', '#naturephotography'), 12.27262978497637)\n",
            "(('#neon', '#neoncolor'), 12.27262978497637)\n",
            "(('#neoncolor', '#neons'), 12.27262978497637)\n",
            "(('#neoncolorsart', '#neon'), 12.27262978497637)\n",
            "(('#neons', '#inthesha'), 12.27262978497637)\n",
            "(('#news', 'https://t.co/42ep2mt7p0'), 12.27262978497637)\n",
            "(('#or', 'angels'), 12.27262978497637)\n",
            "(('#pantanal', 'cont'), 12.27262978497637)\n",
            "(('#pge', '#energynews'), 12.27262978497637)\n",
            "(('#photography', '#oakridgeoregon'), 12.27262978497637)\n",
            "(('#recycle', 'https://t.co/mumzrlks5d'), 12.27262978497637)\n",
            "(('#regulator', 'mid-december'), 12.27262978497637)\n",
            "(('#santarosa', '@santarosafire'), 12.27262978497637)\n",
            "(('#similipal', 'https://t.co/jzwrgjgvp4'), 12.27262978497637)\n",
            "(('#smoky', '#morningcommute'), 12.27262978497637)\n",
            "(('#sonomacounty', '#recycle'), 12.27262978497637)\n",
            "((\"#southamerica's\", '#pantanal'), 12.27262978497637)\n",
            "(('#tornados', '#heatwaves'), 12.27262978497637)\n",
            "(('#us', 'ravaged'), 12.27262978497637)\n",
            "(('#utilities', \"they're\"), 12.27262978497637)\n",
            "(('#wildfire', 'https://t.co/ugnnyoaeu9'), 12.27262978497637)\n",
            "(('2nd', 'colorado'), 12.27262978497637)\n",
            "(('3lv', 'https://t.co/upjd3ml4eh'), 12.27262978497637)\n",
            "(('@avantaventures', '@buzzsolutions1'), 12.27262978497637)\n",
            "(('@buzzsolutions1', 'aims'), 12.27262978497637)\n",
            "(('@cafiresafe', '#highway168firesafecouncil'), 12.27262978497637)\n",
            "(('@caps_cmu', 'https://t.co/44oiwdpwtg'), 12.27262978497637)\n",
            "(('@cdcenvironment', '@nist'), 12.27262978497637)\n",
            "(('@cityofsantarosa', '@countyofsonoma'), 12.27262978497637)\n",
            "(('@countyofsonoma', '#sonomacounty'), 12.27262978497637)\n",
            "(('@dollyslibrary', 'gave'), 12.27262978497637)\n",
            "(('@epa', 'partnering'), 12.27262978497637)\n",
            "(('@eparegion9', '@epa'), 12.27262978497637)\n",
            "(('@ms_took', 'swirls'), 12.27262978497637)\n",
            "(('@natgeotravel', 'https://t.co/gyhavhotie'), 12.27262978497637)\n"
          ],
          "name": "stdout"
        }
      ]
    },
    {
      "cell_type": "code",
      "metadata": {
        "id": "-_ZExxDRpNlH"
      },
      "source": [
        "trigram_measures = nltk.collocations.TrigramAssocMeasures()"
      ],
      "execution_count": null,
      "outputs": []
    },
    {
      "cell_type": "code",
      "metadata": {
        "colab": {
          "base_uri": "https://localhost:8080/"
        },
        "id": "BPZYvp4yJyvB",
        "outputId": "f2fbe03c-8cb1-4817-f844-de0893ef71b8"
      },
      "source": [
        "finder = TrigramCollocationFinder.from_words(alphawords)\r\n",
        "scored = finder.score_ngrams(trigram_measures.raw_freq)\r\n",
        "for bscore in scored[:50]:\r\n",
        "    print (bscore)"
      ],
      "execution_count": null,
      "outputs": [
        {
          "output_type": "stream",
          "text": [
            "(('grey', 'cross', 'studios'), 0.005897219882055603)\n",
            "(('cross', 'studios', '#surrealism'), 0.0053355798932884025)\n",
            "(('the', 'california', 'wildfires'), 0.004773939904521202)\n",
            "(('#copernicusatmosphere', 'monitoring', 'service'), 0.002808199943836001)\n",
            "(('activity', 'intensity', 'from'), 0.002808199943836001)\n",
            "(('february', 'global', 'fire'), 0.002808199943836001)\n",
            "(('fire', 'activity', 'intensity'), 0.002808199943836001)\n",
            "(('from', '#copernicusatmosphere', 'monitoring'), 0.002808199943836001)\n",
            "(('global', 'fire', 'activity'), 0.002808199943836001)\n",
            "(('intensity', 'from', '#copernicusatmosphere'), 0.002808199943836001)\n",
            "(('monitoring', 'service', 'global'), 0.002808199943836001)\n",
            "(('service', 'global', 'fire'), 0.002808199943836001)\n",
            "(('@m_parrington', 'february', 'global'), 0.0026677899466442012)\n",
            "(('fire', 'assimilation', 'sys'), 0.0026677899466442012)\n",
            "(('global', 'fire', 'assimilation'), 0.0026677899466442012)\n",
            "(('rt', '@m_parrington', 'february'), 0.0026677899466442012)\n",
            "(('a', 'new', 'study'), 0.002386969952260601)\n",
            "(('studios', '#surrealism', '#surrealart'), 0.002386969952260601)\n",
            "(('and', 'vital', 'for'), 0.002246559955068801)\n",
            "(('fires', 'a', 'new'), 0.002246559955068801)\n",
            "(('fires', 'whilst', 'naturally'), 0.002246559955068801)\n",
            "(('for', 'some', 'ecosytems'), 0.002246559955068801)\n",
            "(('has', 'shown', 'that'), 0.002246559955068801)\n",
            "(('naturally', 'occuring', 'and'), 0.002246559955068801)\n",
            "(('new', 'study', 'has'), 0.002246559955068801)\n",
            "(('occuring', 'and', 'vital'), 0.002246559955068801)\n",
            "(('shown', 'that', 'wild'), 0.002246559955068801)\n",
            "(('some', 'ecosytems', 'have'), 0.002246559955068801)\n",
            "(('study', 'has', 'shown'), 0.002246559955068801)\n",
            "(('that', 'wild', 'fires'), 0.002246559955068801)\n",
            "(('vital', 'for', 'some'), 0.002246559955068801)\n",
            "(('whilst', 'naturally', 'occuring'), 0.002246559955068801)\n",
            "(('wild', 'fires', 'a'), 0.002246559955068801)\n",
            "(('wild', 'fires', 'whilst'), 0.002246559955068801)\n",
            "(('@helpingrhinos', 'wild', 'fires'), 0.0021061499578770007)\n",
            "(('ecosytems', 'have', 'been'), 0.0021061499578770007)\n",
            "(('have', 'been', 'spr'), 0.0021061499578770007)\n",
            "(('rt', '@helpingrhinos', 'wild'), 0.0021061499578770007)\n",
            "(('#wildfires', '#onev1', '#climat'), 0.001965739960685201)\n",
            "(('@sclinton60', 'we', 'can'), 0.001965739960685201)\n",
            "(('a', 'plan', '#wildfires'), 0.001965739960685201)\n",
            "(('absolutely', 'change', 'the'), 0.001965739960685201)\n",
            "(('assimilation', 'sys', 'rt'), 0.001965739960685201)\n",
            "(('can', 'absolutely', 'change'), 0.001965739960685201)\n",
            "(('change', 'it', 'is'), 0.001965739960685201)\n",
            "(('change', 'the', 'future'), 0.001965739960685201)\n",
            "(('future', 'if', 'we'), 0.001965739960685201)\n",
            "(('have', 'a', 'plan'), 0.001965739960685201)\n",
            "(('if', 'we', 'want'), 0.001965739960685201)\n",
            "(('important', 'that', 'we'), 0.001965739960685201)\n"
          ],
          "name": "stdout"
        }
      ]
    },
    {
      "cell_type": "code",
      "metadata": {
        "colab": {
          "base_uri": "https://localhost:8080/"
        },
        "id": "X8DSilOGKZrG",
        "outputId": "f50d75bc-f393-4037-8a83-b4efcce8c883"
      },
      "source": [
        "finder = TrigramCollocationFinder.from_words(alphawords)\r\n",
        "finder.apply_freq_filter(5)\r\n",
        "scored = finder.score_ngrams(trigram_measures.pmi)\r\n",
        "for bscore in scored[:50]:\r\n",
        "    print (bscore)"
      ],
      "execution_count": null,
      "outputs": [
        {
          "output_type": "stream",
          "text": [
            "(('@sacbee_news', 'professor', 'scott'), 20.9522772509514)\n",
            "(('itself', 'l', 'wolfe'), 20.9522772509514)\n",
            "(('life', 'itself', 'l'), 20.9522772509514)\n",
            "(('professor', 'scott', 'stephens'), 20.9522772509514)\n",
            "(('scott', 'stephens', 'discusses'), 20.9522772509514)\n",
            "(('stephens', 'discusses', '#forest'), 20.689242845117608)\n",
            "(('book', '#flamesofextinction', 'hits'), 20.426208439283815)\n",
            "(('having', 'days', 'where'), 20.203816017947368)\n",
            "(('careless', 'debris', 'burners'), 20.011170940004973)\n",
            "(('discusses', '#forest', 'management'), 20.01117094000497)\n",
            "(('@john_pickrell', 'hot', 'off'), 19.788778518668526)\n",
            "(('#cleanerindoorairchallenge', 'informational', 'webinar'), 19.426208439283812)\n",
            "(('10am', 'pst', '7pm'), 19.426208439283812)\n",
            "(('pst', '7pm', 'cet'), 19.426208439283812)\n",
            "(('#global', '#climatechange', 'include'), 19.274205345838766)\n",
            "(('will', 'disappear', 'quietly'), 19.274205345838766)\n",
            "(('trouble', 'after', 'historic'), 19.10428034439645)\n",
            "(('@zachkunstk', 'what', 'inspired'), 19.01117094000497)\n",
            "(('nc', 'each', 'year'), 18.923708098754634)\n",
            "(('#climatechange', 'include', 'frequent'), 18.788778518668522)\n",
            "(('year', 'having', 'days'), 18.701315677418187)\n",
            "(('who', 'find', 'beauty'), 18.689242845117608)\n",
            "(('debris', 'burners', 'your'), 18.63265931675124)\n",
            "(('run', '@beingelenala', 'i'), 18.551739321367677)\n",
            "((\"here's\", 'how', \"we're\"), 18.551739321367673)\n",
            "(('investigate', 'west', '@invw'), 18.551739321367673)\n",
            "(('@espm_berkeley', '@cal_fire', '#treemortality'), 18.466850423781157)\n",
            "(('@ucanr', '@espm_berkeley', '@cal_fire'), 18.466850423781157)\n",
            "(('#climatecrisis', 'will', 'disappear'), 18.426208439283812)\n",
            "(('#treemortality', 'day', 'workshop'), 18.367314750230243)\n",
            "(('@cal_fire', '#treemortality', 'day'), 18.367314750230243)\n",
            "(('day', 'workshop', 'registration'), 18.367314750230243)\n",
            "(('air', 'quality', 'r'), 18.31073122186388)\n",
            "(('report', '#colorado', 'forests'), 18.22981122648031)\n",
            "(('last', 'year', 'having'), 18.186742504588427)\n",
            "(('7pm', 'cet', 'i'), 18.13670182208883)\n",
            "(('@beingelenala', 'i', 'was'), 18.13670182208883)\n",
            "(('what', 'inspired', 'you'), 18.13670182208883)\n",
            "(('those', 'who', 'hope'), 18.10428034439645)\n",
            "(('communities', 'most', 'likely'), 18.033891016505056)\n",
            "(('nature', 'will', 'find'), 18.01117094000497)\n",
            "(('will', 'find', 'themselves'), 18.01117094000497)\n",
            "(('summer', '#climatechange', 'means'), 17.984698728643778)\n",
            "(('cet', 'i', 'm'), 17.966776820646515)\n",
            "(('our', '#cleanerindoorairchallenge', 'informational'), 17.895693722585037)\n",
            "(('at', 'am', 'pt'), 17.788778518668522)\n",
            "(('#storms', 'global', '#sealevel'), 17.719616494161126)\n",
            "(('#tropical', '#storms', 'global'), 17.719616494161126)\n",
            "(('global', '#sealevel', 'ris'), 17.719616494161126)\n",
            "(('how', \"we're\", 'working'), 17.703742414812723)\n"
          ],
          "name": "stdout"
        }
      ]
    },
    {
      "cell_type": "code",
      "metadata": {
        "id": "1SHWhz2AKhO1"
      },
      "source": [
        ""
      ],
      "execution_count": null,
      "outputs": []
    }
  ]
}