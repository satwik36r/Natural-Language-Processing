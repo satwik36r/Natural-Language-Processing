{
  "nbformat": 4,
  "nbformat_minor": 0,
  "metadata": {
    "colab": {
      "name": "nlp_shosaman_assignment1_part_1 ",
      "provenance": []
    },
    "kernelspec": {
      "name": "python3",
      "display_name": "Python 3"
    }
  },
  "cells": [
    {
      "cell_type": "code",
      "metadata": {
        "colab": {
          "base_uri": "https://localhost:8080/"
        },
        "id": "3df1vUgh50fR",
        "outputId": "f4c1586d-f58b-41e3-f1bb-c5c9016bd486"
      },
      "source": [
        "import nltk\r\n",
        "from nltk import FreqDist\r\n",
        "nltk.download('gutenberg')\r\n",
        "nltk.download('punkt')\r\n",
        "nltk.download('stopwords')"
      ],
      "execution_count": null,
      "outputs": [
        {
          "output_type": "stream",
          "text": [
            "[nltk_data] Downloading package gutenberg to /root/nltk_data...\n",
            "[nltk_data]   Unzipping corpora/gutenberg.zip.\n",
            "[nltk_data] Downloading package punkt to /root/nltk_data...\n",
            "[nltk_data]   Unzipping tokenizers/punkt.zip.\n",
            "[nltk_data] Downloading package stopwords to /root/nltk_data...\n",
            "[nltk_data]   Unzipping corpora/stopwords.zip.\n"
          ],
          "name": "stdout"
        },
        {
          "output_type": "execute_result",
          "data": {
            "text/plain": [
              "True"
            ]
          },
          "metadata": {
            "tags": []
          },
          "execution_count": 1
        }
      ]
    },
    {
      "cell_type": "code",
      "metadata": {
        "colab": {
          "base_uri": "https://localhost:8080/"
        },
        "id": "t92_tbcAZNQ8",
        "outputId": "2b120131-d57d-4905-cb03-eae64e8280ed"
      },
      "source": [
        "print(\"List of books\"+\"\\n\")\r\n",
        "print (nltk.corpus.gutenberg.fileids( ))\r\n",
        "print(\"\\n\")\r\n",
        "file8 = nltk.corpus.gutenberg.fileids( ) [8]\r\n",
        "print(\"BOOK:\"+file8+\"\\n\")\r\n",
        "emmatext = nltk.corpus.gutenberg.raw(file8)\r\n",
        "emmatokens = nltk.word_tokenize(emmatext) \r\n",
        "emmawords = [w.lower( ) for w in emmatokens]\r\n",
        "# show the number of words and print the first 110 words\r\n",
        "print(\"Number of words:\"+str(len(emmawords))+\"\\n\")\r\n",
        "print(\"The first 100 words \\n\")\r\n",
        "print(emmawords[ :110])\r\n"
      ],
      "execution_count": null,
      "outputs": [
        {
          "output_type": "stream",
          "text": [
            "List of books\n",
            "\n",
            "['austen-emma.txt', 'austen-persuasion.txt', 'austen-sense.txt', 'bible-kjv.txt', 'blake-poems.txt', 'bryant-stories.txt', 'burgess-busterbrown.txt', 'carroll-alice.txt', 'chesterton-ball.txt', 'chesterton-brown.txt', 'chesterton-thursday.txt', 'edgeworth-parents.txt', 'melville-moby_dick.txt', 'milton-paradise.txt', 'shakespeare-caesar.txt', 'shakespeare-hamlet.txt', 'shakespeare-macbeth.txt', 'whitman-leaves.txt']\n",
            "\n",
            "\n",
            "BOOK:chesterton-ball.txt\n",
            "\n",
            "Number of words:97203\n",
            "\n",
            "The first 100 words \n",
            "\n",
            "['[', 'the', 'ball', 'and', 'the', 'cross', 'by', 'g.k.', 'chesterton', '1909', ']', 'i', '.', 'a', 'discussion', 'somewhat', 'in', 'the', 'air', 'the', 'flying', 'ship', 'of', 'professor', 'lucifer', 'sang', 'through', 'the', 'skies', 'like', 'a', 'silver', 'arrow', ';', 'the', 'bleak', 'white', 'steel', 'of', 'it', ',', 'gleaming', 'in', 'the', 'bleak', 'blue', 'emptiness', 'of', 'the', 'evening', '.', 'that', 'it', 'was', 'far', 'above', 'the', 'earth', 'was', 'no', 'expression', 'for', 'it', ';', 'to', 'the', 'two', 'men', 'in', 'it', ',', 'it', 'seemed', 'to', 'be', 'far', 'above', 'the', 'stars', '.', 'the', 'professor', 'had', 'himself', 'invented', 'the', 'flying', 'machine', ',', 'and', 'had', 'also', 'invented', 'nearly', 'everything', 'in', 'it', '.', 'every', 'sort', 'of', 'tool', 'or', 'apparatus', 'had', ',', 'in', 'consequence', ',', 'to']\n"
          ],
          "name": "stdout"
        }
      ]
    },
    {
      "cell_type": "code",
      "metadata": {
        "colab": {
          "base_uri": "https://localhost:8080/"
        },
        "id": "x-oKOP99Za73",
        "outputId": "f45ce8a2-575d-4f77-c954-fa65d9d77a90"
      },
      "source": [
        "ndist = FreqDist(emmawords)\r\n",
        "nitems = ndist.most_common(50)\r\n",
        "for item in nitems:\r\n",
        "    print (item[0], '\\t', item[1])\r\n"
      ],
      "execution_count": null,
      "outputs": [
        {
          "output_type": "stream",
          "text": [
            ", \t 5223\n",
            "the \t 4960\n",
            ". \t 3997\n",
            "and \t 2663\n",
            "of \t 2554\n",
            "a \t 2257\n",
            "'' \t 1881\n",
            "`` \t 1610\n",
            "to \t 1580\n",
            "in \t 1403\n",
            "he \t 1326\n",
            "that \t 1167\n",
            "it \t 1136\n",
            "you \t 1066\n",
            "i \t 998\n",
            "was \t 929\n",
            "his \t 920\n",
            "with \t 815\n",
            "is \t 727\n",
            "as \t 692\n",
            "said \t 652\n",
            "; \t 637\n",
            "but \t 559\n",
            "had \t 556\n",
            "turnbull \t 544\n",
            "not \t 518\n",
            "at \t 463\n",
            "they \t 455\n",
            "on \t 452\n",
            "for \t 451\n",
            "macian \t 425\n",
            "be \t 408\n",
            "? \t 407\n",
            "or \t 399\n",
            "all \t 387\n",
            "have \t 385\n",
            "-- \t 379\n",
            "this \t 370\n",
            "him \t 339\n",
            "man \t 336\n",
            "we \t 336\n",
            "if \t 336\n",
            "are \t 333\n",
            "like \t 326\n",
            "which \t 325\n",
            "were \t 317\n",
            "an \t 316\n",
            "one \t 316\n",
            "up \t 294\n",
            "by \t 292\n"
          ],
          "name": "stdout"
        }
      ]
    },
    {
      "cell_type": "code",
      "metadata": {
        "colab": {
          "base_uri": "https://localhost:8080/"
        },
        "id": "PiUcROAlPA0f",
        "outputId": "dee9a6f6-da96-44b7-bf8e-8f7f4b33b55b"
      },
      "source": [
        "numwords = len(emmawords)\r\n",
        "topkeysnormalized = [(word, freq / numwords) for (word, freq) in nitems]\r\n",
        "for pair in topkeysnormalized:\r\n",
        "          print(pair)"
      ],
      "execution_count": null,
      "outputs": [
        {
          "output_type": "stream",
          "text": [
            "(',', 0.053732909478102525)\n",
            "('the', 0.051027231669804426)\n",
            "('.', 0.04112013003713877)\n",
            "('and', 0.027396273777558305)\n",
            "('of', 0.026274909210621072)\n",
            "('a', 0.02321944795942512)\n",
            "(\"''\", 0.01935125459090769)\n",
            "('``', 0.01656327479604539)\n",
            "('to', 0.016254642346429638)\n",
            "('in', 0.014433710893696697)\n",
            "('he', 0.013641554273016264)\n",
            "('that', 0.012005802290052776)\n",
            "('it', 0.0116868820921165)\n",
            "('you', 0.010966739709679742)\n",
            "('i', 0.010267172823884037)\n",
            "('was', 0.009557318189767806)\n",
            "('his', 0.00946472845488308)\n",
            "('with', 0.008384514881227946)\n",
            "('is', 0.0074791930290217384)\n",
            "('as', 0.00711912183780336)\n",
            "('said', 0.006707611904982357)\n",
            "(';', 0.00655329568017448)\n",
            "('but', 0.005750851311173523)\n",
            "('had', 0.005719988066211948)\n",
            "('turnbull', 0.005596535086365647)\n",
            "('not', 0.005329053630031995)\n",
            "('at', 0.004763227472403115)\n",
            "('they', 0.004680925485838914)\n",
            "('on', 0.004650062240877339)\n",
            "('for', 0.004639774492556814)\n",
            "('macian', 0.004372293036223162)\n",
            "('be', 0.004197401314774235)\n",
            "('?', 0.0041871135664537104)\n",
            "('or', 0.0041048115798895096)\n",
            "('all', 0.003981358600043209)\n",
            "('have', 0.003960783103402158)\n",
            "('--', 0.0038990566134790077)\n",
            "('this', 0.003806466878594282)\n",
            "('him', 0.0034875466806580046)\n",
            "('man', 0.003456683435696429)\n",
            "('we', 0.003456683435696429)\n",
            "('if', 0.003456683435696429)\n",
            "('are', 0.0034258201907348537)\n",
            "('like', 0.0033538059524911784)\n",
            "('which', 0.0033435182041706532)\n",
            "('were', 0.0032612162176064523)\n",
            "('an', 0.0032509284692859275)\n",
            "('one', 0.0032509284692859275)\n",
            "('up', 0.0030245980062343753)\n",
            "('by', 0.0030040225095933253)\n"
          ],
          "name": "stdout"
        }
      ]
    },
    {
      "cell_type": "code",
      "metadata": {
        "id": "eIKQhRBiZhzA"
      },
      "source": [
        "emmawords2 = nltk.corpus.gutenberg.words('chesterton-ball.txt')\r\n",
        "emmawords2lowercase = [w.lower() for w in emmawords2]\r\n"
      ],
      "execution_count": null,
      "outputs": []
    },
    {
      "cell_type": "code",
      "metadata": {
        "colab": {
          "base_uri": "https://localhost:8080/"
        },
        "id": "yh1BCV2qZne3",
        "outputId": "149c3ce5-20dd-4943-caa4-e647fb9ffdc1"
      },
      "source": [
        "len(emmawords)\r\n",
        "len(emmawords2lowercase)\r\n"
      ],
      "execution_count": null,
      "outputs": [
        {
          "output_type": "execute_result",
          "data": {
            "text/plain": [
              "96996"
            ]
          },
          "metadata": {
            "tags": []
          },
          "execution_count": 6
        }
      ]
    },
    {
      "cell_type": "code",
      "metadata": {
        "colab": {
          "base_uri": "https://localhost:8080/"
        },
        "id": "UMVnuAAdZqYZ",
        "outputId": "4c6907a0-e7b3-4cab-ee7e-af1518ec9771"
      },
      "source": [
        "print(emmawords[:160])\r\n",
        "print(emmawords2lowercase[:160])\r\n"
      ],
      "execution_count": null,
      "outputs": [
        {
          "output_type": "stream",
          "text": [
            "['[', 'the', 'ball', 'and', 'the', 'cross', 'by', 'g.k.', 'chesterton', '1909', ']', 'i', '.', 'a', 'discussion', 'somewhat', 'in', 'the', 'air', 'the', 'flying', 'ship', 'of', 'professor', 'lucifer', 'sang', 'through', 'the', 'skies', 'like', 'a', 'silver', 'arrow', ';', 'the', 'bleak', 'white', 'steel', 'of', 'it', ',', 'gleaming', 'in', 'the', 'bleak', 'blue', 'emptiness', 'of', 'the', 'evening', '.', 'that', 'it', 'was', 'far', 'above', 'the', 'earth', 'was', 'no', 'expression', 'for', 'it', ';', 'to', 'the', 'two', 'men', 'in', 'it', ',', 'it', 'seemed', 'to', 'be', 'far', 'above', 'the', 'stars', '.', 'the', 'professor', 'had', 'himself', 'invented', 'the', 'flying', 'machine', ',', 'and', 'had', 'also', 'invented', 'nearly', 'everything', 'in', 'it', '.', 'every', 'sort', 'of', 'tool', 'or', 'apparatus', 'had', ',', 'in', 'consequence', ',', 'to', 'the', 'full', ',', 'that', 'fantastic', 'and', 'distorted', 'look', 'which', 'belongs', 'to', 'the', 'miracles', 'of', 'science', '.', 'for', 'the', 'world', 'of', 'science', 'and', 'evolution', 'is', 'far', 'more', 'nameless', 'and', 'elusive', 'and', 'like', 'a', 'dream', 'than', 'the', 'world', 'of', 'poetry', 'and', 'religion', ';', 'since', 'in', 'the', 'latter', 'images', 'and', 'ideas', 'remain', 'themselves']\n",
            "['[', 'the', 'ball', 'and', 'the', 'cross', 'by', 'g', '.', 'k', '.', 'chesterton', '1909', ']', 'i', '.', 'a', 'discussion', 'somewhat', 'in', 'the', 'air', 'the', 'flying', 'ship', 'of', 'professor', 'lucifer', 'sang', 'through', 'the', 'skies', 'like', 'a', 'silver', 'arrow', ';', 'the', 'bleak', 'white', 'steel', 'of', 'it', ',', 'gleaming', 'in', 'the', 'bleak', 'blue', 'emptiness', 'of', 'the', 'evening', '.', 'that', 'it', 'was', 'far', 'above', 'the', 'earth', 'was', 'no', 'expression', 'for', 'it', ';', 'to', 'the', 'two', 'men', 'in', 'it', ',', 'it', 'seemed', 'to', 'be', 'far', 'above', 'the', 'stars', '.', 'the', 'professor', 'had', 'himself', 'invented', 'the', 'flying', 'machine', ',', 'and', 'had', 'also', 'invented', 'nearly', 'everything', 'in', 'it', '.', 'every', 'sort', 'of', 'tool', 'or', 'apparatus', 'had', ',', 'in', 'consequence', ',', 'to', 'the', 'full', ',', 'that', 'fantastic', 'and', 'distorted', 'look', 'which', 'belongs', 'to', 'the', 'miracles', 'of', 'science', '.', 'for', 'the', 'world', 'of', 'science', 'and', 'evolution', 'is', 'far', 'more', 'nameless', 'and', 'elusive', 'and', 'like', 'a', 'dream', 'than', 'the', 'world', 'of', 'poetry', 'and', 'religion', ';', 'since', 'in', 'the', 'latter', 'images', 'and']\n"
          ],
          "name": "stdout"
        }
      ]
    },
    {
      "cell_type": "code",
      "metadata": {
        "id": "AeW5o3m3ZsDu"
      },
      "source": [
        "import re\r\n",
        "# this regular expression pattern matches any word that contains all non-alphabetical\r\n",
        "#   lower-case characters [^a-z]+\r\n",
        "# the beginning ^ and ending $ require the match to begin and end on a word boundary \r\n",
        "pattern = re.compile('^[^a-z]+$')\r\n"
      ],
      "execution_count": null,
      "outputs": []
    },
    {
      "cell_type": "code",
      "metadata": {
        "id": "Vp84T-C9ZuIk"
      },
      "source": [
        "def alpha_filter(w):\r\n",
        "  # pattern to match a word of non-alphabetical characters\r\n",
        "    pattern = re.compile('^[^a-z]+$')\r\n",
        "    if (pattern.match(w)):\r\n",
        "        return True\r\n",
        "    else:\r\n",
        "        return False\r\n"
      ],
      "execution_count": null,
      "outputs": []
    },
    {
      "cell_type": "code",
      "metadata": {
        "colab": {
          "base_uri": "https://localhost:8080/"
        },
        "id": "ETePyTamZw7M",
        "outputId": "31a692e5-635c-4348-ad14-f3b9923d4568"
      },
      "source": [
        "alphaemmawords = [w for w in emmawords if not alpha_filter(w)]\r\n",
        "print(len(alphaemmawords))\r\n",
        "print(alphaemmawords[:100])\r\n"
      ],
      "execution_count": null,
      "outputs": [
        {
          "output_type": "stream",
          "text": [
            "82351\n",
            "['the', 'ball', 'and', 'the', 'cross', 'by', 'g.k.', 'chesterton', 'i', 'a', 'discussion', 'somewhat', 'in', 'the', 'air', 'the', 'flying', 'ship', 'of', 'professor', 'lucifer', 'sang', 'through', 'the', 'skies', 'like', 'a', 'silver', 'arrow', 'the', 'bleak', 'white', 'steel', 'of', 'it', 'gleaming', 'in', 'the', 'bleak', 'blue', 'emptiness', 'of', 'the', 'evening', 'that', 'it', 'was', 'far', 'above', 'the', 'earth', 'was', 'no', 'expression', 'for', 'it', 'to', 'the', 'two', 'men', 'in', 'it', 'it', 'seemed', 'to', 'be', 'far', 'above', 'the', 'stars', 'the', 'professor', 'had', 'himself', 'invented', 'the', 'flying', 'machine', 'and', 'had', 'also', 'invented', 'nearly', 'everything', 'in', 'it', 'every', 'sort', 'of', 'tool', 'or', 'apparatus', 'had', 'in', 'consequence', 'to', 'the', 'full', 'that', 'fantastic']\n"
          ],
          "name": "stdout"
        }
      ]
    },
    {
      "cell_type": "code",
      "metadata": {
        "colab": {
          "base_uri": "https://localhost:8080/"
        },
        "id": "61hqPryZPdEf",
        "outputId": "c3894aaf-82f6-4378-8373-c6024393489b"
      },
      "source": [
        "ndist = FreqDist(alphaemmawords)\r\n",
        "nitems = ndist.most_common(50)\r\n",
        "for item in nitems:\r\n",
        "    print (item[0], '\\t', item[1])\r\n"
      ],
      "execution_count": null,
      "outputs": [
        {
          "output_type": "stream",
          "text": [
            "the \t 4960\n",
            "and \t 2663\n",
            "of \t 2554\n",
            "a \t 2257\n",
            "to \t 1580\n",
            "in \t 1403\n",
            "he \t 1326\n",
            "that \t 1167\n",
            "it \t 1136\n",
            "you \t 1066\n",
            "i \t 998\n",
            "was \t 929\n",
            "his \t 920\n",
            "with \t 815\n",
            "is \t 727\n",
            "as \t 692\n",
            "said \t 652\n",
            "but \t 559\n",
            "had \t 556\n",
            "turnbull \t 544\n",
            "not \t 518\n",
            "at \t 463\n",
            "they \t 455\n",
            "on \t 452\n",
            "for \t 451\n",
            "macian \t 425\n",
            "be \t 408\n",
            "or \t 399\n",
            "all \t 387\n",
            "have \t 385\n",
            "this \t 370\n",
            "him \t 339\n",
            "man \t 336\n",
            "we \t 336\n",
            "if \t 336\n",
            "are \t 333\n",
            "like \t 326\n",
            "which \t 325\n",
            "were \t 317\n",
            "an \t 316\n",
            "one \t 316\n",
            "up \t 294\n",
            "by \t 292\n",
            "'s \t 285\n",
            "do \t 282\n",
            "there \t 280\n",
            "what \t 267\n",
            "out \t 248\n",
            "from \t 246\n",
            "then \t 238\n"
          ],
          "name": "stdout"
        }
      ]
    },
    {
      "cell_type": "code",
      "metadata": {
        "colab": {
          "base_uri": "https://localhost:8080/"
        },
        "id": "WCaj7wWLPoyN",
        "outputId": "6c17c5ca-24e2-4c02-ec44-6b5a64cd5c31"
      },
      "source": [
        "numwords = len(alphaemmawords)\r\n",
        "topkeysnormalized = [(word, freq / numwords) for (word, freq) in nitems]\r\n",
        "for pair in topkeysnormalized:\r\n",
        "          print(pair)"
      ],
      "execution_count": null,
      "outputs": [
        {
          "output_type": "stream",
          "text": [
            "('the', 0.06022999113550534)\n",
            "('and', 0.032337190805211836)\n",
            "('of', 0.03101358817743561)\n",
            "('a', 0.027407074595329747)\n",
            "('to', 0.019186166531068232)\n",
            "('in', 0.017036830153853627)\n",
            "('he', 0.0161018081140484)\n",
            "('that', 0.014171048317567485)\n",
            "('it', 0.013794610872970577)\n",
            "('you', 0.01294459083678401)\n",
            "('i', 0.012118857087345631)\n",
            "('was', 0.011280980194533156)\n",
            "('his', 0.011171691904166312)\n",
            "('with', 0.00989666184988646)\n",
            "('is', 0.008828065232966205)\n",
            "('as', 0.008403055214872923)\n",
            "('said', 0.007917329479909169)\n",
            "('but', 0.006788017146118444)\n",
            "('had', 0.006751587715996162)\n",
            "('turnbull', 0.006605869995507037)\n",
            "('not', 0.006290148267780598)\n",
            "('at', 0.005622275382205438)\n",
            "('they', 0.0055251302352126875)\n",
            "('on', 0.005488700805090406)\n",
            "('for', 0.005476557661716312)\n",
            "('macian', 0.005160835933989872)\n",
            "('be', 0.004954402496630278)\n",
            "('or', 0.004845114206263434)\n",
            "('all', 0.004699396485774308)\n",
            "('have', 0.00467511019902612)\n",
            "('this', 0.004492963048414712)\n",
            "('him', 0.004116525603817804)\n",
            "('man', 0.0040800961736955224)\n",
            "('we', 0.0040800961736955224)\n",
            "('if', 0.0040800961736955224)\n",
            "('are', 0.004043666743573242)\n",
            "('like', 0.003958664739954584)\n",
            "('which', 0.0039465215965804904)\n",
            "('were', 0.00384937644958774)\n",
            "('an', 0.0038372333062136467)\n",
            "('one', 0.0038372333062136467)\n",
            "('up', 0.0035700841519835827)\n",
            "('by', 0.003545797865235395)\n",
            "(\"'s\", 0.003460795861616738)\n",
            "('do', 0.003424366431494457)\n",
            "('there', 0.003400080144746269)\n",
            "('what', 0.003242219280883049)\n",
            "('out', 0.003011499556775267)\n",
            "('from', 0.002987213270027079)\n",
            "('then', 0.002890068123034329)\n"
          ],
          "name": "stdout"
        }
      ]
    },
    {
      "cell_type": "code",
      "metadata": {
        "colab": {
          "base_uri": "https://localhost:8080/"
        },
        "id": "nX2lK0jXZ0O9",
        "outputId": "8a903237-ae28-4136-c226-9bcca81a923f"
      },
      "source": [
        "nltkstopwords = nltk.corpus.stopwords.words('english')\r\n",
        "print(len(nltkstopwords))\r\n",
        "print(nltkstopwords)\r\n"
      ],
      "execution_count": null,
      "outputs": [
        {
          "output_type": "stream",
          "text": [
            "179\n",
            "['i', 'me', 'my', 'myself', 'we', 'our', 'ours', 'ourselves', 'you', \"you're\", \"you've\", \"you'll\", \"you'd\", 'your', 'yours', 'yourself', 'yourselves', 'he', 'him', 'his', 'himself', 'she', \"she's\", 'her', 'hers', 'herself', 'it', \"it's\", 'its', 'itself', 'they', 'them', 'their', 'theirs', 'themselves', 'what', 'which', 'who', 'whom', 'this', 'that', \"that'll\", 'these', 'those', 'am', 'is', 'are', 'was', 'were', 'be', 'been', 'being', 'have', 'has', 'had', 'having', 'do', 'does', 'did', 'doing', 'a', 'an', 'the', 'and', 'but', 'if', 'or', 'because', 'as', 'until', 'while', 'of', 'at', 'by', 'for', 'with', 'about', 'against', 'between', 'into', 'through', 'during', 'before', 'after', 'above', 'below', 'to', 'from', 'up', 'down', 'in', 'out', 'on', 'off', 'over', 'under', 'again', 'further', 'then', 'once', 'here', 'there', 'when', 'where', 'why', 'how', 'all', 'any', 'both', 'each', 'few', 'more', 'most', 'other', 'some', 'such', 'no', 'nor', 'not', 'only', 'own', 'same', 'so', 'than', 'too', 'very', 's', 't', 'can', 'will', 'just', 'don', \"don't\", 'should', \"should've\", 'now', 'd', 'll', 'm', 'o', 're', 've', 'y', 'ain', 'aren', \"aren't\", 'couldn', \"couldn't\", 'didn', \"didn't\", 'doesn', \"doesn't\", 'hadn', \"hadn't\", 'hasn', \"hasn't\", 'haven', \"haven't\", 'isn', \"isn't\", 'ma', 'mightn', \"mightn't\", 'mustn', \"mustn't\", 'needn', \"needn't\", 'shan', \"shan't\", 'shouldn', \"shouldn't\", 'wasn', \"wasn't\", 'weren', \"weren't\", 'won', \"won't\", 'wouldn', \"wouldn't\"]\n"
          ],
          "name": "stdout"
        }
      ]
    },
    {
      "cell_type": "code",
      "metadata": {
        "id": "XLJv0dYeZ4__"
      },
      "source": [
        "morestopwords = ['could','would','might','must','need','sha','wo','y',\"'s\",\"'d\",\"'ll\",\"'t\",\"'m\",\"'re\",\"'ve\"]"
      ],
      "execution_count": null,
      "outputs": []
    },
    {
      "cell_type": "code",
      "metadata": {
        "colab": {
          "base_uri": "https://localhost:8080/"
        },
        "id": "9WyDXFfEZ6ve",
        "outputId": "914e0f58-e9c4-413d-80a2-1b8c5db53e65"
      },
      "source": [
        "stopwords = nltkstopwords + morestopwords\r\n",
        "print(len(stopwords))\r\n",
        "print(stopwords)\r\n"
      ],
      "execution_count": null,
      "outputs": [
        {
          "output_type": "stream",
          "text": [
            "194\n",
            "['i', 'me', 'my', 'myself', 'we', 'our', 'ours', 'ourselves', 'you', \"you're\", \"you've\", \"you'll\", \"you'd\", 'your', 'yours', 'yourself', 'yourselves', 'he', 'him', 'his', 'himself', 'she', \"she's\", 'her', 'hers', 'herself', 'it', \"it's\", 'its', 'itself', 'they', 'them', 'their', 'theirs', 'themselves', 'what', 'which', 'who', 'whom', 'this', 'that', \"that'll\", 'these', 'those', 'am', 'is', 'are', 'was', 'were', 'be', 'been', 'being', 'have', 'has', 'had', 'having', 'do', 'does', 'did', 'doing', 'a', 'an', 'the', 'and', 'but', 'if', 'or', 'because', 'as', 'until', 'while', 'of', 'at', 'by', 'for', 'with', 'about', 'against', 'between', 'into', 'through', 'during', 'before', 'after', 'above', 'below', 'to', 'from', 'up', 'down', 'in', 'out', 'on', 'off', 'over', 'under', 'again', 'further', 'then', 'once', 'here', 'there', 'when', 'where', 'why', 'how', 'all', 'any', 'both', 'each', 'few', 'more', 'most', 'other', 'some', 'such', 'no', 'nor', 'not', 'only', 'own', 'same', 'so', 'than', 'too', 'very', 's', 't', 'can', 'will', 'just', 'don', \"don't\", 'should', \"should've\", 'now', 'd', 'll', 'm', 'o', 're', 've', 'y', 'ain', 'aren', \"aren't\", 'couldn', \"couldn't\", 'didn', \"didn't\", 'doesn', \"doesn't\", 'hadn', \"hadn't\", 'hasn', \"hasn't\", 'haven', \"haven't\", 'isn', \"isn't\", 'ma', 'mightn', \"mightn't\", 'mustn', \"mustn't\", 'needn', \"needn't\", 'shan', \"shan't\", 'shouldn', \"shouldn't\", 'wasn', \"wasn't\", 'weren', \"weren't\", 'won', \"won't\", 'wouldn', \"wouldn't\", 'could', 'would', 'might', 'must', 'need', 'sha', 'wo', 'y', \"'s\", \"'d\", \"'ll\", \"'t\", \"'m\", \"'re\", \"'ve\"]\n"
          ],
          "name": "stdout"
        }
      ]
    },
    {
      "cell_type": "code",
      "metadata": {
        "colab": {
          "base_uri": "https://localhost:8080/"
        },
        "id": "6Fx6zt_9Z8iL",
        "outputId": "998e0f0c-c1b6-4871-ca96-1922752337a9"
      },
      "source": [
        "stoppedemmawords = [w for w in alphaemmawords if not w in stopwords]\r\n",
        "print(len(stoppedemmawords))\r\n"
      ],
      "execution_count": null,
      "outputs": [
        {
          "output_type": "stream",
          "text": [
            "39210\n"
          ],
          "name": "stdout"
        }
      ]
    },
    {
      "cell_type": "code",
      "metadata": {
        "colab": {
          "base_uri": "https://localhost:8080/"
        },
        "id": "ank4Yd6XZ-aL",
        "outputId": "9747dd2b-6c23-45f7-9366-cd2b9598e064"
      },
      "source": [
        "emmadist = FreqDist(stoppedemmawords)\r\n",
        "emmaitems = emmadist.most_common(50)\r\n",
        "for item in emmaitems:\r\n",
        "  print(item)\r\n"
      ],
      "execution_count": null,
      "outputs": [
        {
          "output_type": "stream",
          "text": [
            "('said', 652)\n",
            "('turnbull', 544)\n",
            "('macian', 425)\n",
            "('man', 336)\n",
            "('like', 326)\n",
            "('one', 316)\n",
            "(\"n't\", 178)\n",
            "('two', 177)\n",
            "('us', 162)\n",
            "('quite', 144)\n",
            "('even', 140)\n",
            "('evan', 140)\n",
            "('know', 139)\n",
            "('god', 136)\n",
            "('face', 134)\n",
            "('little', 129)\n",
            "('say', 127)\n",
            "('seemed', 121)\n",
            "('see', 119)\n",
            "('really', 116)\n",
            "('thing', 113)\n",
            "('world', 112)\n",
            "('something', 112)\n",
            "('still', 105)\n",
            "('looked', 104)\n",
            "('come', 104)\n",
            "('made', 103)\n",
            "('men', 102)\n",
            "('voice', 102)\n",
            "('long', 100)\n",
            "('well', 98)\n",
            "('cried', 97)\n",
            "('may', 97)\n",
            "('upon', 95)\n",
            "('went', 95)\n",
            "('back', 94)\n",
            "('almost', 94)\n",
            "('think', 94)\n",
            "('old', 92)\n",
            "('saw', 92)\n",
            "('head', 91)\n",
            "('came', 90)\n",
            "('time', 87)\n",
            "('eyes', 87)\n",
            "('garden', 86)\n",
            "('first', 86)\n",
            "('mr.', 85)\n",
            "('last', 82)\n",
            "('mean', 82)\n",
            "('sort', 81)\n"
          ],
          "name": "stdout"
        }
      ]
    },
    {
      "cell_type": "code",
      "metadata": {
        "colab": {
          "base_uri": "https://localhost:8080/"
        },
        "id": "03mAlPxCaBDs",
        "outputId": "bc0bc3b0-aab7-4090-a336-2edaa0a55b76"
      },
      "source": [
        "numwords = len(alphaemmawords)\r\n",
        "topkeysnormalized = [(word, freq / numwords) for (word, freq) in emmaitems]\r\n",
        "for pair in topkeysnormalized:\r\n",
        "          print(pair)"
      ],
      "execution_count": null,
      "outputs": [
        {
          "output_type": "stream",
          "text": [
            "('said', 0.007917329479909169)\n",
            "('turnbull', 0.006605869995507037)\n",
            "('macian', 0.005160835933989872)\n",
            "('man', 0.0040800961736955224)\n",
            "('like', 0.003958664739954584)\n",
            "('one', 0.0038372333062136467)\n",
            "(\"n't\", 0.0021614795205886998)\n",
            "('two', 0.002149336377214606)\n",
            "('us', 0.0019671892266031987)\n",
            "('quite', 0.0017486126458695099)\n",
            "('even', 0.0017000400723731345)\n",
            "('evan', 0.0017000400723731345)\n",
            "('know', 0.0016878969289990406)\n",
            "('god', 0.0016514674988767593)\n",
            "('face', 0.0016271812121285715)\n",
            "('little', 0.0015664654952581025)\n",
            "('say', 0.001542179208509915)\n",
            "('seemed', 0.001469320348265352)\n",
            "('see', 0.0014450340615171644)\n",
            "('really', 0.001408604631394883)\n",
            "('thing', 0.0013721752012726015)\n",
            "('world', 0.0013600320578985076)\n",
            "('something', 0.0013600320578985076)\n",
            "('still', 0.001275030054279851)\n",
            "('looked', 0.001262886910905757)\n",
            "('come', 0.001262886910905757)\n",
            "('made', 0.0012507437675316633)\n",
            "('men', 0.0012386006241575695)\n",
            "('voice', 0.0012386006241575695)\n",
            "('long', 0.0012143143374093819)\n",
            "('well', 0.001190028050661194)\n",
            "('cried', 0.0011778849072871004)\n",
            "('may', 0.0011778849072871004)\n",
            "('upon', 0.0011535986205389126)\n",
            "('went', 0.0011535986205389126)\n",
            "('back', 0.001141455477164819)\n",
            "('almost', 0.001141455477164819)\n",
            "('think', 0.001141455477164819)\n",
            "('old', 0.0011171691904166314)\n",
            "('saw', 0.0011171691904166314)\n",
            "('head', 0.0011050260470425375)\n",
            "('came', 0.0010928829036684436)\n",
            "('time', 0.001056453473546162)\n",
            "('eyes', 0.001056453473546162)\n",
            "('garden', 0.0010443103301720684)\n",
            "('first', 0.0010443103301720684)\n",
            "('mr.', 0.0010321671867979745)\n",
            "('last', 0.000995737756675693)\n",
            "('mean', 0.000995737756675693)\n",
            "('sort', 0.0009835946133015994)\n"
          ],
          "name": "stdout"
        }
      ]
    },
    {
      "cell_type": "code",
      "metadata": {
        "id": "DmItk4XIaDi1"
      },
      "source": [
        "from nltk.collocations import *"
      ],
      "execution_count": null,
      "outputs": []
    },
    {
      "cell_type": "code",
      "metadata": {
        "id": "5n2eeDBeaGUy"
      },
      "source": [
        "bigram_measures = nltk.collocations.BigramAssocMeasures()"
      ],
      "execution_count": null,
      "outputs": []
    },
    {
      "cell_type": "code",
      "metadata": {
        "id": "oPyfhXikaHvv"
      },
      "source": [
        "finder = BigramCollocationFinder.from_words(emmawords)\r\n",
        "scored = finder.score_ngrams(bigram_measures.raw_freq)\r\n"
      ],
      "execution_count": null,
      "outputs": []
    },
    {
      "cell_type": "code",
      "metadata": {
        "colab": {
          "base_uri": "https://localhost:8080/"
        },
        "id": "ab3GDN-waJ1D",
        "outputId": "713fdee8-679b-4b29-cdde-2a3ae4f1a89f"
      },
      "source": [
        "print(type(scored))\r\n",
        "first = scored[0]\r\n",
        "print(type(first), first)\r\n"
      ],
      "execution_count": null,
      "outputs": [
        {
          "output_type": "stream",
          "text": [
            "<class 'list'>\n",
            "<class 'tuple'> (('.', '``'), 0.007746674485355391)\n"
          ],
          "name": "stdout"
        }
      ]
    },
    {
      "cell_type": "code",
      "metadata": {
        "colab": {
          "base_uri": "https://localhost:8080/"
        },
        "id": "tz0Vkz20aLw3",
        "outputId": "a87eef9f-49f7-4be1-e588-1d438e05c915"
      },
      "source": [
        "for bscore in scored[:50]:\r\n",
        "    print (bscore)"
      ],
      "execution_count": null,
      "outputs": [
        {
          "output_type": "stream",
          "text": [
            "(('.', '``'), 0.007746674485355391)\n",
            "((',', \"''\"), 0.007016244354598109)\n",
            "((',', 'and'), 0.0063681162104050285)\n",
            "(('of', 'the'), 0.0063269652171229285)\n",
            "(('.', \"''\"), 0.005647973827968273)\n",
            "(('in', 'the'), 0.004135674824851085)\n",
            "((\"''\", 'said'), 0.003981358600043209)\n",
            "((\"''\", '``'), 0.003806466878594282)\n",
            "(('?', \"''\"), 0.0030040225095933253)\n",
            "(('.', 'the'), 0.0029320082713496496)\n",
            "((',', '``'), 0.002859994033105974)\n",
            "(('``', 'i'), 0.0025102105902081212)\n",
            "(('.', 'he'), 0.0024073331070028703)\n",
            "(('with', 'a'), 0.002294167875477094)\n",
            "((\"''\", 'he'), 0.002108988405707643)\n",
            "(('and', 'the'), 0.0019958231741818667)\n",
            "(('turnbull', ','), 0.0019958231741818667)\n",
            "(('it', 'was'), 0.0019649599292202915)\n",
            "(('in', 'a'), 0.0019546721808997663)\n",
            "(('it', 'is'), 0.0018415069493739906)\n",
            "(('.', 'but'), 0.0018209314527329404)\n",
            "(('to', 'the'), 0.0018209314527329404)\n",
            "((',', 'the'), 0.0017180539695276895)\n",
            "((',', 'but'), 0.0016871907245661142)\n",
            "((',', 'with'), 0.0016357519829634888)\n",
            "(('of', 'a'), 0.0016254642346429638)\n",
            "(('he', 'said'), 0.0015328744997582379)\n",
            "(('macian', ','), 0.0015225867514377129)\n",
            "(('he', 'had'), 0.0015020112547966626)\n",
            "(('he', 'was'), 0.0014917235064761376)\n",
            "(('.', 'it'), 0.0014505725131940372)\n",
            "(('with', 'the'), 0.001419709268232462)\n",
            "(('!', \"''\"), 0.0013991337715914117)\n",
            "(('.', 'i'), 0.0013682705266298365)\n",
            "(('at', 'the'), 0.0013682705266298365)\n",
            "(('on', 'the'), 0.0012962562883861608)\n",
            "(('the', 'other'), 0.0012859685400656358)\n",
            "(('to', 'be'), 0.0012859685400656358)\n",
            "((',', 'as'), 0.0012756807917451108)\n",
            "(('i', 'am'), 0.0012756807917451108)\n",
            "(('like', 'a'), 0.0012551052951040606)\n",
            "(('said', 'turnbull'), 0.0012345297984630104)\n",
            "(('said', 'the'), 0.0012242420501424854)\n",
            "((';', 'and'), 0.0012139543018219602)\n",
            "((',', 'i'), 0.0011419400635782847)\n",
            "(('all', 'the'), 0.0011007890702961843)\n",
            "((',', 'in'), 0.0010905013219756593)\n",
            "((':', '``'), 0.0010390625803730338)\n",
            "(('said', ','), 0.0010287748320525086)\n",
            "(('of', 'his'), 0.0010184870837319836)\n"
          ],
          "name": "stdout"
        }
      ]
    },
    {
      "cell_type": "code",
      "metadata": {
        "colab": {
          "base_uri": "https://localhost:8080/"
        },
        "id": "KHXyjgc2vMlX",
        "outputId": "da7a8344-7079-4e85-d2e5-135fd5884021"
      },
      "source": [
        "finder = BigramCollocationFinder.from_words(emmawords)\r\n",
        "scored = finder.score_ngrams(bigram_measures.pmi)\r\n",
        "for bscore in scored[:50]:\r\n",
        "    print (bscore)"
      ],
      "execution_count": null,
      "outputs": [
        {
          "output_type": "stream",
          "text": [
            "((\"'ampstead\", \"'eath\"), 16.568713220318084)\n",
            "(('10', '1991'), 16.568713220318084)\n",
            "(('1000', '1997'), 16.568713220318084)\n",
            "(('10000', '2004'), 16.568713220318084)\n",
            "(('113', '1739'), 16.568713220318084)\n",
            "(('1500', '1998'), 16.568713220318084)\n",
            "(('1739', 'university'), 16.568713220318084)\n",
            "(('1971', 'july'), 16.568713220318084)\n",
            "(('1997', 'august'), 16.568713220318084)\n",
            "(('1998', 'october'), 16.568713220318084)\n",
            "(('2003', 'november*'), 16.568713220318084)\n",
            "(('2004', 'january*'), 16.568713220318084)\n",
            "(('9000', '2003'), 16.568713220318084)\n",
            "(('_altiora', 'peto_'), 16.568713220318084)\n",
            "(('_idee', 'fixe_'), 16.568713220318084)\n",
            "(('_natura', 'naturans_'), 16.568713220318084)\n",
            "(('_vae', 'victis'), 16.568713220318084)\n",
            "(('_virgin', 'martyr_'), 16.568713220318084)\n",
            "(('absent', 'minded'), 16.568713220318084)\n",
            "(('abstractedly', 'boring'), 16.568713220318084)\n",
            "(('accommodated', 'indoors'), 16.568713220318084)\n",
            "(('adult', 'reformatory'), 16.568713220318084)\n",
            "(('adverse', 'theories'), 16.568713220318084)\n",
            "(('albert', 'memorial'), 16.568713220318084)\n",
            "(('angler', 'stares'), 16.568713220318084)\n",
            "(('applaud', 'tyrannicide'), 16.568713220318084)\n",
            "(('applicable', 'taxes'), 16.568713220318084)\n",
            "(('architectural', 'arrangement'), 16.568713220318084)\n",
            "(('assyrian', 'bas-reliefs'), 16.568713220318084)\n",
            "(('astonishing', 'transparency'), 16.568713220318084)\n",
            "(('august', '1500'), 16.568713220318084)\n",
            "(('barren', 'steeps'), 16.568713220318084)\n",
            "(('bearing', 'witness'), 16.568713220318084)\n",
            "(('beetle', 'strayed'), 16.568713220318084)\n",
            "(('ben', 'crowder'), 16.568713220318084)\n",
            "(('bile', 'beans'), 16.568713220318084)\n",
            "(('black-and-white', 'beads'), 16.568713220318084)\n",
            "(('black-haired', 'skull'), 16.568713220318084)\n",
            "(('blackcoated', 'bustle'), 16.568713220318084)\n",
            "(('bllcr10.zip', 'corrected'), 16.568713220318084)\n",
            "(('bllcr11.txt', 'versions'), 16.568713220318084)\n",
            "(('boorish', 'moralities'), 16.568713220318084)\n",
            "(('bourgeois', 'speaks'), 16.568713220318084)\n",
            "(('bulging', 'bravery'), 16.568713220318084)\n",
            "(('californian', 'tourist'), 16.568713220318084)\n",
            "(('captured', 'coach'), 16.568713220318084)\n",
            "(('cardinal', 'manning'), 16.568713220318084)\n",
            "(('carthage', '_was_'), 16.568713220318084)\n",
            "(('chartered', 'lunacies'), 16.568713220318084)\n",
            "(('constables', 'attended'), 16.568713220318084)\n"
          ],
          "name": "stdout"
        }
      ]
    },
    {
      "cell_type": "code",
      "metadata": {
        "colab": {
          "base_uri": "https://localhost:8080/"
        },
        "id": "HX8c8qspaN2A",
        "outputId": "ec96c85e-7483-4542-d59d-113075885f37"
      },
      "source": [
        "finder.apply_word_filter(alpha_filter)\r\n",
        "scored = finder.score_ngrams(bigram_measures.raw_freq)\r\n",
        "for bscore in scored[:50]:\r\n",
        "    print (bscore)\r\n"
      ],
      "execution_count": null,
      "outputs": [
        {
          "output_type": "stream",
          "text": [
            "(('of', 'the'), 0.0063269652171229285)\n",
            "(('in', 'the'), 0.004135674824851085)\n",
            "(('with', 'a'), 0.002294167875477094)\n",
            "(('and', 'the'), 0.0019958231741818667)\n",
            "(('it', 'was'), 0.0019649599292202915)\n",
            "(('in', 'a'), 0.0019546721808997663)\n",
            "(('it', 'is'), 0.0018415069493739906)\n",
            "(('to', 'the'), 0.0018209314527329404)\n",
            "(('of', 'a'), 0.0016254642346429638)\n",
            "(('he', 'said'), 0.0015328744997582379)\n",
            "(('he', 'had'), 0.0015020112547966626)\n",
            "(('he', 'was'), 0.0014917235064761376)\n",
            "(('with', 'the'), 0.001419709268232462)\n",
            "(('at', 'the'), 0.0013682705266298365)\n",
            "(('on', 'the'), 0.0012962562883861608)\n",
            "(('the', 'other'), 0.0012859685400656358)\n",
            "(('to', 'be'), 0.0012859685400656358)\n",
            "(('i', 'am'), 0.0012756807917451108)\n",
            "(('like', 'a'), 0.0012551052951040606)\n",
            "(('said', 'turnbull'), 0.0012345297984630104)\n",
            "(('said', 'the'), 0.0012242420501424854)\n",
            "(('all', 'the'), 0.0011007890702961843)\n",
            "(('of', 'his'), 0.0010184870837319836)\n",
            "(('as', 'if'), 0.0009876238387704084)\n",
            "(('and', 'he'), 0.0009773360904498831)\n",
            "(('is', 'a'), 0.0009361850971677829)\n",
            "(('in', 'his'), 0.0009053218522062077)\n",
            "(('was', 'a'), 0.0009053218522062077)\n",
            "(('a', 'man'), 0.0008847463555651575)\n",
            "(('into', 'the'), 0.0008847463555651575)\n",
            "(('out', 'of'), 0.0008847463555651575)\n",
            "(('you', 'are'), 0.0008847463555651575)\n",
            "(('that', 'the'), 0.0008744586072446323)\n",
            "(('said', 'macian'), 0.0008538831106035822)\n",
            "(('by', 'the'), 0.0008435953622830571)\n",
            "(('do', \"n't\"), 0.0008435953622830571)\n",
            "(('if', 'you'), 0.0008435953622830571)\n",
            "(('i', 'have'), 0.0007715811240393815)\n",
            "(('from', 'the'), 0.0007407178790778062)\n",
            "(('is', 'the'), 0.0007407178790778062)\n",
            "(('the', 'same'), 0.0007407178790778062)\n",
            "(('do', 'you'), 0.0007304301307572812)\n",
            "(('for', 'the'), 0.0007304301307572812)\n",
            "(('the', 'world'), 0.0007304301307572812)\n",
            "(('sort', 'of'), 0.0007201423824367561)\n",
            "(('that', 'he'), 0.0007201423824367561)\n",
            "(('and', 'i'), 0.000709854634116231)\n",
            "(('one', 'of'), 0.000709854634116231)\n",
            "(('the', 'man'), 0.0006995668857957059)\n",
            "(('they', 'had'), 0.0006995668857957059)\n"
          ],
          "name": "stdout"
        }
      ]
    },
    {
      "cell_type": "code",
      "metadata": {
        "colab": {
          "base_uri": "https://localhost:8080/"
        },
        "id": "3FqJQ_7qaRgM",
        "outputId": "71230a5c-b872-421a-e04a-51b77c1b27bb"
      },
      "source": [
        "finder.apply_word_filter(alpha_filter)\r\n",
        "scored = finder.score_ngrams(bigram_measures.pmi)\r\n",
        "for bscore in scored[:50]:\r\n",
        "    print (bscore)\r\n"
      ],
      "execution_count": null,
      "outputs": [
        {
          "output_type": "stream",
          "text": [
            "((\"'ampstead\", \"'eath\"), 16.568713220318084)\n",
            "(('_altiora', 'peto_'), 16.568713220318084)\n",
            "(('_idee', 'fixe_'), 16.568713220318084)\n",
            "(('_natura', 'naturans_'), 16.568713220318084)\n",
            "(('_vae', 'victis'), 16.568713220318084)\n",
            "(('_virgin', 'martyr_'), 16.568713220318084)\n",
            "(('absent', 'minded'), 16.568713220318084)\n",
            "(('abstractedly', 'boring'), 16.568713220318084)\n",
            "(('accommodated', 'indoors'), 16.568713220318084)\n",
            "(('adult', 'reformatory'), 16.568713220318084)\n",
            "(('adverse', 'theories'), 16.568713220318084)\n",
            "(('albert', 'memorial'), 16.568713220318084)\n",
            "(('angler', 'stares'), 16.568713220318084)\n",
            "(('applaud', 'tyrannicide'), 16.568713220318084)\n",
            "(('applicable', 'taxes'), 16.568713220318084)\n",
            "(('architectural', 'arrangement'), 16.568713220318084)\n",
            "(('assyrian', 'bas-reliefs'), 16.568713220318084)\n",
            "(('astonishing', 'transparency'), 16.568713220318084)\n",
            "(('barren', 'steeps'), 16.568713220318084)\n",
            "(('bearing', 'witness'), 16.568713220318084)\n",
            "(('beetle', 'strayed'), 16.568713220318084)\n",
            "(('ben', 'crowder'), 16.568713220318084)\n",
            "(('bile', 'beans'), 16.568713220318084)\n",
            "(('black-and-white', 'beads'), 16.568713220318084)\n",
            "(('black-haired', 'skull'), 16.568713220318084)\n",
            "(('blackcoated', 'bustle'), 16.568713220318084)\n",
            "(('bllcr10.zip', 'corrected'), 16.568713220318084)\n",
            "(('bllcr11.txt', 'versions'), 16.568713220318084)\n",
            "(('boorish', 'moralities'), 16.568713220318084)\n",
            "(('bourgeois', 'speaks'), 16.568713220318084)\n",
            "(('bulging', 'bravery'), 16.568713220318084)\n",
            "(('californian', 'tourist'), 16.568713220318084)\n",
            "(('captured', 'coach'), 16.568713220318084)\n",
            "(('cardinal', 'manning'), 16.568713220318084)\n",
            "(('carthage', '_was_'), 16.568713220318084)\n",
            "(('chartered', 'lunacies'), 16.568713220318084)\n",
            "(('constables', 'attended'), 16.568713220318084)\n",
            "(('continual', 'tournament'), 16.568713220318084)\n",
            "(('contributing', 'scanning'), 16.568713220318084)\n",
            "(('conversational', 'substitute'), 16.568713220318084)\n",
            "(('corrupt', 'data'), 16.568713220318084)\n",
            "(('cotton', 'wool'), 16.568713220318084)\n",
            "(('cyclopean', 'sea-beast'), 16.568713220318084)\n",
            "(('daggers', 'glinted'), 16.568713220318084)\n",
            "(('deafening', 'density'), 16.568713220318084)\n",
            "(('deathly', 'germs'), 16.568713220318084)\n",
            "(('deepest', 'rabbit-holes'), 16.568713220318084)\n",
            "(('degradedly', 'diving'), 16.568713220318084)\n",
            "((\"devil's\", 'magnifying'), 16.568713220318084)\n",
            "(('devilish', 'piston'), 16.568713220318084)\n"
          ],
          "name": "stdout"
        }
      ]
    },
    {
      "cell_type": "code",
      "metadata": {
        "colab": {
          "base_uri": "https://localhost:8080/"
        },
        "id": "OmRLT2lfaTW4",
        "outputId": "e0e37721-7567-4c3a-f3ad-eebd13a0744a"
      },
      "source": [
        "finder.apply_word_filter(lambda w: w in stopwords)\r\n",
        "scored = finder.score_ngrams(bigram_measures.raw_freq)\r\n",
        "for bscore in scored[:50]:\r\n",
        "    print (bscore)\r\n"
      ],
      "execution_count": null,
      "outputs": [
        {
          "output_type": "stream",
          "text": [
            "(('said', 'turnbull'), 0.0012345297984630104)\n",
            "(('said', 'macian'), 0.0008538831106035822)\n",
            "(('ca', \"n't\"), 0.00029834470129522754)\n",
            "(('said', 'evan'), 0.00028805695297470243)\n",
            "(('let', 'us'), 0.0002469059596926021)\n",
            "(('project', 'gutenberg'), 0.00022633046305155192)\n",
            "(('asked', 'turnbull'), 0.0002160427147310268)\n",
            "(('mr.', 'turnbull'), 0.0002160427147310268)\n",
            "(('like', 'one'), 0.00019546721808997664)\n",
            "(('evan', 'macian'), 0.00018517946976945155)\n",
            "(('mr.', 'macian'), 0.00018517946976945155)\n",
            "(('old', 'man'), 0.00018517946976945155)\n",
            "(('cried', 'turnbull'), 0.00017489172144892647)\n",
            "(('first', 'time'), 0.00017489172144892647)\n",
            "(('young', 'man'), 0.00017489172144892647)\n",
            "(('flying', 'ship'), 0.00016460397312840138)\n",
            "(('james', 'turnbull'), 0.0001543162248078763)\n",
            "(('mr.', 'wilkinson'), 0.0001543162248078763)\n",
            "(('_the', 'atheist_'), 0.00014402847648735121)\n",
            "(('little', 'man'), 0.00014402847648735121)\n",
            "(('cumberland', 'vane'), 0.00012345297984630104)\n",
            "(('dr.', 'quayle'), 0.00012345297984630104)\n",
            "(('answered', 'turnbull'), 0.00011316523152577596)\n",
            "(('blue', 'eyes'), 0.00011316523152577596)\n",
            "(('looked', 'like'), 0.00011316523152577596)\n",
            "(('modern', 'world'), 0.00011316523152577596)\n",
            "(('turnbull', 'said'), 0.00011316523152577596)\n",
            "(('answered', 'macian'), 0.00010287748320525086)\n",
            "(('asked', 'macian'), 0.00010287748320525086)\n",
            "(('ludgate', 'hill'), 0.00010287748320525086)\n",
            "(('swung', 'round'), 0.00010287748320525086)\n",
            "(('cried', 'macian'), 9.258973488472578e-05)\n",
            "(('every', 'man'), 9.258973488472578e-05)\n",
            "(('fleet', 'street'), 9.258973488472578e-05)\n",
            "(('macian', 'said'), 9.258973488472578e-05)\n",
            "(('repeated', 'turnbull'), 9.258973488472578e-05)\n",
            "(('count', 'gregory'), 8.230198656420069e-05)\n",
            "(('macian', 'looked'), 8.230198656420069e-05)\n",
            "((\"n't\", 'know'), 8.230198656420069e-05)\n",
            "((\"n't\", 'want'), 8.230198656420069e-05)\n",
            "(('replied', 'turnbull'), 8.230198656420069e-05)\n",
            "(('small', 'print'), 8.230198656420069e-05)\n",
            "(('ten', 'minutes'), 8.230198656420069e-05)\n",
            "(('turnbull', 'looked'), 8.230198656420069e-05)\n",
            "(('two', 'men'), 8.230198656420069e-05)\n",
            "(('cried', 'evan'), 7.201423824367561e-05)\n",
            "(('madeleine', 'durand'), 7.201423824367561e-05)\n",
            "(('old', 'gentleman'), 7.201423824367561e-05)\n",
            "(('professor', 'lucifer'), 7.201423824367561e-05)\n",
            "(('project', 'gutenberg-tm'), 7.201423824367561e-05)\n"
          ],
          "name": "stdout"
        }
      ]
    },
    {
      "cell_type": "code",
      "metadata": {
        "colab": {
          "base_uri": "https://localhost:8080/"
        },
        "id": "EJ6ZJfRewcsf",
        "outputId": "ce5cc04f-b2f1-4f08-bce8-b3c69e28d082"
      },
      "source": [
        "finder.apply_word_filter(lambda w: w in stopwords)\r\n",
        "scored = finder.score_ngrams(bigram_measures.pmi)\r\n",
        "for bscore in scored[:50]:\r\n",
        "    print (bscore)"
      ],
      "execution_count": null,
      "outputs": [
        {
          "output_type": "stream",
          "text": [
            "((\"'ampstead\", \"'eath\"), 16.568713220318084)\n",
            "(('10', '1991'), 16.568713220318084)\n",
            "(('1000', '1997'), 16.568713220318084)\n",
            "(('10000', '2004'), 16.568713220318084)\n",
            "(('113', '1739'), 16.568713220318084)\n",
            "(('1500', '1998'), 16.568713220318084)\n",
            "(('1739', 'university'), 16.568713220318084)\n",
            "(('1971', 'july'), 16.568713220318084)\n",
            "(('1997', 'august'), 16.568713220318084)\n",
            "(('1998', 'october'), 16.568713220318084)\n",
            "(('2003', 'november*'), 16.568713220318084)\n",
            "(('2004', 'january*'), 16.568713220318084)\n",
            "(('9000', '2003'), 16.568713220318084)\n",
            "(('_altiora', 'peto_'), 16.568713220318084)\n",
            "(('_idee', 'fixe_'), 16.568713220318084)\n",
            "(('_natura', 'naturans_'), 16.568713220318084)\n",
            "(('_vae', 'victis'), 16.568713220318084)\n",
            "(('_virgin', 'martyr_'), 16.568713220318084)\n",
            "(('absent', 'minded'), 16.568713220318084)\n",
            "(('abstractedly', 'boring'), 16.568713220318084)\n",
            "(('accommodated', 'indoors'), 16.568713220318084)\n",
            "(('adult', 'reformatory'), 16.568713220318084)\n",
            "(('adverse', 'theories'), 16.568713220318084)\n",
            "(('albert', 'memorial'), 16.568713220318084)\n",
            "(('angler', 'stares'), 16.568713220318084)\n",
            "(('applaud', 'tyrannicide'), 16.568713220318084)\n",
            "(('applicable', 'taxes'), 16.568713220318084)\n",
            "(('architectural', 'arrangement'), 16.568713220318084)\n",
            "(('assyrian', 'bas-reliefs'), 16.568713220318084)\n",
            "(('astonishing', 'transparency'), 16.568713220318084)\n",
            "(('august', '1500'), 16.568713220318084)\n",
            "(('barren', 'steeps'), 16.568713220318084)\n",
            "(('bearing', 'witness'), 16.568713220318084)\n",
            "(('beetle', 'strayed'), 16.568713220318084)\n",
            "(('ben', 'crowder'), 16.568713220318084)\n",
            "(('bile', 'beans'), 16.568713220318084)\n",
            "(('black-and-white', 'beads'), 16.568713220318084)\n",
            "(('black-haired', 'skull'), 16.568713220318084)\n",
            "(('blackcoated', 'bustle'), 16.568713220318084)\n",
            "(('bllcr10.zip', 'corrected'), 16.568713220318084)\n",
            "(('bllcr11.txt', 'versions'), 16.568713220318084)\n",
            "(('boorish', 'moralities'), 16.568713220318084)\n",
            "(('bourgeois', 'speaks'), 16.568713220318084)\n",
            "(('bulging', 'bravery'), 16.568713220318084)\n",
            "(('californian', 'tourist'), 16.568713220318084)\n",
            "(('captured', 'coach'), 16.568713220318084)\n",
            "(('cardinal', 'manning'), 16.568713220318084)\n",
            "(('carthage', '_was_'), 16.568713220318084)\n",
            "(('chartered', 'lunacies'), 16.568713220318084)\n",
            "(('constables', 'attended'), 16.568713220318084)\n"
          ],
          "name": "stdout"
        }
      ]
    },
    {
      "cell_type": "code",
      "metadata": {
        "colab": {
          "base_uri": "https://localhost:8080/"
        },
        "id": "YUUV_sibab16",
        "outputId": "835a0ae7-e844-4f16-a614-6b120dc21225"
      },
      "source": [
        "finder2 = BigramCollocationFinder.from_words(emmawords)\r\n",
        "finder2.apply_freq_filter(25)\r\n",
        "scored = finder2.score_ngrams(bigram_measures.raw_freq)\r\n",
        "for bscore in scored[:50]:\r\n",
        "    print (bscore)\r\n"
      ],
      "execution_count": null,
      "outputs": [
        {
          "output_type": "stream",
          "text": [
            "(('.', '``'), 0.007746674485355391)\n",
            "((',', \"''\"), 0.007016244354598109)\n",
            "((',', 'and'), 0.0063681162104050285)\n",
            "(('of', 'the'), 0.0063269652171229285)\n",
            "(('.', \"''\"), 0.005647973827968273)\n",
            "(('in', 'the'), 0.004135674824851085)\n",
            "((\"''\", 'said'), 0.003981358600043209)\n",
            "((\"''\", '``'), 0.003806466878594282)\n",
            "(('?', \"''\"), 0.0030040225095933253)\n",
            "(('.', 'the'), 0.0029320082713496496)\n",
            "((',', '``'), 0.002859994033105974)\n",
            "(('``', 'i'), 0.0025102105902081212)\n",
            "(('.', 'he'), 0.0024073331070028703)\n",
            "(('with', 'a'), 0.002294167875477094)\n",
            "((\"''\", 'he'), 0.002108988405707643)\n",
            "(('and', 'the'), 0.0019958231741818667)\n",
            "(('turnbull', ','), 0.0019958231741818667)\n",
            "(('it', 'was'), 0.0019649599292202915)\n",
            "(('in', 'a'), 0.0019546721808997663)\n",
            "(('it', 'is'), 0.0018415069493739906)\n",
            "(('.', 'but'), 0.0018209314527329404)\n",
            "(('to', 'the'), 0.0018209314527329404)\n",
            "((',', 'the'), 0.0017180539695276895)\n",
            "((',', 'but'), 0.0016871907245661142)\n",
            "((',', 'with'), 0.0016357519829634888)\n",
            "(('of', 'a'), 0.0016254642346429638)\n",
            "(('he', 'said'), 0.0015328744997582379)\n",
            "(('macian', ','), 0.0015225867514377129)\n",
            "(('he', 'had'), 0.0015020112547966626)\n",
            "(('he', 'was'), 0.0014917235064761376)\n",
            "(('.', 'it'), 0.0014505725131940372)\n",
            "(('with', 'the'), 0.001419709268232462)\n",
            "(('!', \"''\"), 0.0013991337715914117)\n",
            "(('.', 'i'), 0.0013682705266298365)\n",
            "(('at', 'the'), 0.0013682705266298365)\n",
            "(('on', 'the'), 0.0012962562883861608)\n",
            "(('the', 'other'), 0.0012859685400656358)\n",
            "(('to', 'be'), 0.0012859685400656358)\n",
            "((',', 'as'), 0.0012756807917451108)\n",
            "(('i', 'am'), 0.0012756807917451108)\n",
            "(('like', 'a'), 0.0012551052951040606)\n",
            "(('said', 'turnbull'), 0.0012345297984630104)\n",
            "(('said', 'the'), 0.0012242420501424854)\n",
            "((';', 'and'), 0.0012139543018219602)\n",
            "((',', 'i'), 0.0011419400635782847)\n",
            "(('all', 'the'), 0.0011007890702961843)\n",
            "((',', 'in'), 0.0010905013219756593)\n",
            "((':', '``'), 0.0010390625803730338)\n",
            "(('said', ','), 0.0010287748320525086)\n",
            "(('of', 'his'), 0.0010184870837319836)\n"
          ],
          "name": "stdout"
        }
      ]
    },
    {
      "cell_type": "code",
      "metadata": {
        "colab": {
          "base_uri": "https://localhost:8080/"
        },
        "id": "2FUbrQdbam5p",
        "outputId": "02ba2dd9-4b7d-4609-915c-d192a3f914aa"
      },
      "source": [
        "finder2.apply_ngram_filter(lambda w1, w2: len(w1) < 3)\r\n",
        "scored = finder2.score_ngrams(bigram_measures.raw_freq)\r\n",
        "for bscore in scored[:50]:\r\n",
        "    print (bscore)\r\n"
      ],
      "execution_count": null,
      "outputs": [
        {
          "output_type": "stream",
          "text": [
            "(('with', 'a'), 0.002294167875477094)\n",
            "(('and', 'the'), 0.0019958231741818667)\n",
            "(('turnbull', ','), 0.0019958231741818667)\n",
            "(('macian', ','), 0.0015225867514377129)\n",
            "(('with', 'the'), 0.001419709268232462)\n",
            "(('the', 'other'), 0.0012859685400656358)\n",
            "(('like', 'a'), 0.0012551052951040606)\n",
            "(('said', 'turnbull'), 0.0012345297984630104)\n",
            "(('said', 'the'), 0.0012242420501424854)\n",
            "(('all', 'the'), 0.0011007890702961843)\n",
            "(('said', ','), 0.0010287748320525086)\n",
            "(('and', 'he'), 0.0009773360904498831)\n",
            "(('was', 'a'), 0.0009053218522062077)\n",
            "(('into', 'the'), 0.0008847463555651575)\n",
            "(('out', 'of'), 0.0008847463555651575)\n",
            "(('you', 'are'), 0.0008847463555651575)\n",
            "(('that', 'the'), 0.0008744586072446323)\n",
            "(('said', 'macian'), 0.0008538831106035822)\n",
            "(('from', 'the'), 0.0007407178790778062)\n",
            "(('the', 'same'), 0.0007407178790778062)\n",
            "(('for', 'the'), 0.0007304301307572812)\n",
            "(('the', 'world'), 0.0007304301307572812)\n",
            "(('sort', 'of'), 0.0007201423824367561)\n",
            "(('that', 'he'), 0.0007201423824367561)\n",
            "(('and', 'i'), 0.000709854634116231)\n",
            "(('one', 'of'), 0.000709854634116231)\n",
            "(('the', 'man'), 0.0006995668857957059)\n",
            "(('they', 'had'), 0.0006995668857957059)\n",
            "(('seemed', 'to'), 0.0006892791374751808)\n",
            "(('there', 'is'), 0.0006892791374751808)\n",
            "(('and', 'then'), 0.0006789913891546558)\n",
            "(('did', 'not'), 0.0006789913891546558)\n",
            "(('they', 'were'), 0.0006687036408341306)\n",
            "(('that', 'it'), 0.0006481281441930804)\n",
            "(('and', 'a'), 0.0006172648992315052)\n",
            "(('yes', ','), 0.0006172648992315052)\n",
            "(('had', 'been'), 0.0006069771509109801)\n",
            "(('then', 'he'), 0.0006069771509109801)\n",
            "(('for', 'a'), 0.0005966894025904551)\n",
            "(('there', 'was'), 0.0005966894025904551)\n",
            "(('that', 'you'), 0.00058640165426993)\n",
            "(('well', ','), 0.00058640165426993)\n",
            "(('man', ','), 0.0005761139059494049)\n",
            "(('the', 'two'), 0.0005555384093083546)\n",
            "(('turnbull', '.'), 0.0005452506609878296)\n",
            "(('the', 'whole'), 0.0005349629126673045)\n",
            "(('him', '.'), 0.0005246751643467794)\n",
            "(('that', 'i'), 0.0004938119193852042)\n",
            "(('the', 'first'), 0.00048352417106467907)\n",
            "(('that', 'is'), 0.000473236422744154)\n"
          ],
          "name": "stdout"
        }
      ]
    },
    {
      "cell_type": "code",
      "metadata": {
        "colab": {
          "base_uri": "https://localhost:8080/"
        },
        "id": "7euoQMYKarCv",
        "outputId": "7ca1c56f-b750-4e63-fdcd-86415a78ccfc"
      },
      "source": [
        "finder3 = BigramCollocationFinder.from_words(emmawords)\r\n",
        "scored = finder3.score_ngrams(bigram_measures.pmi)\r\n",
        "for bscore in scored[:50]:\r\n",
        "    print (bscore)\r\n"
      ],
      "execution_count": null,
      "outputs": [
        {
          "output_type": "stream",
          "text": [
            "((\"'ampstead\", \"'eath\"), 16.568713220318084)\n",
            "(('10', '1991'), 16.568713220318084)\n",
            "(('1000', '1997'), 16.568713220318084)\n",
            "(('10000', '2004'), 16.568713220318084)\n",
            "(('113', '1739'), 16.568713220318084)\n",
            "(('1500', '1998'), 16.568713220318084)\n",
            "(('1739', 'university'), 16.568713220318084)\n",
            "(('1971', 'july'), 16.568713220318084)\n",
            "(('1997', 'august'), 16.568713220318084)\n",
            "(('1998', 'october'), 16.568713220318084)\n",
            "(('2003', 'november*'), 16.568713220318084)\n",
            "(('2004', 'january*'), 16.568713220318084)\n",
            "(('9000', '2003'), 16.568713220318084)\n",
            "(('_altiora', 'peto_'), 16.568713220318084)\n",
            "(('_idee', 'fixe_'), 16.568713220318084)\n",
            "(('_natura', 'naturans_'), 16.568713220318084)\n",
            "(('_vae', 'victis'), 16.568713220318084)\n",
            "(('_virgin', 'martyr_'), 16.568713220318084)\n",
            "(('absent', 'minded'), 16.568713220318084)\n",
            "(('abstractedly', 'boring'), 16.568713220318084)\n",
            "(('accommodated', 'indoors'), 16.568713220318084)\n",
            "(('adult', 'reformatory'), 16.568713220318084)\n",
            "(('adverse', 'theories'), 16.568713220318084)\n",
            "(('albert', 'memorial'), 16.568713220318084)\n",
            "(('angler', 'stares'), 16.568713220318084)\n",
            "(('applaud', 'tyrannicide'), 16.568713220318084)\n",
            "(('applicable', 'taxes'), 16.568713220318084)\n",
            "(('architectural', 'arrangement'), 16.568713220318084)\n",
            "(('assyrian', 'bas-reliefs'), 16.568713220318084)\n",
            "(('astonishing', 'transparency'), 16.568713220318084)\n",
            "(('august', '1500'), 16.568713220318084)\n",
            "(('barren', 'steeps'), 16.568713220318084)\n",
            "(('bearing', 'witness'), 16.568713220318084)\n",
            "(('beetle', 'strayed'), 16.568713220318084)\n",
            "(('ben', 'crowder'), 16.568713220318084)\n",
            "(('bile', 'beans'), 16.568713220318084)\n",
            "(('black-and-white', 'beads'), 16.568713220318084)\n",
            "(('black-haired', 'skull'), 16.568713220318084)\n",
            "(('blackcoated', 'bustle'), 16.568713220318084)\n",
            "(('bllcr10.zip', 'corrected'), 16.568713220318084)\n",
            "(('bllcr11.txt', 'versions'), 16.568713220318084)\n",
            "(('boorish', 'moralities'), 16.568713220318084)\n",
            "(('bourgeois', 'speaks'), 16.568713220318084)\n",
            "(('bulging', 'bravery'), 16.568713220318084)\n",
            "(('californian', 'tourist'), 16.568713220318084)\n",
            "(('captured', 'coach'), 16.568713220318084)\n",
            "(('cardinal', 'manning'), 16.568713220318084)\n",
            "(('carthage', '_was_'), 16.568713220318084)\n",
            "(('chartered', 'lunacies'), 16.568713220318084)\n",
            "(('constables', 'attended'), 16.568713220318084)\n"
          ],
          "name": "stdout"
        }
      ]
    },
    {
      "cell_type": "code",
      "metadata": {
        "colab": {
          "base_uri": "https://localhost:8080/"
        },
        "id": "sax_4aFYav15",
        "outputId": "d80f2dd2-27b3-4ef3-ddfa-c224484e4ab7"
      },
      "source": [
        "finder3.apply_freq_filter(5)\r\n",
        "scored = finder3.score_ngrams(bigram_measures.pmi)\r\n",
        "for bscore in scored[:50]:\r\n",
        "    print (bscore)\r\n"
      ],
      "execution_count": null,
      "outputs": [
        {
          "output_type": "stream",
          "text": [
            "(('literary', 'archive'), 13.983750719596927)\n",
            "(('eighteenth', 'century'), 13.568713220318084)\n",
            "(('archive', 'foundation'), 13.398788218875772)\n",
            "(('count', 'gregory'), 12.983750719596928)\n",
            "(('_the', 'atheist_'), 12.568713220318083)\n",
            "(('fleet', 'street'), 12.176395797539325)\n",
            "(('st.', 'paul'), 11.924857030543357)\n",
            "(('public', 'domain'), 11.86827350217699)\n",
            "(('gutenberg', 'literary'), 11.846247195846992)\n",
            "(('dr.', 'quayle'), 11.818285366345318)\n",
            "(('cumberland', 'vane'), 11.809379813123426)\n",
            "(('ludgate', 'hill'), 11.623854774510546)\n",
            "(('project', 'gutenberg'), 11.439430203373117)\n",
            "(('project', 'gutenberg-tm'), 11.439430203373114)\n",
            "(('*', '*'), 11.22886321743346)\n",
            "(('small', 'print'), 11.109281601680788)\n",
            "(('ten', 'minutes'), 11.088932956288986)\n",
            "(('madeleine', 'durand'), 10.732211952600961)\n",
            "(('professor', 'lucifer'), 10.732211952600961)\n",
            "(('dr.', 'hutton'), 10.642713801761861)\n",
            "(('few', 'moments'), 10.475956079398232)\n",
            "(('lunatic', 'asylum'), 10.45323600289815)\n",
            "(('flying', 'ship'), 10.354394099517318)\n",
            "(('difference', 'between'), 10.017966434934841)\n",
            "(('few', 'yards'), 9.954003376202877)\n",
            "(('south', 'sea'), 9.840792765754884)\n",
            "((\"'m\", 'afraid'), 9.772132769854657)\n",
            "(('mr.', 'wilkinson'), 9.74428478490154)\n",
            "(('three', 'sides'), 9.681187949576497)\n",
            "(('great', 'deal'), 9.64271380176186)\n",
            "(('public', 'house'), 9.595255007770577)\n",
            "(('three', 'days'), 9.593725108326156)\n",
            "(('any', 'rate'), 9.472788800319549)\n",
            "(('swung', 'round'), 9.453929773068232)\n",
            "(('good', 'lord'), 9.39878821887577)\n",
            "((\"'m\", 'sure'), 9.33222060193678)\n",
            "(('greater', 'than'), 9.2503963789831)\n",
            "(('ca', \"n't\"), 9.092979789351686)\n",
            "(('wo', \"n't\"), 9.092979789351686)\n",
            "(('young', 'woman'), 9.088124950084223)\n",
            "(('beg', 'your'), 8.968800378130956)\n",
            "(('whole', 'universe'), 8.945615590710155)\n",
            "(('my', 'dear'), 8.84859113631529)\n",
            "(('mr.', 'cumberland'), 8.780810660926653)\n",
            "(('print', '!'), 8.774297353967977)\n",
            "(('your', 'pardon'), 8.705765972297163)\n",
            "(('young', 'lady'), 8.499551195810685)\n",
            "(('mr.', 'james'), 8.496357271457954)\n",
            "(('excuse', 'me'), 8.487324893477428)\n",
            "(('paul', \"'s\"), 8.413895111265978)\n"
          ],
          "name": "stdout"
        }
      ]
    },
    {
      "cell_type": "code",
      "metadata": {
        "id": "mmmnwcQga3dO"
      },
      "source": [
        "trigram_measures = nltk.collocations.TrigramAssocMeasures()"
      ],
      "execution_count": null,
      "outputs": []
    },
    {
      "cell_type": "code",
      "metadata": {
        "id": "ulgJ5wg0P-bI",
        "colab": {
          "base_uri": "https://localhost:8080/"
        },
        "outputId": "098ebe74-c014-43c3-935e-f1b751e4fced"
      },
      "source": [
        "finder = TrigramCollocationFinder.from_words(alphaemmawords)\r\n",
        "scored = finder.score_ngrams(trigram_measures.raw_freq)\r\n",
        "for bscore in scored[:50]:\r\n",
        "    print (bscore)"
      ],
      "execution_count": null,
      "outputs": [
        {
          "output_type": "stream",
          "text": [
            "(('a', 'sort', 'of'), 0.0006071571687046909)\n",
            "(('i', 'do', \"n't\"), 0.000400723731345096)\n",
            "(('out', 'of', 'the'), 0.00037643744459690836)\n",
            "(('that', 'it', 'was'), 0.0003642943012228145)\n",
            "(('of', 'the', 'world'), 0.0003400080144746269)\n",
            "(('one', 'of', 'the'), 0.0003400080144746269)\n",
            "(('it', 'is', 'a'), 0.00030357858435234547)\n",
            "(('it', 'was', 'a'), 0.00030357858435234547)\n",
            "(('a', 'kind', 'of'), 0.0002914354409782516)\n",
            "(('he', 'did', 'not'), 0.00027929229760415784)\n",
            "(('with', 'a', 'sort'), 0.00027929229760415784)\n",
            "(('as', 'if', 'he'), 0.000267149154230064)\n",
            "(('it', 'is', 'not'), 0.000267149154230064)\n",
            "(('i', 'do', 'not'), 0.00025500601085597015)\n",
            "(('do', 'you', 'mean'), 0.00024286286748187636)\n",
            "(('what', 'do', 'you'), 0.00024286286748187636)\n",
            "(('seemed', 'to', 'be'), 0.00023071972410778255)\n",
            "(('the', 'end', 'of'), 0.00023071972410778255)\n",
            "(('he', 'said', 'with'), 0.00021857658073368873)\n",
            "(('said', 'the', 'other'), 0.00021857658073368873)\n",
            "(('there', 'was', 'a'), 0.00021857658073368873)\n",
            "(('for', 'a', 'moment'), 0.00020643343735959492)\n",
            "(('for', 'the', 'first'), 0.00020643343735959492)\n",
            "(('if', 'he', 'were'), 0.00020643343735959492)\n",
            "(('man', 'in', 'the'), 0.00020643343735959492)\n",
            "(('the', 'edge', 'of'), 0.00020643343735959492)\n",
            "(('the', 'first', 'time'), 0.00020643343735959492)\n",
            "(('the', 'top', 'of'), 0.00020643343735959492)\n",
            "(('he', 'had', 'been'), 0.00019429029398550108)\n",
            "(('he', 'said', 'i'), 0.00019429029398550108)\n",
            "(('he', 'was', 'a'), 0.00019429029398550108)\n",
            "(('he', 'would', 'have'), 0.00019429029398550108)\n",
            "(('said', 'turnbull', 'with'), 0.00019429029398550108)\n",
            "(('do', \"n't\", 'you'), 0.00018214715061140726)\n",
            "(('if', 'he', 'had'), 0.00018214715061140726)\n",
            "(('it', 'was', 'not'), 0.00018214715061140726)\n",
            "(('man', 'with', 'the'), 0.00018214715061140726)\n",
            "(('that', 'they', 'were'), 0.00018214715061140726)\n",
            "(('and', 'all', 'the'), 0.00017000400723731344)\n",
            "(('for', 'an', 'instant'), 0.00017000400723731344)\n",
            "(('the', 'little', 'man'), 0.00017000400723731344)\n",
            "(('there', 'is', 'no'), 0.00017000400723731344)\n",
            "(('to', 'his', 'feet'), 0.00017000400723731344)\n",
            "(('said', 'in', 'a'), 0.00015786086386321963)\n",
            "(('then', 'he', 'said'), 0.00015786086386321963)\n",
            "(('top', 'of', 'the'), 0.00015786086386321963)\n",
            "(('turnbull', 'with', 'a'), 0.00015786086386321963)\n",
            "(('at', 'the', 'same'), 0.0001457177204891258)\n",
            "(('edge', 'of', 'the'), 0.0001457177204891258)\n",
            "(('end', 'of', 'the'), 0.0001457177204891258)\n"
          ],
          "name": "stdout"
        }
      ]
    },
    {
      "cell_type": "code",
      "metadata": {
        "colab": {
          "base_uri": "https://localhost:8080/"
        },
        "id": "qakfgivuIaDs",
        "outputId": "00831ab3-8a6c-46d9-b908-e4bd04bbf86e"
      },
      "source": [
        "finder = TrigramCollocationFinder.from_words(alphaemmawords)\r\n",
        "finder.apply_freq_filter(5)\r\n",
        "scored = finder.score_ngrams(trigram_measures.pmi)\r\n",
        "for bscore in scored[:50]:\r\n",
        "    print (bscore)"
      ],
      "execution_count": null,
      "outputs": [
        {
          "output_type": "stream",
          "text": [
            "(('literary', 'archive', 'foundation'), 26.904109594756882)\n",
            "(('gutenberg', 'literary', 'archive'), 25.614602977561898)\n",
            "(('small', 'print', 'statement'), 23.199565478283056)\n",
            "(('project', 'gutenberg', 'literary'), 22.807248055504296)\n",
            "(('mr.', 'cumberland', 'vane'), 20.227238347754195)\n",
            "(('st.', 'paul', \"'s\"), 19.860322798093517)\n",
            "(('this', 'small', 'print'), 18.2531465184879)\n",
            "(('the', 'eighteenth', 'century'), 17.38287269164611)\n",
            "(('half', 'an', 'hour'), 17.126397658247363)\n",
            "(('of', '_the', 'atheist_'), 16.99253098379732)\n",
            "(('does', 'not', 'exist'), 16.86520753621971)\n",
            "(('mr.', 'wilkinson', \"'s\"), 16.772859956843185)\n",
            "(('at', 'any', 'rate'), 16.708204293661577)\n",
            "(('editor', 'of', '_the'), 16.510379288659937)\n",
            "(('among', 'other', 'things'), 15.993661179735174)\n",
            "(('i', \"'m\", 'afraid'), 15.899520641119661)\n",
            "(('i', \"'m\", 'sure'), 15.45960847320179)\n",
            "(('a', 'few', 'moments'), 15.426049252808664)\n",
            "(('mr.', 'james', 'turnbull'), 15.236143900976089)\n",
            "(('a', 'few', 'yards'), 14.904096549613303)\n",
            "(('on', 'each', 'side'), 14.762002537454332)\n",
            "(('could', 'be', 'seen'), 14.65341640463824)\n",
            "(('a', 'great', 'deal'), 14.59280697517229)\n",
            "(('i', 'am', 'sure'), 14.306362212906105)\n",
            "(('do', \"n't\", 'believe'), 14.043712313555162)\n",
            "(('ca', \"n't\", 'be'), 13.974785423742247)\n",
            "(('do', \"n't\", 'want'), 13.89396519405048)\n",
            "(('the', 'project', 'gutenberg'), 13.79415805606385)\n",
            "(('might', 'have', 'been'), 13.740486123117385)\n",
            "(('for', 'an', 'instant'), 13.673162305573968)\n",
            "(('i', 'ca', \"n't\"), 13.532311666931431)\n",
            "(('the', 'flying', 'ship'), 13.33847857228766)\n",
            "(('may', 'i', 'ask'), 13.330653503032984)\n",
            "(('after', 'a', 'pause'), 13.24547700716684)\n",
            "(('my', 'name', 'is'), 13.171142673474876)\n",
            "(('across', 'the', 'lawn'), 13.15790632664584)\n",
            "(('you', 'ca', \"n't\"), 13.074645870124805)\n",
            "(('want', 'to', 'fight'), 12.938682688543665)\n",
            "(('do', \"n't\", 'think'), 12.811051556764884)\n",
            "(('mr.', 'evan', 'macian'), 12.710932207699983)\n",
            "(('i', 'am', 'going'), 12.649249926429114)\n",
            "(('would', 'have', 'been'), 12.557894709838905)\n",
            "(('the', 'whole', 'universe'), 12.537382640701736)\n",
            "(('you', 'mean', 'asked'), 12.524635122087144)\n",
            "(('do', \"n't\", 'know'), 12.509733741552807)\n",
            "(('we', 'shall', 'be'), 12.478777114750159)\n",
            "(('looking', 'at', 'him'), 12.472987831967547)\n",
            "(('you', 'will', 'find'), 12.450242629805757)\n",
            "(('do', 'you', 'mean'), 12.425830112031662)\n",
            "(('they', 'could', 'see'), 12.349494097805191)\n"
          ],
          "name": "stdout"
        }
      ]
    },
    {
      "cell_type": "code",
      "metadata": {
        "id": "RjLyAaUFIx9y"
      },
      "source": [
        ""
      ],
      "execution_count": null,
      "outputs": []
    }
  ]
}